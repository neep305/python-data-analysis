{
 "cells": [
  {
   "cell_type": "markdown",
   "metadata": {},
   "source": [
    "# Korean Bill"
   ]
  },
  {
   "cell_type": "code",
   "execution_count": 32,
   "metadata": {
    "collapsed": false
   },
   "outputs": [],
   "source": [
    "from konlpy.corpus import kobill    # Docs from pokr.kr/bill\n",
    "files_ko = kobill.fileids()         # Get file ids\n",
    "doc_ko = kobill.open('/1809890.txt').read()"
   ]
  },
  {
   "cell_type": "code",
   "execution_count": 33,
   "metadata": {
    "collapsed": false
   },
   "outputs": [],
   "source": [
    "from konlpy.tag import Twitter; t = Twitter()\n",
    "tokens_ko = t.morphs(doc_ko)"
   ]
  },
  {
   "cell_type": "code",
   "execution_count": 34,
   "metadata": {
    "collapsed": true
   },
   "outputs": [],
   "source": [
    "import nltk"
   ]
  },
  {
   "cell_type": "code",
   "execution_count": 35,
   "metadata": {
    "collapsed": false
   },
   "outputs": [],
   "source": [
    "ko = nltk.Text(tokens_ko, name='대한민국 국회 의안 제 1809890호')"
   ]
  },
  {
   "cell_type": "code",
   "execution_count": 36,
   "metadata": {
    "collapsed": false
   },
   "outputs": [
    {
     "name": "stdout",
     "output_type": "stream",
     "text": [
      "1707\n",
      "476\n"
     ]
    },
    {
     "data": {
      "text/plain": [
       "FreqDist({'%': 10,\n",
       "          '(': 27,\n",
       "          ')': 26,\n",
       "          ').': 1,\n",
       "          '+': 3,\n",
       "          ',': 26,\n",
       "          '-': 21,\n",
       "          '--------': 1,\n",
       "          '----------': 1,\n",
       "          '-------------------------': 1,\n",
       "          '---------------------------': 2,\n",
       "          '----------------------------': 4,\n",
       "          '--------------.': 1,\n",
       "          '-------------.---------------': 1,\n",
       "          '.': 61,\n",
       "          '/': 1,\n",
       "          '0': 5,\n",
       "          '02': 1,\n",
       "          '056': 1,\n",
       "          '1': 13,\n",
       "          '10': 6,\n",
       "          '11': 2,\n",
       "          '12': 1,\n",
       "          '145': 1,\n",
       "          '184': 1,\n",
       "          '185': 1,\n",
       "          '19': 1,\n",
       "          '2': 11,\n",
       "          '20': 1,\n",
       "          '200': 2,\n",
       "          '2007': 3,\n",
       "          '2008': 1,\n",
       "          '2009': 1,\n",
       "          '2010': 3,\n",
       "          '2011': 6,\n",
       "          '21': 2,\n",
       "          '29': 1,\n",
       "          '291': 1,\n",
       "          '3': 8,\n",
       "          '30': 1,\n",
       "          '34': 1,\n",
       "          '35': 1,\n",
       "          '396': 1,\n",
       "          '4': 8,\n",
       "          '40': 7,\n",
       "          '400': 1,\n",
       "          '41': 1,\n",
       "          '428': 1,\n",
       "          '43': 1,\n",
       "          '44': 1,\n",
       "          '4649': 1,\n",
       "          '5': 12,\n",
       "          '50': 1,\n",
       "          '571': 1,\n",
       "          '6': 16,\n",
       "          '600': 1,\n",
       "          '63': 5,\n",
       "          '658': 1,\n",
       "          '7': 6,\n",
       "          '71': 1,\n",
       "          '788': 1,\n",
       "          '796': 1,\n",
       "          '8': 12,\n",
       "          '836': 2,\n",
       "          '899': 1,\n",
       "          '9': 1,\n",
       "          '923': 1,\n",
       "          '929': 1,\n",
       "          '957': 1,\n",
       "          '9890': 1,\n",
       "          ':': 10,\n",
       "          '>': 5,\n",
       "          'A': 2,\n",
       "          'B': 2,\n",
       "          'N': 10,\n",
       "          'P': 9,\n",
       "          'X': 7,\n",
       "          '[': 4,\n",
       "          ']': 4,\n",
       "          'p': 6,\n",
       "          'tanzania@assembly.go.kr': 1,\n",
       "          '~': 1,\n",
       "          '·': 1,\n",
       "          '×': 17,\n",
       "          '“': 2,\n",
       "          '”': 2,\n",
       "          '․': 11,\n",
       "          '∼': 2,\n",
       "          '⋅': 2,\n",
       "          '①': 2,\n",
       "          '②': 2,\n",
       "          '③⋅④': 2,\n",
       "          '가': 16,\n",
       "          '가능': 4,\n",
       "          '가능한': 1,\n",
       "          '가정': 7,\n",
       "          '각': 1,\n",
       "          '값': 2,\n",
       "          '같': 4,\n",
       "          '같다': 2,\n",
       "          '같이': 2,\n",
       "          '개': 1,\n",
       "          '개정': 8,\n",
       "          '개정안': 3,\n",
       "          '거나': 1,\n",
       "          '것': 6,\n",
       "          '것임': 2,\n",
       "          '경비': 1,\n",
       "          '경우': 16,\n",
       "          '고': 5,\n",
       "          '고용': 14,\n",
       "          '고용노동부': 3,\n",
       "          '곧': 1,\n",
       "          '공': 1,\n",
       "          '공무원': 10,\n",
       "          '공포': 1,\n",
       "          '과': 11,\n",
       "          '관련': 2,\n",
       "          '관한': 2,\n",
       "          '교육': 4,\n",
       "          '구조': 1,\n",
       "          '국가': 2,\n",
       "          '국가공무원': 2,\n",
       "          '국회예산정책처': 2,\n",
       "          '권': 1,\n",
       "          '규정': 1,\n",
       "          '규칙': 1,\n",
       "          '그리고': 2,\n",
       "          '그만': 1,\n",
       "          '근거': 1,\n",
       "          '근로자': 3,\n",
       "          '급': 5,\n",
       "          '급여': 8,\n",
       "          '급할': 1,\n",
       "          '기': 1,\n",
       "          '기간': 1,\n",
       "          '기업체': 1,\n",
       "          '기자': 1,\n",
       "          '김': 1,\n",
       "          '김을동': 1,\n",
       "          '김정훈': 1,\n",
       "          '김학송': 1,\n",
       "          '까지': 1,\n",
       "          '까지의': 1,\n",
       "          '나': 1,\n",
       "          '나이': 2,\n",
       "          '날': 1,\n",
       "          '남녀': 1,\n",
       "          '내용': 1,\n",
       "          '년': 7,\n",
       "          '논의': 1,\n",
       "          '느': 1,\n",
       "          '는': 10,\n",
       "          '늘어날': 1,\n",
       "          '다': 23,\n",
       "          '다고': 4,\n",
       "          '다만': 1,\n",
       "          '다시': 1,\n",
       "          '다음': 5,\n",
       "          '단서': 1,\n",
       "          '단위': 1,\n",
       "          '달': 1,\n",
       "          '대': 1,\n",
       "          '대비하여': 1,\n",
       "          '대상': 2,\n",
       "          '대상자': 3,\n",
       "          '대입': 1,\n",
       "          '대체': 16,\n",
       "          '대통령령': 1,\n",
       "          '대표': 1,\n",
       "          '대한': 1,\n",
       "          '더': 2,\n",
       "          '델': 1,\n",
       "          '도': 2,\n",
       "          '돌보기': 1,\n",
       "          '동': 1,\n",
       "          '되': 2,\n",
       "          '되는': 1,\n",
       "          '되어': 1,\n",
       "          '되었': 1,\n",
       "          '된': 2,\n",
       "          '두어': 1,\n",
       "          '등': 1,\n",
       "          '따뜻한': 1,\n",
       "          '따라': 7,\n",
       "          '따라서': 3,\n",
       "          '따르': 2,\n",
       "          '따른': 2,\n",
       "          '때': 1,\n",
       "          '때문': 2,\n",
       "          '또는': 2,\n",
       "          '라': 1,\n",
       "          '라고': 1,\n",
       "          '라도': 1,\n",
       "          '략': 4,\n",
       "          '령': 1,\n",
       "          '로': 13,\n",
       "          '로서': 1,\n",
       "          '를': 18,\n",
       "          '만': 19,\n",
       "          '만들': 1,\n",
       "          '만원': 3,\n",
       "          '많은': 1,\n",
       "          '말한': 2,\n",
       "          '며': 1,\n",
       "          '면': 4,\n",
       "          '명': 5,\n",
       "          '모': 1,\n",
       "          '모델': 1,\n",
       "          '무': 1,\n",
       "          '문': 1,\n",
       "          '문대비': 1,\n",
       "          '문제': 1,\n",
       "          '므': 1,\n",
       "          '미': 3,\n",
       "          '미만': 2,\n",
       "          '및': 4,\n",
       "          '바탕': 2,\n",
       "          '박영아': 1,\n",
       "          '받는': 7,\n",
       "          '받던': 1,\n",
       "          '발': 1,\n",
       "          '발생': 3,\n",
       "          '발생하는': 4,\n",
       "          '발생하지': 3,\n",
       "          '발생한': 9,\n",
       "          '발의': 2,\n",
       "          '배': 1,\n",
       "          '번': 1,\n",
       "          '법': 4,\n",
       "          '법령': 2,\n",
       "          '법률': 7,\n",
       "          '법안': 1,\n",
       "          '변수': 1,\n",
       "          '보기': 1,\n",
       "          '보다': 2,\n",
       "          '보살핌': 1,\n",
       "          '보여': 2,\n",
       "          '보인': 2,\n",
       "          '보자': 1,\n",
       "          '볼': 1,\n",
       "          '부': 1,\n",
       "          '부모': 1,\n",
       "          '부모님': 1,\n",
       "          '부터': 2,\n",
       "          '분석관': 1,\n",
       "          '비': 1,\n",
       "          '비례': 1,\n",
       "          '비용': 17,\n",
       "          '사': 1,\n",
       "          '사랑': 1,\n",
       "          '사유': 3,\n",
       "          '사정': 1,\n",
       "          '상향': 1,\n",
       "          '생': 4,\n",
       "          '서': 3,\n",
       "          '세': 16,\n",
       "          '세로': 1,\n",
       "          '세이': 1,\n",
       "          '소요': 3,\n",
       "          '수': 7,\n",
       "          '수가': 1,\n",
       "          '수급': 2,\n",
       "          '수리': 1,\n",
       "          '수반': 1,\n",
       "          '수식': 5,\n",
       "          '순': 1,\n",
       "          '시키는': 1,\n",
       "          '시행': 2,\n",
       "          '신': 1,\n",
       "          '신청': 2,\n",
       "          '신청할': 1,\n",
       "          '실제': 1,\n",
       "          '아': 2,\n",
       "          '안': 6,\n",
       "          '안규백': 1,\n",
       "          '않': 4,\n",
       "          '않는': 2,\n",
       "          '않은': 1,\n",
       "          '알아보기': 2,\n",
       "          '액': 17,\n",
       "          '야': 2,\n",
       "          '양립': 1,\n",
       "          '양육': 2,\n",
       "          '어': 1,\n",
       "          '어느': 1,\n",
       "          '억원': 2,\n",
       "          '없으': 1,\n",
       "          '에': 24,\n",
       "          '에게': 7,\n",
       "          '에는': 4,\n",
       "          '에도': 2,\n",
       "          '에서': 11,\n",
       "          '에서는': 1,\n",
       "          '여': 12,\n",
       "          '여가': 1,\n",
       "          '여기': 1,\n",
       "          '여배': 1,\n",
       "          '여부': 2,\n",
       "          '여상규': 1,\n",
       "          '여의': 1,\n",
       "          '여자': 1,\n",
       "          '연': 2,\n",
       "          '연감': 1,\n",
       "          '연령': 8,\n",
       "          '연월일': 1,\n",
       "          '연장': 1,\n",
       "          '예산': 1,\n",
       "          '예상': 1,\n",
       "          '예상되는': 1,\n",
       "          '예상된': 3,\n",
       "          '예상됨': 1,\n",
       "          '예정': 1,\n",
       "          '와': 4,\n",
       "          '완': 1,\n",
       "          '요인': 1,\n",
       "          '용': 1,\n",
       "          '원': 3,\n",
       "          '원하면': 1,\n",
       "          '월': 8,\n",
       "          '월급': 9,\n",
       "          '위': 5,\n",
       "          '위하': 1,\n",
       "          '위하여': 2,\n",
       "          '위해서': 1,\n",
       "          '육': 2,\n",
       "          '육아': 1,\n",
       "          '육아휴직': 38,\n",
       "          '율': 1,\n",
       "          '으로': 7,\n",
       "          '은': 12,\n",
       "          '을': 34,\n",
       "          '음': 4,\n",
       "          '의': 46,\n",
       "          '의안': 1,\n",
       "          '의욕': 1,\n",
       "          '의원': 2,\n",
       "          '이': 26,\n",
       "          '이고': 1,\n",
       "          '이기': 1,\n",
       "          '이나': 2,\n",
       "          '이는': 1,\n",
       "          '이다': 2,\n",
       "          '이러한': 1,\n",
       "          '이며': 1,\n",
       "          '이명수': 1,\n",
       "          '이사철': 1,\n",
       "          '이상': 5,\n",
       "          '이어질': 1,\n",
       "          '이용': 1,\n",
       "          '이유': 1,\n",
       "          '이하': 18,\n",
       "          '인': 5,\n",
       "          '인건비': 2,\n",
       "          '인데': 1,\n",
       "          '인력': 13,\n",
       "          '인원': 1,\n",
       "          '일': 1,\n",
       "          '일반': 1,\n",
       "          '일부': 4,\n",
       "          '일용직': 1,\n",
       "          '일자리': 1,\n",
       "          '임금': 1,\n",
       "          '임신': 1,\n",
       "          '임용': 2,\n",
       "          '있': 1,\n",
       "          '있는': 2,\n",
       "          '있다': 3,\n",
       "          '있어': 1,\n",
       "          '있으': 1,\n",
       "          '자': 24,\n",
       "          '자녀': 14,\n",
       "          '자는': 1,\n",
       "          '자료': 6,\n",
       "          '작성': 1,\n",
       "          '작성자': 1,\n",
       "          '작성하면': 1,\n",
       "          '장': 1,\n",
       "          '재정': 4,\n",
       "          '저하': 1,\n",
       "          '저학년': 2,\n",
       "          '적': 1,\n",
       "          '전': 2,\n",
       "          '정': 3,\n",
       "          '정도': 1,\n",
       "          '정리하면': 1,\n",
       "          '정의': 1,\n",
       "          '정의화': 2,\n",
       "          '정확하게': 1,\n",
       "          '제': 13,\n",
       "          '제안': 1,\n",
       "          '조': 3,\n",
       "          '조정함': 2,\n",
       "          '조제': 7,\n",
       "          '종': 1,\n",
       "          '주': 2,\n",
       "          '주로': 1,\n",
       "          '주요': 1,\n",
       "          '주지': 2,\n",
       "          '중': 6,\n",
       "          '중인': 2,\n",
       "          '지': 2,\n",
       "          '지급': 3,\n",
       "          '지급하는': 2,\n",
       "          '지급하던': 2,\n",
       "          '지급해야': 2,\n",
       "          '지방': 5,\n",
       "          '지방공무원법': 4,\n",
       "          '지원': 1,\n",
       "          '직': 2,\n",
       "          '차': 1,\n",
       "          '차이': 1,\n",
       "          '채용': 1,\n",
       "          '첨부': 3,\n",
       "          '초등학교': 6,\n",
       "          '총': 1,\n",
       "          '추가': 8,\n",
       "          '추계': 4,\n",
       "          '추정': 1,\n",
       "          '추진': 1,\n",
       "          '출산': 2,\n",
       "          '취': 1,\n",
       "          '취학': 3,\n",
       "          '칙': 1,\n",
       "          '크': 2,\n",
       "          '태': 1,\n",
       "          '통계': 2,\n",
       "          '특별한': 1,\n",
       "          '팀': 2,\n",
       "          '평균': 2,\n",
       "          '평등': 1,\n",
       "          '표': 5,\n",
       "          '필요': 1,\n",
       "          '필요하거': 1,\n",
       "          '하': 1,\n",
       "          '하게': 1,\n",
       "          '하고': 5,\n",
       "          '하기': 2,\n",
       "          '하나': 1,\n",
       "          '하는': 1,\n",
       "          '하더': 2,\n",
       "          '하려': 1,\n",
       "          '하면': 1,\n",
       "          '하여': 5,\n",
       "          '하자': 1,\n",
       "          '하지': 1,\n",
       "          '학': 1,\n",
       "          '학년': 2,\n",
       "          '한': 12,\n",
       "          '한시': 1,\n",
       "          '할': 5,\n",
       "          '항': 3,\n",
       "          '항제': 4,\n",
       "          '해당': 1,\n",
       "          '해당하는': 1,\n",
       "          '해당한': 1,\n",
       "          '해당함': 1,\n",
       "          '행': 1,\n",
       "          '행정안전부': 2,\n",
       "          '현': 1,\n",
       "          '현재': 3,\n",
       "          '현행': 4,\n",
       "          '현행법': 1,\n",
       "          '현황': 3,\n",
       "          '호': 8,\n",
       "          '호의': 1,\n",
       "          '확대': 1,\n",
       "          '확대됨': 1,\n",
       "          '확률': 5,\n",
       "          '활용하는': 1,\n",
       "          '황영철': 1,\n",
       "          '휴': 2,\n",
       "          '휴직': 6,\n",
       "          '힘들': 1,\n",
       "          '｢': 5,\n",
       "          '｣': 5})"
      ]
     },
     "execution_count": 36,
     "metadata": {},
     "output_type": "execute_result"
    }
   ],
   "source": [
    "print(len(ko.tokens))       # returns number of tokens (document length)\n",
    "print(len(set(ko.tokens)))  # returns number of unique tokens\n",
    "ko.vocab()                  # returns frequency distribution"
   ]
  },
  {
   "cell_type": "code",
   "execution_count": 37,
   "metadata": {
    "collapsed": false
   },
   "outputs": [
    {
     "name": "stderr",
     "output_type": "stream",
     "text": [
      "/home/jason/dev/django/myvenv/lib/python3.4/site-packages/matplotlib/font_manager.py:273: UserWarning: Matplotlib is building the font cache using fc-list. This may take a moment.\n",
      "  warnings.warn('Matplotlib is building the font cache using fc-list. This may take a moment.')\n"
     ]
    },
    {
     "data": {
      "image/png": "[encoded data removed]",
      "text/plain": [
       "<matplotlib.figure.Figure at 0x7efbe6b89f98>"
      ]
     },
     "metadata": {},
     "output_type": "display_data"
    }
   ],
   "source": [
    "%matplotlib inline\n",
    "from matplotlib import font_manager, rc\n",
    "#font_fname = 'meiryob.ttc'     # A font of your choice\n",
    "#font_name = font_manager.FontProperties(fname=font_fname).get_name()\n",
    "font_manager.get_fontconfig_fonts() #한글폰트 설정\n",
    "font_info = {'family' : 'nanumgothic', 'weight' : 'bold', 'size'   : 9} #나눔고딕으로 설정. 다른 \n",
    "rc('font', **font_info)\n",
    "\n",
    "ko.plot(50)     # Plot sorted frequency of top 50 tokens"
   ]
  },
  {
   "cell_type": "code",
   "execution_count": 38,
   "metadata": {
    "collapsed": false
   },
   "outputs": [
    {
     "data": {
      "text/plain": [
       "6"
      ]
     },
     "execution_count": 38,
     "metadata": {},
     "output_type": "execute_result"
    }
   ],
   "source": [
    "ko.count('초등학교') # Counts occurrences"
   ]
  },
  {
   "cell_type": "code",
   "execution_count": 41,
   "metadata": {
    "collapsed": false
   },
   "outputs": [
    {
     "data": {
      "image/png": "[encoded data removed]",
      "text/plain": [
       "<matplotlib.figure.Figure at 0x7efbe6b8cbe0>"
      ]
     },
     "metadata": {},
     "output_type": "display_data"
    }
   ],
   "source": [
    "from nltk.draw.dispersion import dispersion_plot\n",
    "# dispersion_plot definition is changed : ko.dispersion_plot(['육아휴직', '초등학교', '공무원']) is no longer working.\n",
    "dispersion_plot(ko, ['육아휴직', '초등학교', '공무원'])"
   ]
  },
  {
   "cell_type": "code",
   "execution_count": 42,
   "metadata": {
    "collapsed": false
   },
   "outputs": [
    {
     "name": "stdout",
     "output_type": "stream",
     "text": [
      "Displaying 6 of 6 matches:\n",
      " ․ 김정훈 김학송 의원 ( 10 인 ) 제안 이유 및 주요 내용 초등학교 저학년 의 경우 에도 부모 의 따뜻한 사랑 과 보살핌 이 필요 한\n",
      " 을 할 수 있는 자녀 의 나이 는 만 6 세 이하 로 되어 있어 초등학교 저학년 인 자녀 를 돌보기 위해서 는 해당 부모님 은 일자리 를 \n",
      " 다 . 제 63 조제 2 항제 4 호 중 “ 만 6 세 이하 의 초등학교 취학 전 자녀 를 ” 을 “ 만 8 세 이하 ( 취학 중인 경우 \n",
      " 전 자녀 를 ” 을 “ 만 8 세 이하 ( 취학 중인 경우 에는 초등학교 2 학년 이하 를 말한 다 ) 의 자녀 를 ” 로 한 다 . 부 \n",
      " . ∼ 3 . ( 현행 과 같 음 ) 4 . 만 6 세 이하 의 초등학교 취 4 . 만 8 세 이하 ( 취학 중인 경우 학 전 자녀 를 양\n",
      "세 이하 ( 취학 중인 경우 학 전 자녀 를 양육 하기 위하 에는 초등학교 2 학년 이하 를 여 필요하거 나 여자 공무원 이 말한 다 ) 의\n"
     ]
    }
   ],
   "source": [
    "ko.concordance('초등학교')"
   ]
  },
  {
   "cell_type": "code",
   "execution_count": 43,
   "metadata": {
    "collapsed": false
   },
   "outputs": [
    {
     "name": "stdout",
     "output_type": "stream",
     "text": [
      "논의\n"
     ]
    }
   ],
   "source": [
    "ko.similar('자녀')"
   ]
  },
  {
   "cell_type": "code",
   "execution_count": 44,
   "metadata": {
    "collapsed": false
   },
   "outputs": [
    {
     "name": "stdout",
     "output_type": "stream",
     "text": [
      "\n"
     ]
    }
   ],
   "source": [
    "ko.similar('육아휴직')"
   ]
  },
  {
   "cell_type": "code",
   "execution_count": 45,
   "metadata": {
    "collapsed": false
   },
   "outputs": [
    {
     "name": "stdout",
     "output_type": "stream",
     "text": [
      "초등학교 저학년; 육아휴직 대상자\n"
     ]
    }
   ],
   "source": [
    "ko.collocations()"
   ]
  },
  {
   "cell_type": "code",
   "execution_count": 47,
   "metadata": {
    "collapsed": false
   },
   "outputs": [
    {
     "data": {
      "text/plain": [
       "[('작고', 'Noun'),\n",
       " ('노란', 'Adjective'),\n",
       " ('강아지', 'Noun'),\n",
       " ('가', 'Josa'),\n",
       " ('페르시안', 'Noun'),\n",
       " ('고양이', 'Noun'),\n",
       " ('에게', 'Josa'),\n",
       " ('짖었', 'Noun'),\n",
       " ('다', 'Josa')]"
      ]
     },
     "execution_count": 47,
     "metadata": {},
     "output_type": "execute_result"
    }
   ],
   "source": [
    "from konlpy.tag import Twitter; t = Twitter()\n",
    "tags_ko = t.pos(\"작고 노란 강아지가 페르시안 고양이에게 짖었다\")\n",
    "tags_ko"
   ]
  },
  {
   "cell_type": "code",
   "execution_count": 49,
   "metadata": {
    "collapsed": false
   },
   "outputs": [],
   "source": [
    "parser_ko = nltk.RegexpParser(\"NP: {<Adjective><Noun>}\")\n",
    "chunks_ko = parser_ko.parse(tags_ko)\n",
    "chunks_ko.draw() # if module is not installed, you should install python3-tk (run this : sudo apt-get install python3-tk)"
   ]
  },
  {
   "cell_type": "markdown",
   "metadata": {},
   "source": [
    "# Preprocessing"
   ]
  },
  {
   "cell_type": "markdown",
   "metadata": {},
   "source": [
    "1. Load documents"
   ]
  },
  {
   "cell_type": "code",
   "execution_count": 50,
   "metadata": {
    "collapsed": true
   },
   "outputs": [],
   "source": [
    "from konlpy.corpus import kobill\n",
    "docs_ko = [kobill.open(i).read() for i in kobill.fileids()]"
   ]
  },
  {
   "cell_type": "code",
   "execution_count": 52,
   "metadata": {
    "collapsed": false
   },
   "outputs": [
    {
     "name": "stdout",
     "output_type": "stream",
     "text": [
      "['국군/Noun', '부대/Noun', '의/Josa', '아랍에미리트/Noun', '(/Punctuation', 'UAE/Alpha', ')/Punctuation', '군/Noun', '교육/Noun', '훈련/Noun', '지원/Noun', '등/Noun', '에/Josa', '관/Noun', '하다/Verb', '파견/Noun', '동의/Noun', '안/Noun', '의안/Noun', '제출/Noun', '연월일/Noun', ':/Punctuation', '2010/Number', './Punctuation', '11/Number', './Punctuation', '15/Number', './Punctuation', '9897/Number', '번호/Noun', '제/Noun', '추다/Verb', '자/Noun', ':/Punctuation', '정/Noun', '부/Noun', '제안/Noun', '이유/Noun', '가다/Verb', './Punctuation', 'UAE/Alpha', '측/Suffix', '요청/Noun', '과/Josa', '협의/Noun', '에/Josa', '따르다/Verb', ',/Punctuation', '국익/Noun', '창/Noun', '추다/Verb', '다양하다/Adjective', '지역/Noun', '에서의/Josa', '우리/Noun', '특/Noun', '전부/Noun', '대/Suffix', '임무/Noun', '수행/Noun', '능력/Noun', '향상/Noun', '등/Noun', '을/Josa', '목적/Noun', '으로/Josa', '국군/Noun', '부대/Noun', '를/Josa', 'UAE/Alpha', '에/Josa', '파견/Noun', '하다/Verb', '것임/Noun', './Punctuation', '나/Noun', './Punctuation', '국군/Noun', '부대/Noun', '파견/Noun', '을/Josa', '계기/Noun', '로/Josa', '우리/Noun', '특/Noun', '전부/Noun', '대의/Noun', '전투력/Noun', '향상/Noun', '은/Josa', '물론/Noun', ',/Punctuation', 'UAE/Alpha', '에/Josa', '대한/Noun', '방산수/Noun', '추다/Verb', '협력/Noun', '확대/Noun', ',/Punctuation', '국방/Noun', '운영체계/Noun', '수출/Noun', ',/Punctuation', '예비역/Noun', '및/Noun', '민간/Noun', '전문/Noun', '인력/Noun', '진출/Noun', ',/Punctuation', '양국/Noun', '간/Suffix', '경제/Noun', '협력/Noun', '확대/Noun', '등/Noun', '이/Josa', '기대/Noun', '되다/Verb', './Punctuation', '주요/Noun', '내용/Noun', '가다/Verb', './Punctuation', '국군/Noun', '부대/Noun', '의/Josa', '임무/Noun', '는/Josa', 'UAE/Alpha', '군/Noun', '특수전/Noun', '부대/Noun', '에/Josa', '대한/Noun', '교육/Noun', '훈련/Noun', '지원/Noun', ',/Punctuation', 'UAE/Alpha', '군/Noun', '특수전/Noun', '부대/Noun', '와/Josa', '연합/Noun', '훈련/Noun', '및/Noun', '연습/Noun', ',/Punctuation', '유사시/Noun', '우리/Noun', '국민/Noun', '보호/Noun', '임/Noun', './Punctuation', '나/Noun', './Punctuation', '파견/Noun', '규모/Noun', '는/Josa', '150/Number', '명/Noun', '이내/Noun', '이며/Josa', ',/Punctuation', '파견/Noun', '지역/Noun', '은/Josa', 'UAE/Alpha', '아부다비/Noun', '주/Noun', '알아인/Noun', '소재/Noun', '특수전/Noun', '학교/Noun', '임/Noun', './Punctuation', '다/Adverb', './Punctuation', '파견/Noun', '기간/Noun', '은/Josa', '2011/Number', '년/Noun', '1/Number', '월/Noun', '1/Number', '일/Noun', '부터/Josa', '2012/Number', '년/Noun', '12/Number', '월/Noun', '31/Number', '일/Noun', '까지/Josa', '임/Noun', './Punctuation', '라/Josa', './Punctuation', '부대/Noun', '지휘/Noun', '권/Suffix', '은/Josa', '한국/Noun', '군/Suffix', '이/Josa', '보유/Noun', '하다/Verb', '우리/Noun', '합동/Noun', '참모/Noun', '의장/Noun', '이/Josa', '작전/Noun', '지휘/Noun', '함/Noun', './Punctuation', '마/Noun', './Punctuation', '국군/Noun', '부대/Noun', '의/Josa', '파견/Noun', '경비/Noun', '는/Josa', '우리/Noun', '정부/Noun', '의/Josa', '부담/Noun', '으로/Josa', '함/Noun', './Punctuation', '참고/Noun', '사항/Noun', '가다/Verb', './Punctuation', '관련/Noun', '법령/Noun', ':/Punctuation', '헌법/Noun', '제/Noun', '60/Number', '조/Noun', '제/Noun', '2/Number', '항/Noun', '나/Noun', './Punctuation', '예산/Noun', '조치/Noun', ':/Punctuation', '국회/Noun', '동의/Noun', '후/Noun', '2011/Number', '년도/Noun', '예산안/Noun', '에/Josa', '대한/Noun', '국회/Noun', '심의/Noun', '과정/Noun', '에서/Noun', '반영/Noun', '추진/Noun', '다/Adverb', './Punctuation', '합/Noun', '의/Noun', ':/Punctuation', '외교통상부/Noun', ',/Punctuation', '기획재정부/Noun', '와/Josa', '합의/Noun', '되어다/Verb', './Punctuation', '-/Punctuation', '1/Number', '-/Punctuation', '국군/Noun', '부대/Noun', '의/Josa', '아랍에미리트/Noun', '(/Punctuation', 'UAE/Alpha', ')/Punctuation', '군/Noun', '교육/Noun', '훈련/Noun', '지원/Noun', '등/Noun', '에/Josa', '관/Noun', '하다/Verb', '파견/Noun', '동의/Noun', '안/Noun', 'UAE/Alpha', '군/Noun', '교육/Noun', '훈련/Noun', '지원/Noun', '등/Noun', '을/Josa', '위해/Noun', '150/Number', '명/Noun', '이내/Noun', '의/Josa', '국군/Noun', '부대/Noun', '를/Josa', '2011/Number', '년/Noun', '1/Number', '월/Noun', '1/Number', '일/Noun', '부터/Josa', '2012/Number', '년/Noun', '12/Number', '월/Noun', '31/Number', '일/Noun', '까지/Josa', '2/Number', '년/Noun', '간/Suffix', 'UAE/Alpha', '에/Josa', '파견/Noun', '하다/Verb', '것/Noun', '을/Josa', '헌법/Noun', '제/Noun', '60/Number', '조/Noun', '제/Noun', '2/Number', '항의/Noun', '규정/Noun', '에/Josa', '따르다/Verb', '동의/Noun', '하다/Verb', './Punctuation', '-/Punctuation', '3/Number', '-/Punctuation', '1/Number', './Punctuation', '국군/Noun', '부대/Noun', '파견/Noun', '목적/Noun', '및/Noun', '경과/Noun', '가다/Verb', './Punctuation', '파견/Noun', '목적/Noun', 'UAE/Alpha', '측/Suffix', '요청/Noun', '과/Josa', '협의/Noun', '에/Josa', '따르다/Verb', ',/Punctuation', '국익/Noun', '창/Noun', '추다/Verb', '다양하다/Adjective', '지역/Noun', '에서의/Josa', '우리/Noun', '특/Noun', '전부/Noun', '대/Suffix', '임무/Noun', '수행/Noun', '능력/Noun', '향상/Noun', '등/Noun', '을/Josa', '목적/Noun', '으로/Josa', '국군/Noun', '부대/Noun', '를/Josa', 'UAE/Alpha', '에/Josa', '파견/Noun', '하다/Verb', '것임/Noun', './Punctuation', '나/Noun', './Punctuation', '파견/Noun', '경위/Noun', '및/Noun', '경과/Noun', '○/Foreign', '’/Foreign', '09/Number', './Punctuation', '12/Number', '하다/Verb', '-/Punctuation', 'UAE/Alpha', '관계/Noun', '가/Josa', '‘/Foreign', '포괄/Noun', '적/Suffix', '‧/Foreign', '전략/Noun', '적/Suffix', '동반/Noun', '자/Suffix', '관계/Noun', '’/Foreign', '로/Noun', '격상/Noun', '되다/Verb', '군사/Noun', '협력/Noun', '관계도/Noun', '강화/Noun', '○/Foreign', '’/Foreign', '10/Number', './Punctuation', '2/Number', 'UAE/Alpha', '군/Noun', '총/Noun', '참모/Noun', '장/Suffix', '방한/Noun', '시/Noun', '군사/Noun', '협력/Noun', '방안/Noun', '을/Josa', '폭넓다/Adjective', '논의/Noun', '하다/Verb', '이후/Noun', ',/Punctuation', '군사/Noun', '협력/Noun', '이/Josa', '급속히/Adverb', '발전/Noun', '○/Foreign', '’/Foreign', '10/Number', './Punctuation', '5/Number', 'UAE/Alpha', '국빈/Noun', '방한/Noun', '으로/Josa', '군사/Noun', '협력/Noun', '심화/Noun', '‧/Foreign', '확대/Noun', '계기/Noun', '마련/Noun', '∙/Foreign', '특전사/Noun', '방문/Noun', '시/Noun', '한국/Noun', '특/Noun', '전부/Noun', '대의/Noun', '우수/Noun', '성/Suffix', '을/Josa', '매우/Noun', '높이/Noun', '평가/Noun', ',/Punctuation', '교육/Noun', '훈련/Noun', '지원/Noun', '등/Noun', '세부/Noun', '협력/Noun', '방안/Noun', '발전/Noun', '요청/Noun', '○/Foreign', '’/Foreign', '10/Number', './Punctuation', '8/Number', '국방/Noun', '장관/Noun', '의/Josa', 'UAE/Alpha', '방문/Noun', '시/Noun', 'UAE/Alpha', '측/Noun', '이/Josa', '한국/Noun', '군/Suffix', '특/Noun', '전부/Noun', '대의/Noun', 'UAE/Alpha', '파견/Noun', '과/Josa', '긴밀/Noun', '한/Josa', '훈련/Noun', '협력/Noun', '을/Josa', '우리/Noun', '측/Suffix', '에/Josa', '요청/Noun', '○/Foreign', '’/Foreign', '10/Number', './Punctuation', '10/Number', '군/Noun', '현지/Noun', '실/Noun', '사단/Noun', '파견/Noun', ',/Punctuation', '부대/Noun', '파견/Noun', '여건/Noun', '확인/Noun', '‧/Foreign', '점검/Noun', '○/Foreign', '’/Foreign', '10/Number', './Punctuation', '11/Number', '외교부/Noun', ',/Punctuation', '기획재정부/Noun', '등/Noun', '과/Josa', '부대/Noun', '파견/Noun', '계획/Noun', '협조/Noun', '완료/Noun', '○/Foreign', '’/Foreign', '10/Number', './Punctuation', '11/Number', './Punctuation', '9/Number', '국무회의/Noun', ',/Punctuation', '｢/Foreign', '국군/Noun', '부대/Noun', '의/Josa', '아랍에미리트/Noun', '(/Punctuation', 'UAE/Alpha', ')/Punctuation', '군/Noun', '교육/Noun', '훈련/Noun', '지원/Noun', '등/Noun', '에/Josa', '관/Noun', '하다/Verb', '파견/Noun', '동의/Noun', '안/Noun', '｣/Foreign', '심의/Noun', '·/Foreign', '의결/Noun', '-/Punctuation', '5/Number', '-/Punctuation', '2/Number', './Punctuation', '기본/Noun', '계획/Noun', '-/Punctuation', '6/Number', '-/Punctuation', '가다/Verb', './Punctuation', '파견/Noun', '부대/Noun', '규모/Noun', ':/Punctuation', '150/Number', '명/Noun', '이내/Noun', '(/Punctuation', '1/Number', '진/Noun', '130/Number', '명/Noun', ',/Punctuation', '특전사/Noun', '위주/Noun', ')/Punctuation', '*/Punctuation', '특수전/Noun', '교육/Noun', '훈련/Noun', '지원/Noun', '및/Noun', '연합/Noun', '훈련/Noun', '을/Josa', '위/Noun', '하다/Verb', '최소/Noun', '규모/Noun', '의/Josa', '단위/Noun', '부대/Noun', '편성/Noun', '나/Noun', './Punctuation', '파견/Noun', '지역/Noun', ':/Punctuation', 'UAE/Alpha', '아부다비/Noun', '주/Noun', '알/Noun', '아인/Noun', '소재/Noun', '특수전/Noun', '학교/Noun', '다/Adverb', './Punctuation', '임/Noun', '무/Noun', '○/Foreign', 'UAE/Alpha', '군/Noun', '특수전/Noun', '부대/Noun', '에/Josa', '대한/Noun', '교육/Noun', '훈련/Noun', '지원/Noun', '○/Foreign', 'UAE/Alpha', '군/Noun', '특수전/Noun', '부대/Noun', '와의/Josa', '연합/Noun', '훈련/Noun', '및/Noun', '연습/Noun', '○/Foreign', '유사시/Noun', '우리/Noun', '국민/Noun', '보호/Noun', '라/Josa', './Punctuation', '파견/Noun', '기간/Noun', ':/Punctuation', '2011/Number', '년/Noun', '1/Number', '월/Noun', '1/Number', '일/Noun', '부터/Josa', '2012/Number', '년/Noun', '12/Number', '월/Noun', '31/Number', '일/Noun', '까지/Josa', '○/Foreign', '필요시/Noun', '협조/Noun', '장교/Noun', '및/Noun', '선발/Noun', '대/Suffix', '인원/Noun', '은/Josa', '사전/Noun', '에/Josa', '파견/Noun', '마/Noun', './Punctuation', '부대/Noun', '교대/Noun', ':/Punctuation', '4/Number', '～/Foreign', '6/Number', '개월/Noun', '주기/Noun', '로/Josa', '현지/Noun', '에서/Josa', '임무/Noun', '교대/Noun', '바/Noun', './Punctuation', '파견/Noun', '부대/Noun', '지휘/Noun', '○/Foreign', '부대/Noun', '지휘/Noun', '권/Suffix', '은/Josa', '한국/Noun', '군/Suffix', '이/Josa', '보유/Noun', '○/Foreign', '합동/Noun', '참모/Noun', '의장/Noun', '이/Josa', '작전/Noun', '지휘/Noun', '*/Punctuation', '육/Noun', '보다/Verb', '및/Noun', '특전사/Noun', '에서/Josa', '전투/Noun', '근무/Noun', '지원/Noun', '및/Noun', '교육/Noun', '훈련/Noun', '지도/Noun', '감독/Noun', '사/Noun', './Punctuation', '부대/Noun', '파견/Noun', '및/Noun', '임무/Noun', '수행/Noun', '경비/Noun', '는/Josa', '우리/Noun', '정부/Noun', '가/Josa', '부담/Noun', '*/Punctuation', '부대/Noun', '주둔/Noun', '시설/Noun', ',/Punctuation', '훈련/Noun', '장/Suffix', '등/Noun', '은/Josa', 'UAE/Alpha', '측/Noun', '에서/Josa', '제공/Noun', '3/Number', './Punctuation', '예산/Noun', '소요/Noun', '가다/Verb', './Punctuation', \"'/Punctuation\", '11/Number', '년도/Noun', '소요/Noun', '예산/Noun', ':/Punctuation', '약/Noun', '137/Number', '억원/Noun', '나/Noun', './Punctuation', '예산/Noun', '조치/Noun', ':/Punctuation', '국회/Noun', '동의/Noun', '후/Noun', '2011/Number', '년도/Noun', '예산안/Noun', '에/Josa', '대한/Noun', '국회/Noun', '심의/Noun', '과정/Noun', '에서/Josa', '반영/Noun', '추진/Noun', '국군/Noun', '부대/Noun', '의/Josa', '아랍에미리트/Noun', '(/Punctuation', 'UAE/Alpha', ')/Punctuation', '군/Noun', '교육/Noun', '훈련/Noun', '지원/Noun', '등/Noun', '에/Josa', '관/Noun', '하다/Verb', '파견/Noun', '동의/Noun', '안/Noun', '비용/Noun', '추계/Noun', '서/Josa', '1/Number', './Punctuation', '비용/Noun', '추계/Noun', '요약/Noun', '가다/Verb', './Punctuation', '재정/Noun', '수반/Noun', '요인/Noun', ':/Punctuation', '부대/Noun', '의/Josa', '파견/Noun', '경비/Noun', '는/Josa', '우리/Noun', '정부/Noun', '의/Josa', '부담/Noun', '으로/Josa', '함/Noun', './Punctuation', '나/Noun', './Punctuation', '비용/Noun', '추계/Noun', '의/Josa', '전제/Noun', ':/Punctuation', '국군/Noun', '부대/Noun', '의/Josa', 'UAE/Alpha', '교육/Noun', '훈련/Noun', '지원/Noun', '등/Noun', '에/Josa', '관/Noun', '하다/Verb', '파견/Noun', '동의/Noun', '안/Noun', '○/Foreign', '파견/Noun', '연장/Noun', '기간/Noun', ':/Punctuation', '2011/Number', '년/Noun', '1/Number', '월/Noun', '1/Number', '일/Noun', '부터/Josa', '2012/Number', '년/Noun', '12/Number', '월/Noun', '31/Number', '일/Noun', '까지/Josa', '○/Foreign', '파견/Noun', '부대/Noun', '규모/Noun', ':/Punctuation', '150/Number', '명/Noun', '이내/Noun', '다/Adverb', './Punctuation', '비용/Noun', '추계/Noun', '의/Josa', '결과/Noun', '연/Noun', '도/Noun', '구/Noun', '분/Noun', '◦/Foreign', '인/Noun', '건/Noun', '비/Noun', '◦/Foreign', '운/Noun', '영/Noun', '비/Noun', '소/Noun', '계/Noun', '(/Punctuation', 'a/Alpha', ')/Punctuation', '-/Punctuation', '소/Noun', '계/Noun', '(/Punctuation', 'b/Alpha', ')/Punctuation', '지다/Verb', '추다/Verb', '수/Noun', '입/Noun', '2011/Number', '2/Number', ',/Punctuation', '398/Number', '11/Number', ',/Punctuation', '312/Number', '13/Number', ',/Punctuation', '710/Number', '-/Punctuation', '-/Punctuation', '2012/Number', '2/Number', ',/Punctuation', '398/Number', '5/Number', ',/Punctuation', '383/Number', '7/Number', ',/Punctuation', '781/Number', '-/Punctuation', '-/Punctuation', '단위/Noun', ':/Punctuation', '백만원/Noun', '합/Noun', '계/Noun', '4/Number', ',/Punctuation', '796/Number', '16/Number', ',/Punctuation', '695/Number', '21/Number', ',/Punctuation', '491/Number', '-/Punctuation', '-/Punctuation', '□/Foreign', '총/Noun', '비용/Noun', '(/Punctuation', 'a/Alpha', '-/Punctuation', 'b/Alpha', ')/Punctuation', '13/Number', ',/Punctuation', '710/Number', '7/Number', ',/Punctuation', '781/Number', '21/Number', ',/Punctuation', '491/Number', '라/Josa', './Punctuation', '부대/Noun', '의견/Noun', ':/Punctuation', '없다/Adjective', './Punctuation', '마/Noun', './Punctuation', '작성자/Noun', ':/Punctuation', '작성자/Noun', '이름/Noun', '국방부/Noun', '국제/Noun', '평화/Noun', '협력/Noun', '과장/Noun', '대령/Noun', '유재/Noun', '익/Noun', '연락처/Noun', '02/Number', ')/Punctuation', '748/Number', '-/Punctuation', '6350/Number', '-/Punctuation', '7/Number', '-/Punctuation', '-/Punctuation', '8/Number', '-/Punctuation', '2/Number', './Punctuation', '비용/Noun', '추계/Noun', '의/Josa', '상세/Noun', '내/Determiner', '역/Noun', '가다/Verb', './Punctuation', '지다/Verb', '추다/Verb', '○/Foreign', '부대/Noun', '운영/Noun', '//Punctuation', '유지/Noun', '비용/Noun', ':/Punctuation', '21/Number', ',/Punctuation', '491/Number', '백만원/Noun', '단위/Noun', ':/Punctuation', '백만원/Noun', '구/Noun', '분/Noun', '계/Noun', '◦/Foreign', '해외/Noun', '파견/Noun', '근무/Noun', '수당/Noun', '◦/Foreign', '증/Noun', '식/Noun', '//Punctuation', '피/Noun', '복/Noun', '비/Noun', '◦/Foreign', '수/Noun', '송/Noun', '비/Noun', '◦/Foreign', '장비/Noun', '//Punctuation', '물자/Noun', '획득/Noun', '‧/Foreign', '유지비/Noun', '◦/Foreign', '기타/Noun', '부대/Noun', '운영/Noun', '비/Noun', '2011/Number', '13/Number', ',/Punctuation', '710/Number', '2/Number', ',/Punctuation', '398/Number', '1/Number', ',/Punctuation', '335/Number', '1/Number', ',/Punctuation', '772/Number', '6/Number', ',/Punctuation', '074/Number', '2/Number', ',/Punctuation', '131/Number', '나/Noun', './Punctuation', '수/Noun', '입/Noun', ':/Punctuation', '-/Punctuation', '2012/Number', '7/Number', ',/Punctuation', '781/Number', '2/Number', ',/Punctuation', '398/Number', '1/Number', ',/Punctuation', '315/Number', '1/Number', ',/Punctuation', '072/Number', '913/Number', '2/Number', ',/Punctuation', '083/Number', '국군/Noun', '부대/Noun', '의/Josa', '아랍에미리트/Noun', '(/Punctuation', 'UAE/Alpha', ')/Punctuation', '군/Noun', '교육/Noun', '훈련/Noun', '지원/Noun', '등/Noun', '에/Josa', '관/Noun', '하다/Verb', '파견/Noun', '동의/Noun', '안/Noun', '재원/Noun', '조달/Noun', '계획/Noun', '서/Josa', '1/Number', './Punctuation', '부문/Noun', '별/Noun', '재원/Noun', '분담/Noun', '계획/Noun', '단위/Noun', ':/Punctuation', '백만원/Noun', '연/Noun', '도/Noun', '구/Noun', '분/Noun', '□/Foreign', '중앙정부/Noun', '◦/Foreign', '일반/Noun', '회계/Noun', '◦/Foreign', '예/Noun', '비/Noun', '비/Noun', '□/Foreign', '지방자치/Noun', '단계/Noun', '□/Foreign', '그/Noun', '밖/Noun', '의/Josa', '공공/Noun', '단체/Noun', '□/Foreign', '민/Noun', '간/Noun', '□/Foreign', '합/Noun', '계/Noun', '2011/Number', '13/Number', ',/Punctuation', '710/Number', '13/Number', ',/Punctuation', '710/Number', '-/Punctuation', '-/Punctuation', '-/Punctuation', '-/Punctuation', '2012/Number', '이후/Noun', '합/Noun', '계/Noun', '7/Number', ',/Punctuation', '781/Number', '7/Number', ',/Punctuation', '781/Number', '21/Number', ',/Punctuation', '491/Number', '21/Number', ',/Punctuation', '491/Number', '-/Punctuation', '-/Punctuation', '-/Punctuation', '-/Punctuation', '-/Punctuation', '-/Punctuation', '-/Punctuation', '-/Punctuation', '13/Number', ',/Punctuation', '710/Number', '7/Number', ',/Punctuation', '781/Number', '21/Number', ',/Punctuation', '491/Number', '2/Number', './Punctuation', '재원/Noun', '조달/Noun', '의/Josa', '구체/Noun', '적/Suffix', '인/Josa', '방안/Noun', '국군/Noun', '부대/Noun', '의/Josa', 'UAE/Alpha', '군/Noun', '교육/Noun', '훈련/Noun', '지원/Noun', '등/Noun', '에/Josa', '관/Noun', '하다/Verb', '파견/Noun', '동의/Noun', '안/Noun', '에/Josa', '따르다/Verb', '소요/Noun', '예산/Noun', '은/Josa', '2011/Number', '년도/Noun', '정부/Noun', '예산/Noun', '에서/Josa', '137/Number', '억원/Noun', '을/Josa', '지출/Noun', '하다/Verb', '예정/Noun', '임/Noun', './Punctuation', '3/Number', './Punctuation', '부대/Noun', '의견/Noun', ':/Punctuation', '없다/Adjective', './Punctuation', '4/Number', './Punctuation', '협의/Noun', '사항/Noun', ':/Punctuation', '국회/Noun', '동의/Noun', '결과/Noun', '에/Josa', '따르다/Verb', '기획재정부/Noun', '와/Josa', '협의/Noun', '함/Noun', './Punctuation', '5/Number', './Punctuation', '작성자/Noun', '작성자/Noun', '이름/Noun', '국방부/Noun', '국제/Noun', '평화/Noun', '협력/Noun', '과장/Noun', '대령/Noun', '유재/Noun', '익/Noun', '연락처/Noun', '02/Number', ')/Punctuation', '748/Number', '-/Punctuation', '6350/Number', '-/Punctuation', '9/Number', '-/Punctuation', '-/Punctuation', '10/Number', '-/Punctuation', '〈/Foreign', '의안/Noun', '소관/Noun', '부서/Noun', '명/Suffix', '〉/Foreign', '국방부/Noun', '국방/Noun', '정책/Noun', '실/Noun', '국제/Noun', '평화/Noun', '협력/Noun', '과/Noun', '연/Noun', '락/Noun', '처/Noun', '(/Punctuation', '02/Number', ')/Punctuation', '748/Number', '-/Punctuation', '6350/Number']\n"
     ]
    }
   ],
   "source": [
    "from konlpy.tag import Twitter; t = Twitter()\n",
    "pos = lambda d: ['/'.join(p) for p in t.pos(d, stem=True, norm=True)]\n",
    "texts_ko = [pos(doc) for doc in docs_ko]\n",
    "print(texts_ko[0])"
   ]
  },
  {
   "cell_type": "code",
   "execution_count": 55,
   "metadata": {
    "collapsed": false
   },
   "outputs": [],
   "source": [
    "from gensim import corpora\n",
    "dictionary_ko = corpora.Dictionary(texts_ko)\n",
    "dictionary_ko.save('ko.dict')"
   ]
  },
  {
   "cell_type": "code",
   "execution_count": 56,
   "metadata": {
    "collapsed": false
   },
   "outputs": [
    {
     "name": "stdout",
     "output_type": "stream",
     "text": [
      "[(0, 1), (1, 2), (2, 2), (3, 1), (4, 1), (5, 1), (6, 13), (7, 3), (8, 2), (9, 1)]\n",
      "[(339, 64), (222, 50), (382, 41), (282, 34), (344, 32), (306, 27), (150, 24), (281, 22), (380, 20), (136, 18)]\n",
      "지급/Noun\n"
     ]
    }
   ],
   "source": [
    "from gensim import models\n",
    "tf_ko = [dictionary_ko.doc2bow(text) for text in texts_ko]\n",
    "tfidf_model_ko = models.TfidfModel(tf_ko)\n",
    "tfidf_ko = tfidf_model_ko[tf_ko]\n",
    "corpora.MmCorpus.serialize('ko.mm', tfidf_ko) # save corpus to file for future use\n",
    "\n",
    "# print first 10 elements of first document's tf-idf vector\n",
    "print(tfidf_ko.corpus[0][:10])\n",
    "\n",
    "# print top 10 elements of first document's tf-idf vector\n",
    "print(sorted(tfidf_ko.corpus[0], key=lambda x: x[1], reverse=True)[:10])\n",
    "\n",
    "# print token of most frequent element\n",
    "print(dictionary_ko.get(414))"
   ]
  },
  {
   "cell_type": "code",
   "execution_count": 57,
   "metadata": {
    "collapsed": false
   },
   "outputs": [
    {
     "name": "stdout",
     "output_type": "stream",
     "text": [
      "[(0, '0.518*\"육아휴직/Noun\" + 0.257*\"만/Noun\" + 0.227*\"×/Foreign\" + 0.214*\"대체/Noun\" + 0.201*\"고용/Noun\"'), (1, '-0.449*\"파견/Noun\" + -0.412*\"부대/Noun\" + -0.267*\"UAE/Alpha\" + -0.243*\"○/Foreign\" + -0.192*\"국군/Noun\"'), (2, '-0.326*\"결혼/Noun\" + -0.315*\"예고/Noun\" + -0.285*\"손해/Noun\" + -0.205*\"ㆍ/Foreign\" + -0.197*\"원사/Noun\"')]\n"
     ]
    }
   ],
   "source": [
    "ntopics, nwords = 3, 5\n",
    "lsi_ko = models.lsimodel.LsiModel(tfidf_ko, id2word=dictionary_ko, num_topics=ntopics)\n",
    "print(lsi_ko.print_topics(num_topics=ntopics, num_words=nwords))"
   ]
  },
  {
   "cell_type": "code",
   "execution_count": 58,
   "metadata": {
    "collapsed": false
   },
   "outputs": [
    {
     "name": "stdout",
     "output_type": "stream",
     "text": [
      "[(0, '0.002*육아휴직/Noun + 0.002*결혼/Noun + 0.002*손해/Noun + 0.001*대체/Noun + 0.001*만/Noun'), (1, '0.001*육아휴직/Noun + 0.001*부대/Noun + 0.001*파견/Noun + 0.001*第/Foreign + 0.001*○/Foreign'), (2, '0.002*육아휴직/Noun + 0.002*학위/Noun + 0.001*간호/Noun + 0.001*×/Foreign + 0.001*만/Noun')]\n"
     ]
    }
   ],
   "source": [
    "import numpy as np; np.random.seed(42)  # optional\n",
    "lda_ko = models.ldamodel.LdaModel(tfidf_ko, id2word=dictionary_ko, num_topics=ntopics)\n",
    "print(lda_ko.print_topics(num_topics=ntopics, num_words=nwords))"
   ]
  },
  {
   "cell_type": "code",
   "execution_count": 59,
   "metadata": {
    "collapsed": false
   },
   "outputs": [
    {
     "name": "stdout",
     "output_type": "stream",
     "text": [
      "['topic 0: 0.004*느/Noun + 0.004*이사철/Noun + 0.004*923/Number + 0.004*난민/Noun + 0.004*팀/Noun', 'topic 1: 0.005*최초/Noun + 0.004*자원/Noun + 0.004*·/Foreign + 0.004*당사자/Noun + 0.004*자본금/Noun', 'topic 2: 0.004*중/Noun + 0.004*세심/Noun + 0.004*정이/Noun + 0.004*LYNX/Alpha + 0.003*로써/Noun']\n"
     ]
    }
   ],
   "source": [
    "import numpy as np; np.random.seed(42)  # optional\n",
    "hdp_ko = models.hdpmodel.HdpModel(tfidf_ko, id2word=dictionary_ko)\n",
    "print(hdp_ko.print_topics(topics=ntopics, topn=nwords))"
   ]
  },
  {
   "cell_type": "code",
   "execution_count": 60,
   "metadata": {
    "collapsed": false
   },
   "outputs": [
    {
     "data": {
      "text/plain": [
       "[(0, 0.62172337978460435),\n",
       " (1, 0.32164332469317131),\n",
       " (2, 0.013217603232113271),\n",
       " (3, 0.010098230302428082)]"
      ]
     },
     "execution_count": 60,
     "metadata": {},
     "output_type": "execute_result"
    }
   ],
   "source": [
    "bow = tfidf_model_ko[dictionary_ko.doc2bow(texts_ko[0])]\n",
    "sorted(lsi_ko[bow], key=lambda x: x[1], reverse=True)\n",
    "sorted(lda_ko[bow], key=lambda x: x[1], reverse=True)\n",
    "sorted(hdp_ko[bow], key=lambda x: x[1], reverse=True)"
   ]
  },
  {
   "cell_type": "code",
   "execution_count": 61,
   "metadata": {
    "collapsed": false
   },
   "outputs": [
    {
     "data": {
      "text/plain": [
       "[(2, 0.42699350650134382), (1, 0.35359359998336837), (0, 0.18116544491081907)]"
      ]
     },
     "execution_count": 61,
     "metadata": {},
     "output_type": "execute_result"
    }
   ],
   "source": [
    "bow = tfidf_model_ko[dictionary_ko.doc2bow(texts_ko[1])]\n",
    "sorted(lsi_ko[bow], key=lambda x: x[1], reverse=True)\n",
    "sorted(lda_ko[bow], key=lambda x: x[1], reverse=True)\n",
    "sorted(hdp_ko[bow], key=lambda x: x[1], reverse=True)"
   ]
  },
  {
   "cell_type": "markdown",
   "metadata": {},
   "source": [
    "# word2vec toy problem"
   ]
  },
  {
   "cell_type": "markdown",
   "metadata": {},
   "source": [
    "1. Load documents"
   ]
  },
  {
   "cell_type": "code",
   "execution_count": 62,
   "metadata": {
    "collapsed": true
   },
   "outputs": [],
   "source": [
    "from konlpy.corpus import kobill\n",
    "docs_ko = [kobill.open(i).read() for i in kobill.fileids()]"
   ]
  },
  {
   "cell_type": "markdown",
   "metadata": {},
   "source": [
    "2. Tokenize"
   ]
  },
  {
   "cell_type": "code",
   "execution_count": null,
   "metadata": {
    "collapsed": true
   },
   "outputs": [],
   "source": [
    "from konlpy.tag import Twitter; t = Twitter()\n",
    "pos = lambda d: ['/'.join(p) for p in t.pos(d)]\n",
    "texts_ko = [pos(doc) for doc in docs_ko]"
   ]
  }
 ],
 "metadata": {
  "kernelspec": {
   "display_name": "Python 3",
   "language": "python",
   "name": "python3"
  },
  "language_info": {
   "codemirror_mode": {
    "name": "ipython",
    "version": 3
   },
   "file_extension": ".py",
   "mimetype": "text/x-python",
   "name": "python",
   "nbconvert_exporter": "python",
   "pygments_lexer": "ipython3",
   "version": "3.4.3"
  }
 },
 "nbformat": 4,
 "nbformat_minor": 0
}
