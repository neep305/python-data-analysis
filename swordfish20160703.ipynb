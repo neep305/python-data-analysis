{
 "cells": [
  {
   "cell_type": "markdown",
   "metadata": {},
   "source": [
    "# Pymongo import"
   ]
  },
  {
   "cell_type": "code",
   "execution_count": 11,
   "metadata": {
    "collapsed": true
   },
   "outputs": [],
   "source": [
    "import pymongo\n",
    "from pymongo import MongoClient\n",
    "import datetime"
   ]
  },
  {
   "cell_type": "markdown",
   "metadata": {},
   "source": [
    "# Dictionary에 Json Dummy 할당"
   ]
  },
  {
   "cell_type": "code",
   "execution_count": 12,
   "metadata": {
    "collapsed": false
   },
   "outputs": [],
   "source": [
    "\n",
    "dic = {\"credate\":datetime.datetime(2016,6,20),\"reg_dt\":datetime.datetime(2016,6,20),\"cntnt_list\":[{\"cntnt\":\"애들이 좋아해요\",\"nouns_list\":[\"애\"]},{\"cntnt\":\"타임지선정 10대수퍼푸드 주문요!\",\"nouns_list\":[\"타임지\",\"선정\",\"푸드\",\"주문\"]},{\"cntnt\":\"무농약이라 믿고 구매해봐요\",\"nouns_list\":[\"무\",\"농약\",\"구매\"]},{\"cntnt\":\"미리 주문했어요\",\"nouns_list\":[\"미리\"]},{\"cntnt\":\"부모님 눈건강생각해서 주문해요\",\"nouns_list\":[\"부모님\",\"눈\",\"건강\"]},{\"cntnt\":\"구입했어용~\",\"nouns_list\":[\"구입\"]},{\"cntnt\":\"요거트스무디로 해먹으려합니다\",\"nouns_list\":[\"요거트\",\"스무디\",\"해\"]},{\"cntnt\":\"실해보여서 구매해봐요~\",\"nouns_list\":[\"실\",\"구매\"]},{\"cntnt\":\"무농약이라서 얼려서 갈아 먹으면 시원~하겠네요~^^\",\"nouns_list\":[\"무\",\"농약\",\"시원\"]},{\"cntnt\":\"10브릭스면 달아요?\",\"nouns_list\":[\"브릭스\"]},{\"cntnt\":\"왜아직방송안하나궁금하다가타방송에서구입을했는데gs샵은믿음이가서또구입합니다\",\"nouns_list\":[\"왜\",\"아직\",\"방송\",\"가타\",\"방송\",\"구입\",\"샵\",\"믿음\",\"또\",\"구입\"]},{\"cntnt\":\"당도어때요? 블루베리마다차이가크던데\",\"nouns_list\":[\"블루베리\",\"차이\"]},{\"cntnt\":\"맛있게 먹는법 알려주세요. 구매합니다!^^\",\"nouns_list\":[\"법\",\"구매\"]},{\"cntnt\":\"독특하게 끌리는맛 생과로 즐겨볼랍니다~\",\"nouns_list\":[\"맛\",\"생\",\"과로\"]},{\"cntnt\":\"얼른주문해서얼음넣고슬러시로맛있게먹어야겠어요\",\"nouns_list\":[\"얼른\",\"얼음\",\"슬러시\"]},{\"cntnt\":\"아가가워낙좋아해서 gs 믿고구매했습니다 ^^\",\"nouns_list\":[\"아가\",\"워낙\",\"구매\"]},{\"cntnt\":\"블루베리 생과 기다렸어요~~가격이 좋네요^^\",\"nouns_list\":[\"블루베리\",\"생\",\"가격\"]},{\"cntnt\":\"냉장보관은언제까지가능한가요?바로냉동보관해야하나요??\",\"nouns_list\":[\"냉장\",\"보관\",\"언제\",\"바로\",\"냉동\"]}],\"item_name\":\"한국블루베리영농조합:기타신선과일\",\"item_code\":477816}"
   ]
  },
  {
   "cell_type": "code",
   "execution_count": 13,
   "metadata": {
    "collapsed": false
   },
   "outputs": [
    {
     "data": {
      "text/plain": [
       "{'cntnt_list': [{'cntnt': '애들이 좋아해요', 'nouns_list': ['애']},\n",
       "  {'cntnt': '타임지선정 10대수퍼푸드 주문요!', 'nouns_list': ['타임지', '선정', '푸드', '주문']},\n",
       "  {'cntnt': '무농약이라 믿고 구매해봐요', 'nouns_list': ['무', '농약', '구매']},\n",
       "  {'cntnt': '미리 주문했어요', 'nouns_list': ['미리']},\n",
       "  {'cntnt': '부모님 눈건강생각해서 주문해요', 'nouns_list': ['부모님', '눈', '건강']},\n",
       "  {'cntnt': '구입했어용~', 'nouns_list': ['구입']},\n",
       "  {'cntnt': '요거트스무디로 해먹으려합니다', 'nouns_list': ['요거트', '스무디', '해']},\n",
       "  {'cntnt': '실해보여서 구매해봐요~', 'nouns_list': ['실', '구매']},\n",
       "  {'cntnt': '무농약이라서 얼려서 갈아 먹으면 시원~하겠네요~^^', 'nouns_list': ['무', '농약', '시원']},\n",
       "  {'cntnt': '10브릭스면 달아요?', 'nouns_list': ['브릭스']},\n",
       "  {'cntnt': '왜아직방송안하나궁금하다가타방송에서구입을했는데gs샵은믿음이가서또구입합니다',\n",
       "   'nouns_list': ['왜', '아직', '방송', '가타', '방송', '구입', '샵', '믿음', '또', '구입']},\n",
       "  {'cntnt': '당도어때요? 블루베리마다차이가크던데', 'nouns_list': ['블루베리', '차이']},\n",
       "  {'cntnt': '맛있게 먹는법 알려주세요. 구매합니다!^^', 'nouns_list': ['법', '구매']},\n",
       "  {'cntnt': '독특하게 끌리는맛 생과로 즐겨볼랍니다~', 'nouns_list': ['맛', '생', '과로']},\n",
       "  {'cntnt': '얼른주문해서얼음넣고슬러시로맛있게먹어야겠어요', 'nouns_list': ['얼른', '얼음', '슬러시']},\n",
       "  {'cntnt': '아가가워낙좋아해서 gs 믿고구매했습니다 ^^', 'nouns_list': ['아가', '워낙', '구매']},\n",
       "  {'cntnt': '블루베리 생과 기다렸어요~~가격이 좋네요^^', 'nouns_list': ['블루베리', '생', '가격']},\n",
       "  {'cntnt': '냉장보관은언제까지가능한가요?바로냉동보관해야하나요??',\n",
       "   'nouns_list': ['냉장', '보관', '언제', '바로', '냉동']}],\n",
       " 'credate': datetime.datetime(2016, 6, 20, 0, 0),\n",
       " 'item_code': 477816,\n",
       " 'item_name': '한국블루베리영농조합:기타신선과일',\n",
       " 'reg_dt': datetime.datetime(2016, 6, 20, 0, 0)}"
      ]
     },
     "execution_count": 13,
     "metadata": {},
     "output_type": "execute_result"
    }
   ],
   "source": [
    "dic"
   ]
  },
  {
   "cell_type": "code",
   "execution_count": 4,
   "metadata": {
    "collapsed": true
   },
   "outputs": [],
   "source": [
    "def get_db_connection(tbl_name):\n",
    "    # connect to database\n",
    "    connection = MongoClient('localhost',27017)\n",
    "\n",
    "    db = connection.swordfish\n",
    "\n",
    "    if (tbl_name == \"livetalk\"):\n",
    "        cur_tbl = db.livetalk\n",
    "    elif (tbl_name == \"estimate\"):\n",
    "        cur_tbl = db.estimate\n",
    "    elif (tbl_name == \"sr\"):\n",
    "        cur_tbl = db.sr\n",
    "\n",
    "    return cur_tbl"
   ]
  },
  {
   "cell_type": "code",
   "execution_count": 5,
   "metadata": {
    "collapsed": true
   },
   "outputs": [],
   "source": [
    "tbl = get_db_connection('livetalk')"
   ]
  },
  {
   "cell_type": "code",
   "execution_count": 14,
   "metadata": {
    "collapsed": false
   },
   "outputs": [
    {
     "data": {
      "text/plain": [
       "<pymongo.results.InsertOneResult at 0x7fb0b407f8b8>"
      ]
     },
     "execution_count": 14,
     "metadata": {},
     "output_type": "execute_result"
    }
   ],
   "source": [
    "tbl.insert_one(dic)"
   ]
  },
  {
   "cell_type": "markdown",
   "metadata": {},
   "source": [
    "# ItemCode로 Query하기"
   ]
  },
  {
   "cell_type": "code",
   "execution_count": 34,
   "metadata": {
    "collapsed": true
   },
   "outputs": [],
   "source": [
    "cursor = tbl.find({'item_code':477816})"
   ]
  },
  {
   "cell_type": "code",
   "execution_count": 22,
   "metadata": {
    "collapsed": false
   },
   "outputs": [],
   "source": [
    "def printRows(cursor):\n",
    "    for row in cursor:\n",
    "        print(row['cntnt_list'])"
   ]
  },
  {
   "cell_type": "code",
   "execution_count": 17,
   "metadata": {
    "collapsed": true
   },
   "outputs": [],
   "source": [
    "def getItemById(item_code):\n",
    "    cursor = tbl.find({'item_code':item_code})\n",
    "    return cursor"
   ]
  },
  {
   "cell_type": "code",
   "execution_count": 20,
   "metadata": {
    "collapsed": true
   },
   "outputs": [],
   "source": [
    "def getItemByIdAndDate(item_code,startDate,endDate):\n",
    "    cursor = tbl.find({'item_code':item_code,\"reg_dt\":{\"$gte\":startDate, \"$lt\":endDate}})\n",
    "    return cursor"
   ]
  },
  {
   "cell_type": "code",
   "execution_count": 21,
   "metadata": {
    "collapsed": false
   },
   "outputs": [],
   "source": [
    "returnCursor = getItemByIdAndDate(477816,datetime.datetime(2016, 6, 1, 0,0),datetime.datetime(2016, 6, 28, 0,0))"
   ]
  },
  {
   "cell_type": "code",
   "execution_count": 27,
   "metadata": {
    "collapsed": false
   },
   "outputs": [
    {
     "name": "stdout",
     "output_type": "stream",
     "text": [
      "[{'cntnt': '애들이 좋아해요', 'nouns_list': ['애']}, {'cntnt': '타임지선정 10대수퍼푸드 주문요!', 'nouns_list': ['타임지', '선정', '푸드', '주문']}, {'cntnt': '무농약이라 믿고 구매해봐요', 'nouns_list': ['무', '농약', '구매']}, {'cntnt': '미리 주문했어요', 'nouns_list': ['미리']}, {'cntnt': '부모님 눈건강생각해서 주문해요', 'nouns_list': ['부모님', '눈', '건강']}, {'cntnt': '구입했어용~', 'nouns_list': ['구입']}, {'cntnt': '요거트스무디로 해먹으려합니다', 'nouns_list': ['요거트', '스무디', '해']}, {'cntnt': '실해보여서 구매해봐요~', 'nouns_list': ['실', '구매']}, {'cntnt': '무농약이라서 얼려서 갈아 먹으면 시원~하겠네요~^^', 'nouns_list': ['무', '농약', '시원']}, {'cntnt': '10브릭스면 달아요?', 'nouns_list': ['브릭스']}, {'cntnt': '왜아직방송안하나궁금하다가타방송에서구입을했는데gs샵은믿음이가서또구입합니다', 'nouns_list': ['왜', '아직', '방송', '가타', '방송', '구입', '샵', '믿음', '또', '구입']}, {'cntnt': '당도어때요? 블루베리마다차이가크던데', 'nouns_list': ['블루베리', '차이']}, {'cntnt': '맛있게 먹는법 알려주세요. 구매합니다!^^', 'nouns_list': ['법', '구매']}, {'cntnt': '독특하게 끌리는맛 생과로 즐겨볼랍니다~', 'nouns_list': ['맛', '생', '과로']}, {'cntnt': '얼른주문해서얼음넣고슬러시로맛있게먹어야겠어요', 'nouns_list': ['얼른', '얼음', '슬러시']}, {'cntnt': '아가가워낙좋아해서 gs 믿고구매했습니다 ^^', 'nouns_list': ['아가', '워낙', '구매']}, {'cntnt': '블루베리 생과 기다렸어요~~가격이 좋네요^^', 'nouns_list': ['블루베리', '생', '가격']}, {'cntnt': '냉장보관은언제까지가능한가요?바로냉동보관해야하나요??', 'nouns_list': ['냉장', '보관', '언제', '바로', '냉동']}]\n"
     ]
    }
   ],
   "source": [
    "for row in returnCursor:\n",
    "    print(row['cntnt_list'])"
   ]
  },
  {
   "cell_type": "markdown",
   "metadata": {},
   "source": [
    "# Pymongo cursor를 Json파일로 변환하기"
   ]
  },
  {
   "cell_type": "code",
   "execution_count": 41,
   "metadata": {
    "collapsed": true
   },
   "outputs": [],
   "source": [
    "def makeCursorToJson(cursor):\n",
    "    temp = []\n",
    "    for row in cursor:\n",
    "        temp.append(row)\n",
    "        \n",
    "    result = ''.join(temp)\n",
    "    \n",
    "    return result"
   ]
  },
  {
   "cell_type": "code",
   "execution_count": 42,
   "metadata": {
    "collapsed": false
   },
   "outputs": [],
   "source": [
    "result = makeCursorToJson(cursor)"
   ]
  },
  {
   "cell_type": "code",
   "execution_count": 40,
   "metadata": {
    "collapsed": false
   },
   "outputs": [
    {
     "data": {
      "text/plain": [
       "''"
      ]
     },
     "execution_count": 40,
     "metadata": {},
     "output_type": "execute_result"
    }
   ],
   "source": [
    "result"
   ]
  },
  {
   "cell_type": "code",
   "execution_count": null,
   "metadata": {
    "collapsed": true
   },
   "outputs": [],
   "source": []
  }
 ],
 "metadata": {
  "kernelspec": {
   "display_name": "Python 3",
   "language": "python",
   "name": "python3"
  },
  "language_info": {
   "codemirror_mode": {
    "name": "ipython",
    "version": 3
   },
   "file_extension": ".py",
   "mimetype": "text/x-python",
   "name": "python",
   "nbconvert_exporter": "python",
   "pygments_lexer": "ipython3",
   "version": "3.4.3"
  }
 },
 "nbformat": 4,
 "nbformat_minor": 0
}
