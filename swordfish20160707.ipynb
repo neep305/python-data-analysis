{
 "cells": [
  {
   "cell_type": "markdown",
   "metadata": {},
   "source": [
    "# Pymongo import"
   ]
  },
  {
   "cell_type": "code",
   "execution_count": 69,
   "metadata": {
    "collapsed": true
   },
   "outputs": [],
   "source": [
    "import pymongo\n",
    "from pymongo import MongoClient\n",
    "import datetime"
   ]
  },
  {
   "cell_type": "markdown",
   "metadata": {},
   "source": [
    "DB 커넥션 만들기"
   ]
  },
  {
   "cell_type": "code",
   "execution_count": 4,
   "metadata": {
    "collapsed": true
   },
   "outputs": [],
   "source": [
    "def get_db_connection(tbl_name):\n",
    "    # connect to database\n",
    "    connection = MongoClient('localhost',27017)\n",
    "\n",
    "    db = connection.swordfish\n",
    "\n",
    "    if (tbl_name == \"livetalk\"):\n",
    "        cur_tbl = db.livetalk\n",
    "    elif (tbl_name == \"estimate\"):\n",
    "        cur_tbl = db.estimate\n",
    "    elif (tbl_name == \"sr\"):\n",
    "        cur_tbl = db.sr\n",
    "\n",
    "    return cur_tbl"
   ]
  },
  {
   "cell_type": "code",
   "execution_count": 135,
   "metadata": {
    "collapsed": true
   },
   "outputs": [],
   "source": [
    "tbl = get_db_connection('livetalk')"
   ]
  },
  {
   "cell_type": "markdown",
   "metadata": {},
   "source": [
    "샘플 데이터 mongodb에 넣기\n"
   ]
  },
  {
   "cell_type": "code",
   "execution_count": 71,
   "metadata": {
    "collapsed": false
   },
   "outputs": [
    {
     "data": {
      "text/plain": [
       "<pymongo.results.InsertOneResult at 0x7f85688e7ee8>"
      ]
     },
     "execution_count": 71,
     "metadata": {},
     "output_type": "execute_result"
    }
   ],
   "source": [
    "tbl.insert_one(dic)"
   ]
  },
  {
   "cell_type": "markdown",
   "metadata": {},
   "source": [
    "# ItemCode로 Query하기"
   ]
  },
  {
   "cell_type": "code",
   "execution_count": 62,
   "metadata": {
    "collapsed": true
   },
   "outputs": [],
   "source": [
    "cursor = tbl.find({'item_code':477816})"
   ]
  },
  {
   "cell_type": "markdown",
   "metadata": {},
   "source": [
    "# Query datas with more params(item_code,startDate,endDate)"
   ]
  },
  {
   "cell_type": "markdown",
   "metadata": {},
   "source": [
    "function to convert cursor to list type"
   ]
  },
  {
   "cell_type": "code",
   "execution_count": 129,
   "metadata": {
    "collapsed": true
   },
   "outputs": [],
   "source": [
    "import json\n",
    "from bson.json_util import dumps,loads\n",
    "\n",
    "def convertCursorToString(cursor):\n",
    "    temp = dumps(cursor)\n",
    "    \n",
    "    return temp.encode('euc-kr')"
   ]
  },
  {
   "cell_type": "code",
   "execution_count": 125,
   "metadata": {
    "collapsed": true
   },
   "outputs": [],
   "source": [
    "def convertCursorToList(cursor):\n",
    "    temp = dumps(cursor)\n",
    "\n",
    "    resultList = loads(temp)\n",
    "    \n",
    "    return resultList"
   ]
  },
  {
   "cell_type": "markdown",
   "metadata": {},
   "source": [
    "Extract whole contents list data with three params\n",
    "- item_code\n",
    "- startDate\n",
    "- endDate"
   ]
  },
  {
   "cell_type": "code",
   "execution_count": 140,
   "metadata": {
    "collapsed": true
   },
   "outputs": [],
   "source": [
    "def getCntntListByIdAndDate(item_code,startDate,endDate):\n",
    "    cursor = tbl.find({'item_code':int(item_code),\"reg_dt\":{\"$gte\":startDate, \"$lte\":endDate}},{'cntnt_list':1,'_id':0})\n",
    "\n",
    "    return convertCursorToString(cursor)"
   ]
  },
  {
   "cell_type": "markdown",
   "metadata": {},
   "source": [
    "Extract nouns list with three params\n",
    "- item_code\n",
    "- startDate\n",
    "- enddate"
   ]
  },
  {
   "cell_type": "code",
   "execution_count": 141,
   "metadata": {
    "collapsed": true
   },
   "outputs": [],
   "source": [
    "def getNounsListByIdAndDate(item_code,startDate,endDate):\n",
    "    cursor = tbl.find({'item_code':int(item_code),\"reg_dt\":{\"$gte\":startDate, \"$lte\":endDate}},{'cntnt_list.nouns_list':1,'_id':0})\n",
    "\n",
    "    return convertCursorToString(cursor)"
   ]
  },
  {
   "cell_type": "markdown",
   "metadata": {},
   "source": [
    "Extract item_code and item_name between two datetime"
   ]
  },
  {
   "cell_type": "code",
   "execution_count": 113,
   "metadata": {
    "collapsed": false
   },
   "outputs": [
    {
     "name": "stdout",
     "output_type": "stream",
     "text": [
      "{'item_name': '한국블루베리영농조합:기타신선과일', 'item_code': 477816}\n",
      "{'item_name': '데시구알:샌들/슬리퍼', 'item_code': 307605}\n"
     ]
    }
   ],
   "source": [
    "def getItemCodeAndNameByTblName(tblName,startDate,endDate):\n",
    "    tbl = get_db_connection(tblName)\n",
    "    \n",
    "    cursor = tbl.find({\"reg_dt\":{\"$gte\":startDate, \"$lte\":endDate}},{'item_code':1,'item_name':1,'_id':0})\n",
    "    \n",
    "    return cursor\n",
    "\n",
    "tempCur = getItemCodeAndNameByTblName('livetalk',convertStringToDatetime('20160601'),convertStringToDatetime('20160630'))\n",
    "for row in tempCur:\n",
    "    print(row)"
   ]
  },
  {
   "cell_type": "markdown",
   "metadata": {},
   "source": [
    "Convert String to Datetime type"
   ]
  },
  {
   "cell_type": "code",
   "execution_count": 115,
   "metadata": {
    "collapsed": true
   },
   "outputs": [],
   "source": [
    "from datetime import datetime\n",
    "\n",
    "def convertStringToDatetime(str_datetime):\n",
    "\n",
    "    y = datetime.strptime(str_datetime, '%Y%m%d')\n",
    "    \n",
    "    return y"
   ]
  },
  {
   "cell_type": "code",
   "execution_count": 139,
   "metadata": {
    "collapsed": false
   },
   "outputs": [
    {
     "data": {
      "text/plain": [
       "[{'cntnt_list': [{'nouns_list': ['애']},\n",
       "   {'nouns_list': ['타임지', '선정', '푸드', '주문']},\n",
       "   {'nouns_list': ['무', '농약', '구매']},\n",
       "   {'nouns_list': ['미리']},\n",
       "   {'nouns_list': ['부모님', '눈', '건강']},\n",
       "   {'nouns_list': ['구입']},\n",
       "   {'nouns_list': ['요거트', '스무디', '해']},\n",
       "   {'nouns_list': ['실', '구매']},\n",
       "   {'nouns_list': ['무', '농약', '시원']},\n",
       "   {'nouns_list': ['브릭스']},\n",
       "   {'nouns_list': ['왜', '아직', '방송', '가타', '방송', '구입', '샵', '믿음', '또', '구입']},\n",
       "   {'nouns_list': ['블루베리', '차이']},\n",
       "   {'nouns_list': ['법', '구매']},\n",
       "   {'nouns_list': ['맛', '생', '과로']},\n",
       "   {'nouns_list': ['얼른', '얼음', '슬러시']},\n",
       "   {'nouns_list': ['아가', '워낙', '구매']},\n",
       "   {'nouns_list': ['블루베리', '생', '가격']},\n",
       "   {'nouns_list': ['냉장', '보관', '언제', '바로', '냉동']}]}]"
      ]
     },
     "execution_count": 139,
     "metadata": {},
     "output_type": "execute_result"
    }
   ],
   "source": [
    "returnCursor = getNounsListByIdAndDate(477816,convertStringToDatetime('20160601'),convertStringToDatetime('20160630'))\n",
    "\n",
    "returnCursor"
   ]
  },
  {
   "cell_type": "markdown",
   "metadata": {},
   "source": [
    "# Pymongo cursor를 Json파일로 변환하기"
   ]
  },
  {
   "cell_type": "code",
   "execution_count": 121,
   "metadata": {
    "collapsed": false,
    "scrolled": true
   },
   "outputs": [
    {
     "data": {
      "text/plain": [
       "'\"[]\"'"
      ]
     },
     "execution_count": 121,
     "metadata": {},
     "output_type": "execute_result"
    }
   ],
   "source": [
    "import json\n",
    "\n",
    "from bson.json_util import dumps\n",
    "\n",
    "myjson = dumps(returnCursor,ensure_ascii=False)\n",
    "\n",
    "myjson"
   ]
  },
  {
   "cell_type": "markdown",
   "metadata": {},
   "source": [
    "# Json 로딩"
   ]
  },
  {
   "cell_type": "code",
   "execution_count": 122,
   "metadata": {
    "collapsed": false
   },
   "outputs": [],
   "source": [
    "import urllib.request\n",
    "\n",
    "url = \"http://localhost:8000/livetalk/contents/477816/20160601/20160630/\"\n",
    "wp = urllib.request.urlopen(url)\n",
    "response = wp.read().decode('euc-kr')"
   ]
  },
  {
   "cell_type": "code",
   "execution_count": 123,
   "metadata": {
    "collapsed": false
   },
   "outputs": [
    {
     "data": {
      "text/plain": [
       "[]"
      ]
     },
     "execution_count": 123,
     "metadata": {},
     "output_type": "execute_result"
    }
   ],
   "source": [
    "result = json.loads(response)\n",
    "\n",
    "result"
   ]
  },
  {
   "cell_type": "code",
   "execution_count": 50,
   "metadata": {
    "collapsed": false
   },
   "outputs": [
    {
     "data": {
      "text/plain": [
       "'애들이 좋아해요'"
      ]
     },
     "execution_count": 50,
     "metadata": {},
     "output_type": "execute_result"
    }
   ],
   "source": [
    "import pandas as pd\n",
    "\n",
    "r = pd.DataFrame(result)\n",
    "\n",
    "r['cntnt_list'][0][0]['cntnt']"
   ]
  },
  {
   "cell_type": "code",
   "execution_count": null,
   "metadata": {
    "collapsed": true
   },
   "outputs": [],
   "source": []
  }
 ],
 "metadata": {
  "kernelspec": {
   "display_name": "Python 3",
   "language": "python",
   "name": "python3"
  },
  "language_info": {
   "codemirror_mode": {
    "name": "ipython",
    "version": 3
   },
   "file_extension": ".py",
   "mimetype": "text/x-python",
   "name": "python",
   "nbconvert_exporter": "python",
   "pygments_lexer": "ipython3",
   "version": "3.4.3"
  }
 },
 "nbformat": 4,
 "nbformat_minor": 0
}
