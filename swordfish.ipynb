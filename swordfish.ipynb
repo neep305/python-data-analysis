{
 "cells": [
  {
   "cell_type": "code",
   "execution_count": 2,
   "metadata": {
    "collapsed": true
   },
   "outputs": [],
   "source": [
    "dic = {\n",
    "\"item_code\":\"123456\",\n",
    "\"reg_date\":\"20160628\",\n",
    "\"cntnt_list\":[\n",
    "{\"cntnt\":\"너무 좋아요\",\"nouns\":[\"너무\",\"좋아요\"]},\n",
    "{\"cntnt\":\"너무 싫어요\",\"nouns\":[\"너무\",\"싫어요\"]},\n",
    "{\"cntnt\":\"조금 좋아요\",\"nouns\":[\"조금\",\"좋아요\"]}\n",
    "]\n",
    "}"
   ]
  },
  {
   "cell_type": "code",
   "execution_count": 3,
   "metadata": {
    "collapsed": false
   },
   "outputs": [
    {
     "data": {
      "text/plain": [
       "{'cntnt_list': [{'cntnt': '너무 좋아요', 'nouns': ['너무', '좋아요']},\n",
       "  {'cntnt': '너무 싫어요', 'nouns': ['너무', '싫어요']},\n",
       "  {'cntnt': '조금 좋아요', 'nouns': ['조금', '좋아요']}],\n",
       " 'item_code': '123456',\n",
       " 'reg_date': '20160628'}"
      ]
     },
     "execution_count": 3,
     "metadata": {},
     "output_type": "execute_result"
    }
   ],
   "source": [
    "dic"
   ]
  },
  {
   "cell_type": "code",
   "execution_count": 2,
   "metadata": {
    "collapsed": true
   },
   "outputs": [],
   "source": [
    "import pymongo\n",
    "from pymongo import MongoClient"
   ]
  },
  {
   "cell_type": "code",
   "execution_count": 4,
   "metadata": {
    "collapsed": true
   },
   "outputs": [],
   "source": [
    "def get_db_connection(tbl_name):\n",
    "    # connect to database\n",
    "    connection = MongoClient('localhost',27017)\n",
    "\n",
    "    db = connection.swordfish\n",
    "\n",
    "    if (tbl_name == \"livetalk\"):\n",
    "        cur_tbl = db.livetalk\n",
    "    elif (tbl_name == \"estimate\"):\n",
    "        cur_tbl = db.estimate\n",
    "    elif (tbl_name == \"sr\"):\n",
    "        cur_tbl = db.sr\n",
    "\n",
    "    return cur_tbl"
   ]
  },
  {
   "cell_type": "code",
   "execution_count": 5,
   "metadata": {
    "collapsed": false
   },
   "outputs": [],
   "source": [
    "tbl = get_db_connection('livetalk')"
   ]
  },
  {
   "cell_type": "code",
   "execution_count": 8,
   "metadata": {
    "collapsed": false
   },
   "outputs": [
    {
     "data": {
      "text/plain": [
       "<pymongo.results.InsertOneResult at 0x7f92e7645948>"
      ]
     },
     "execution_count": 8,
     "metadata": {},
     "output_type": "execute_result"
    }
   ],
   "source": [
    "tbl.insert_one(dic)"
   ]
  },
  {
   "cell_type": "code",
   "execution_count": 16,
   "metadata": {
    "collapsed": false
   },
   "outputs": [
    {
     "name": "stdout",
     "output_type": "stream",
     "text": [
      "[{'cntnt': '너무 좋아요', 'nouns': ['너무', '좋아요']}, {'cntnt': '너무 싫어요', 'nouns': ['너무', '싫어요']}, {'cntnt': '조금 좋아요', 'nouns': ['조금', '좋아요']}]\n"
     ]
    }
   ],
   "source": [
    "cursor = tbl.find({'item_code':'123456'})\n",
    "\n",
    "for dic in cursor:\n",
    "    print(dic['cntnt_list'])"
   ]
  },
  {
   "cell_type": "code",
   "execution_count": 7,
   "metadata": {
    "collapsed": false
   },
   "outputs": [
    {
     "data": {
      "text/plain": [
       "<pymongo.results.DeleteResult at 0x7f61dbf83cf0>"
      ]
     },
     "execution_count": 7,
     "metadata": {},
     "output_type": "execute_result"
    }
   ],
   "source": [
    "tbl.delete_many({})"
   ]
  },
  {
   "cell_type": "code",
   "execution_count": 76,
   "metadata": {
    "collapsed": false
   },
   "outputs": [
    {
     "data": {
      "text/plain": [
       "<pymongo.results.InsertOneResult at 0x7f92e76c65a0>"
      ]
     },
     "execution_count": 76,
     "metadata": {},
     "output_type": "execute_result"
    }
   ],
   "source": [
    "import datetime\n",
    "\n",
    "dic = {\n",
    "\"item_code\":\"634223\",\n",
    "\"item_name\":\"실크테라피\",\n",
    "\"cntnt_list\":[\n",
    "{\"cntnt\":\"완전 좋아요\",\"reg_dt\":datetime.datetime(2016,6,30,17,41),\"nouns_list\":[\"완전\",\"좋아요\"]},\n",
    "{\"cntnt\":\"정말 최악이네요\",\"reg_dt\":datetime.datetime(2016,6,30,10,22),\"nouns_list\":[\"정말\",\"최악이네요\"]},\n",
    "{\"cntnt\":\"다음에도 또 구매하고 싶어요\",\"reg_dt\":datetime.datetime(2016,6,30,17,43),\"nouns_list\":[\"다음에도\",\"또\",\"구매하고\",\"싶어요\"]}   \n",
    "]\n",
    "}\n",
    "\n",
    "tbl.insert_one(dic)"
   ]
  },
  {
   "cell_type": "code",
   "execution_count": 41,
   "metadata": {
    "collapsed": false
   },
   "outputs": [
    {
     "data": {
      "text/plain": [
       "datetime.datetime(2016, 6, 12, 0, 0)"
      ]
     },
     "execution_count": 41,
     "metadata": {},
     "output_type": "execute_result"
    }
   ],
   "source": [
    "from datetime import datetime\n",
    "temp_date = '20160612'\n",
    "\n",
    "y = datetime.strptime(temp_date, '%Y%m%d')\n",
    "y"
   ]
  },
  {
   "cell_type": "code",
   "execution_count": 86,
   "metadata": {
    "collapsed": false
   },
   "outputs": [
    {
     "name": "stdout",
     "output_type": "stream",
     "text": [
      "{'cntnt_list': [{'nouns_list': ['완전', '좋아요'], 'cntnt': '완전 좋아요', 'reg_dt': datetime.datetime(2016, 6, 28, 17, 41)}, {'nouns_list': ['정말', '최악이네요'], 'cntnt': '정말 최악이네요', 'reg_dt': datetime.datetime(2016, 6, 29, 10, 22)}, {'nouns_list': ['다음에도', '또', '구매하고', '싶어요'], 'cntnt': '다음에도 또 구매하고 싶어요', 'reg_dt': datetime.datetime(2016, 6, 28, 17, 43)}], 'item_name': '실크테라피', 'item_code': '634223', '_id': ObjectId('57723c7f6dfc802f1c3072ab')}\n"
     ]
    }
   ],
   "source": [
    "start = datetime.datetime(2016, 6, 28, 0,0)\n",
    "end = datetime.datetime(2016, 6, 29, 0,0)\n",
    "\n",
    "# db.restaurants.find({\"$and\": [{\"borough\": \"Manhattan\"}, {\"grades\": {\"$elemMatch\": {\"grade\": \"A\"}}}]})\n",
    "# db.schools.find( { zipcode: \"63109\" }, { students: { $elemMatch: { school: 102, age: { $gt: 10} } } } )\n",
    "# temp_curs = tbl.find({'$and':[{'item_name':'실크테라피','reg_dt': {\"$gte\":start,\"$lt\": end}}]})\n",
    "# temp_curs = tbl.find({'$and':[{'item_code':'634223'},{'cntnt_list':{'reg_dt':{\"$gte\":start,\"$lt\":end}}}]})\n",
    "# temp_curs = tbl.find({'cntnt_list':{'reg_dt':{\"$gte\":start,\"$lt\":end}}})\n",
    "temp_curs = tbl.find({\"$and\":[{\"item_code\":\"634223\"},{\"cntnt_list\":{\"$elemMatch\":{\"reg_dt\":{\"$gte\":start, \"$lt\":end}}}}]})\n",
    "\n",
    "for doc in temp_curs:\n",
    "    print(doc)"
   ]
  },
  {
   "cell_type": "code",
   "execution_count": 80,
   "metadata": {
    "collapsed": false
   },
   "outputs": [
    {
     "name": "stdout",
     "output_type": "stream",
     "text": [
      "{'cntnt_list': [{'nouns_list': ['완전', '좋아요'], 'cntnt': '완전 좋아요', 'reg_dt': datetime.datetime(2016, 6, 28, 17, 41)}, {'nouns_list': ['정말', '최악이네요'], 'cntnt': '정말 최악이네요', 'reg_dt': datetime.datetime(2016, 6, 29, 10, 22)}, {'nouns_list': ['다음에도', '또', '구매하고', '싶어요'], 'cntnt': '다음에도 또 구매하고 싶어요', 'reg_dt': datetime.datetime(2016, 6, 28, 17, 43)}], 'item_name': '실크테라피', 'item_code': '634223', '_id': ObjectId('57723c7f6dfc802f1c3072ab')}\n",
      "{'cntnt_list': [{'nouns_list': ['완전', '좋아요'], 'cntnt': '완전 좋아요', 'reg_dt': datetime.datetime(2016, 6, 30, 17, 41)}, {'nouns_list': ['정말', '최악이네요'], 'cntnt': '정말 최악이네요', 'reg_dt': datetime.datetime(2016, 6, 30, 10, 22)}, {'nouns_list': ['다음에도', '또', '구매하고', '싶어요'], 'cntnt': '다음에도 또 구매하고 싶어요', 'reg_dt': datetime.datetime(2016, 6, 30, 17, 43)}], 'item_name': '실크테라피', 'item_code': '634223', '_id': ObjectId('57730bdb6dfc802f1c3072ac')}\n"
     ]
    }
   ],
   "source": [
    "temp_curs = tbl.find()\n",
    "for temp in temp_curs:\n",
    "    print(temp)"
   ]
  },
  {
   "cell_type": "code",
   "execution_count": null,
   "metadata": {
    "collapsed": true
   },
   "outputs": [],
   "source": []
  }
 ],
 "metadata": {
  "kernelspec": {
   "display_name": "Python 3",
   "language": "python",
   "name": "python3"
  },
  "language_info": {
   "codemirror_mode": {
    "name": "ipython",
    "version": 3
   },
   "file_extension": ".py",
   "mimetype": "text/x-python",
   "name": "python",
   "nbconvert_exporter": "python",
   "pygments_lexer": "ipython3",
   "version": "3.4.3"
  }
 },
 "nbformat": 4,
 "nbformat_minor": 0
}
