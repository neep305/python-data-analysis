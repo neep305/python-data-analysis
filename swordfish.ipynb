{
 "cells": [
  {
   "cell_type": "code",
   "execution_count": 1,
   "metadata": {
    "collapsed": false
   },
   "outputs": [
    {
     "name": "stdout",
     "output_type": "stream",
     "text": [
      "hello\n"
     ]
    }
   ],
   "source": [
    "a = \"hello\"\n",
    "\n",
    "if a == \"hello\":\n",
    "    print(\"hello\")\n",
    "else:\n",
    "    print(\"not hello\")"
   ]
  },
  {
   "cell_type": "code",
   "execution_count": 2,
   "metadata": {
    "collapsed": true
   },
   "outputs": [],
   "source": [
    "dic = {\n",
    "\"item_code\":\"123456\",\n",
    "\"reg_date\":\"20160628\",\n",
    "\"cntnt_list\":[\n",
    "{\"cntnt\":\"너무 좋아요\",\"nouns\":[\"너무\",\"좋아요\"]},\n",
    "{\"cntnt\":\"너무 싫어요\",\"nouns\":[\"너무\",\"싫어요\"]},\n",
    "{\"cntnt\":\"조금 좋아요\",\"nouns\":[\"조금\",\"좋아요\"]}\n",
    "]\n",
    "}"
   ]
  },
  {
   "cell_type": "code",
   "execution_count": 3,
   "metadata": {
    "collapsed": false
   },
   "outputs": [
    {
     "data": {
      "text/plain": [
       "{'cntnt_list': [{'cntnt': '너무 좋아요', 'nouns': ['너무', '좋아요']},\n",
       "  {'cntnt': '너무 싫어요', 'nouns': ['너무', '싫어요']},\n",
       "  {'cntnt': '조금 좋아요', 'nouns': ['조금', '좋아요']}],\n",
       " 'item_code': '123456',\n",
       " 'reg_date': '20160628'}"
      ]
     },
     "execution_count": 3,
     "metadata": {},
     "output_type": "execute_result"
    }
   ],
   "source": [
    "dic"
   ]
  },
  {
   "cell_type": "code",
   "execution_count": 4,
   "metadata": {
    "collapsed": true
   },
   "outputs": [],
   "source": [
    "import pymongo\n",
    "from pymongo import MongoClient"
   ]
  },
  {
   "cell_type": "code",
   "execution_count": 5,
   "metadata": {
    "collapsed": true
   },
   "outputs": [],
   "source": [
    "def get_db_connection(tbl_name):\n",
    "    # connect to database\n",
    "    connection = MongoClient('localhost',27017)\n",
    "\n",
    "    db = connection.swordfish\n",
    "\n",
    "    if (tbl_name == \"livetalk\"):\n",
    "        cur_tbl = db.livetalk\n",
    "    elif (tbl_name == \"estimate\"):\n",
    "        cur_tbl = db.estimate\n",
    "    elif (tbl_name == \"sr\"):\n",
    "        cur_tbl = db.sr\n",
    "\n",
    "    return cur_tbl"
   ]
  },
  {
   "cell_type": "code",
   "execution_count": 7,
   "metadata": {
    "collapsed": false
   },
   "outputs": [],
   "source": [
    "tbl = get_db_connection('livetalk')"
   ]
  },
  {
   "cell_type": "code",
   "execution_count": 8,
   "metadata": {
    "collapsed": false
   },
   "outputs": [
    {
     "data": {
      "text/plain": [
       "<pymongo.results.InsertOneResult at 0x7f92e7645948>"
      ]
     },
     "execution_count": 8,
     "metadata": {},
     "output_type": "execute_result"
    }
   ],
   "source": [
    "tbl.insert_one(dic)"
   ]
  },
  {
   "cell_type": "code",
   "execution_count": 16,
   "metadata": {
    "collapsed": false
   },
   "outputs": [
    {
     "name": "stdout",
     "output_type": "stream",
     "text": [
      "[{'cntnt': '너무 좋아요', 'nouns': ['너무', '좋아요']}, {'cntnt': '너무 싫어요', 'nouns': ['너무', '싫어요']}, {'cntnt': '조금 좋아요', 'nouns': ['조금', '좋아요']}]\n"
     ]
    }
   ],
   "source": [
    "cursor = tbl.find({'item_code':'123456'})\n",
    "\n",
    "for dic in cursor:\n",
    "    print(dic['cntnt_list'])"
   ]
  },
  {
   "cell_type": "code",
   "execution_count": 20,
   "metadata": {
    "collapsed": false
   },
   "outputs": [
    {
     "name": "stdout",
     "output_type": "stream",
     "text": [
      "[{'cntnt': '너무 좋아요', 'nouns': ['너무', '좋아요']}, {'cntnt': '너무 싫어요', 'nouns': ['너무', '싫어요']}, {'cntnt': '조금 좋아요', 'nouns': ['조금', '좋아요']}]\n",
      "[{'cntnt': '완전 좋아요', 'nouns': ['완전', '좋아요']}, {'cntnt': '정말 최악이네요', 'nouns': ['정말', '최악이네요']}, {'cntnt': '다음에도 또 구매하고 싶어요', 'nouns': ['다음에도', '또', '구매하고', '싶어요']}]\n"
     ]
    }
   ],
   "source": [
    "temp_curs = tbl.find({'reg_date':{'$regex':'^2016062[8-9]'}})\n",
    "\n",
    "for dic in temp_curs:\n",
    "    print(dic['cntnt_list'])"
   ]
  },
  {
   "cell_type": "code",
   "execution_count": 48,
   "metadata": {
    "collapsed": false
   },
   "outputs": [
    {
     "data": {
      "text/plain": [
       "<pymongo.results.DeleteResult at 0x7f92e76a3048>"
      ]
     },
     "execution_count": 48,
     "metadata": {},
     "output_type": "execute_result"
    }
   ],
   "source": [
    "tbl.delete_many({})"
   ]
  },
  {
   "cell_type": "code",
   "execution_count": 49,
   "metadata": {
    "collapsed": false
   },
   "outputs": [
    {
     "data": {
      "text/plain": [
       "<pymongo.results.InsertOneResult at 0x7f92e7673318>"
      ]
     },
     "execution_count": 49,
     "metadata": {},
     "output_type": "execute_result"
    }
   ],
   "source": [
    "from datetime import datetime\n",
    "\n",
    "dic = {\n",
    "\"item_code\":\"634223\",\n",
    "\"item_name\":\"실크테라피\",\n",
    "\"cntnt_list\":[\n",
    "{\"cntnt\":\"완전 좋아요\",\"reg_dt\":datetime.datetime(2016,6,28,17,41),\"nouns_list\":[\"완전\",\"좋아요\"]},\n",
    "{\"cntnt\":\"정말 최악이네요\",\"reg_dt\":datetime.datetime(2016,6,29,10,22),\"nouns_list\":[\"정말\",\"최악이네요\"]},\n",
    "{\"cntnt\":\"다음에도 또 구매하고 싶어요\",\"reg_dt\":datetime.datetime(2016,6,28,17,43),\"nouns_list\":[\"다음에도\",\"또\",\"구매하고\",\"싶어요\"]}   \n",
    "]\n",
    "}\n",
    "\n",
    "tbl.insert_one(dic)"
   ]
  },
  {
   "cell_type": "code",
   "execution_count": 41,
   "metadata": {
    "collapsed": false
   },
   "outputs": [
    {
     "data": {
      "text/plain": [
       "datetime.datetime(2016, 6, 12, 0, 0)"
      ]
     },
     "execution_count": 41,
     "metadata": {},
     "output_type": "execute_result"
    }
   ],
   "source": [
    "# from datetime import datetime\n",
    "temp_date = '20160612'\n",
    "\n",
    "y = datetime.strptime(temp_date, '%Y%m%d')\n",
    "y"
   ]
  },
  {
   "cell_type": "code",
   "execution_count": 52,
   "metadata": {
    "collapsed": false
   },
   "outputs": [],
   "source": [
    "start = datetime.datetime(2016, 6, 12, 12)\n",
    "end = datetime.datetime(2016, 11, 12, 12)\n",
    "\n",
    "temp_curs = tbl.find({'reg_dt': {\"$gte\":start,\"$lt\": end}})\n",
    "\n",
    "for temp in temp_curs:\n",
    "    print(temp['cntnt_list'])"
   ]
  },
  {
   "cell_type": "code",
   "execution_count": 57,
   "metadata": {
    "collapsed": false
   },
   "outputs": [
    {
     "ename": "SyntaxError",
     "evalue": "invalid syntax (<ipython-input-57-e83f069cef1d>, line 4)",
     "output_type": "error",
     "traceback": [
      "\u001b[1;36m  File \u001b[1;32m\"<ipython-input-57-e83f069cef1d>\"\u001b[1;36m, line \u001b[1;32m4\u001b[0m\n\u001b[1;33m    temp_curs = tbl.find({'$and':['item_name':'실크테라피','reg_dt': {\"$gte\":start,\"$lt\": end}]})\u001b[0m\n\u001b[1;37m                                             ^\u001b[0m\n\u001b[1;31mSyntaxError\u001b[0m\u001b[1;31m:\u001b[0m invalid syntax\n"
     ]
    }
   ],
   "source": [
    "start = datetime.datetime(2016, 6, 12, 12)\n",
    "end = datetime.datetime(2016, 11, 12, 12)\n",
    "\n",
    "temp_curs = tbl.find({'$and':['item_name':'실크테라피','reg_dt': {\"$gte\":start,\"$lt\": end}]})\n",
    "\n",
    "for doc in temp_curs:\n",
    "    print(doc)"
   ]
  },
  {
   "cell_type": "code",
   "execution_count": null,
   "metadata": {
    "collapsed": true
   },
   "outputs": [],
   "source": []
  }
 ],
 "metadata": {
  "kernelspec": {
   "display_name": "Python 3",
   "language": "python",
   "name": "python3"
  },
  "language_info": {
   "codemirror_mode": {
    "name": "ipython",
    "version": 3
   },
   "file_extension": ".py",
   "mimetype": "text/x-python",
   "name": "python",
   "nbconvert_exporter": "python",
   "pygments_lexer": "ipython3",
   "version": "3.4.3"
  }
 },
 "nbformat": 4,
 "nbformat_minor": 0
}
