{
 "cells": [
  {
   "cell_type": "code",
   "execution_count": 1,
   "metadata": {
    "collapsed": true
   },
   "outputs": [],
   "source": [
    "import json\n",
    "import requests\n",
    "from bs4 import BeautifulSoup"
   ]
  },
  {
   "cell_type": "code",
   "execution_count": 179,
   "metadata": {
    "collapsed": true
   },
   "outputs": [],
   "source": [
    "jar = requests.cookies.RequestsCookieJar()\n",
    "jar.set('loginId','mbsgs2', domain='125.144.163.12', path='/');"
   ]
  },
  {
   "cell_type": "code",
   "execution_count": 184,
   "metadata": {
    "collapsed": true
   },
   "outputs": [],
   "source": [
    "loginPayload = {\n",
    "    'loginId':'mbsgs2',\n",
    "    'loginPw':'mbsgspw45@',\n",
    "    'channel':'on'\n",
    "}\n",
    "\n",
    "headers = {\n",
    "    'Accept':'text/html,application/xhtml+xml,application/xml;q=0.9,image/webp,*/*;q=0.8',\n",
    "    'Accept-Encoding':'gzip, deflate, br',\n",
    "    'Accept-Language':'ko-KR,ko;q=0.8,en-US;q=0.6,en;q=0.4',\n",
    "    'Cache-Control':'max-age=0',\n",
    "    'Connection':'keep-alive',\n",
    "    'Content-Length':'46',\n",
    "    'Content-Type':'application/x-www-form-urlencoded',\n",
    "    'Host':'125.144.163.12:8080',\n",
    "    'Origin':'https://125.144.163.12:8080',\n",
    "    'Referer':'https://125.144.163.12:8080/login.do',\n",
    "    'Upgrade-Insecure-Requests':'1',\n",
    "    'User-Agent':'Mozilla/5.0 (X11; Linux x86_64) AppleWebKit/537.36 (KHTML, like Gecko) Chrome/52.0.2743.116 Safari/537.36'\n",
    "}"
   ]
  },
  {
   "cell_type": "code",
   "execution_count": 185,
   "metadata": {
    "collapsed": false
   },
   "outputs": [
    {
     "name": "stderr",
     "output_type": "stream",
     "text": [
      "/home/jason/anaconda3/lib/python3.5/site-packages/requests/packages/urllib3/connectionpool.py:838: InsecureRequestWarning: Unverified HTTPS request is being made. Adding certificate verification is strongly advised. See: https://urllib3.readthedocs.io/en/latest/security.html\n",
      "  InsecureRequestWarning)\n",
      "/home/jason/anaconda3/lib/python3.5/site-packages/requests/packages/urllib3/connectionpool.py:838: InsecureRequestWarning: Unverified HTTPS request is being made. Adding certificate verification is strongly advised. See: https://urllib3.readthedocs.io/en/latest/security.html\n",
      "  InsecureRequestWarning)\n"
     ]
    }
   ],
   "source": [
    "s = requests.Session()\n",
    "r = s.post('https://125.144.163.12:8080/doLogin.do', data=loginPayload, cookies=jar, verify=False, allow_redirects=True)"
   ]
  },
  {
   "cell_type": "code",
   "execution_count": 186,
   "metadata": {
    "collapsed": false,
    "scrolled": true
   },
   "outputs": [
    {
     "name": "stdout",
     "output_type": "stream",
     "text": [
      "{'Accept': '*/*', 'User-Agent': 'python-requests/2.11.1', 'Accept-Encoding': 'gzip, deflate', 'Connection': 'keep-alive', 'Cookie': 'JSESSIONID=0B94179641EAA0B0060F398D803E7B4B; ui=\"{b:4/3agMWIbLw00r5krk1cgJvCYlNBi88U/LDgMdj+K/GOnuiE92Aevt/2rhrX2l0UyD8sRQgnFDe3eMt1OTuD3l3BbV0b0Q7Pxc28ICGA3ebBLSsY392c+fVBWR/wrV1JnZnLTNFWkN0V+1GHFb4N9B3lbRhAtwmHeQ5aQEnXf3EwBCQKN8PvD/HRaaZlAxGaRj3hwBmpSCQUbhrSg2vD7bqhvKuD3ai+7XASXz+b3CJATeNp6GXEnaE5d6GzCw+gqj7TOqA0tP1Nzviiknbt+1KXeZ51G364tjzSx26ITdmPaxrQ2zUqwF+X6QL3OodjXu8XexI0CDYo/FvaNunL41o0nnWIx0a7YfqPoftMWuFzFMvH54LiWLv/PyGwHOAZ9ev95tCuqpZtx1YRP7NP5SQ+lOxH74mblMNqojGJxKXrdU/8Lcr61zkIHTLvojKgBpIGADIWYWiS9bjq0iMdL98VkMz8C5O+ThxVhMRsnm+GZ/L6cDmUzk+VOFlqLW6DeMSzhas9puvCm2IwCN9v95S9Ef0OR+BfhW9ttFnDDdUFH6vcvFwyi4rhvvojZfnnht5SmaZsMFlYJmEvILzwq3HxX5IDExw0WKFExXldSiZ+niqwafnpJxc5frgbTLSsD+tNzgJqRDYJT6TqcMSo37X2dF4cEgLZJgw7R+PSUEOs5+roSo3HzgCOmMKtOaOBaLHsJ/B45E1fVm5ohOI/pOj8qQLQdEFacsQQu2tsTZ4GiHJq46egsAUTh6iqsv+qomHdbvLSTipSbT1qr5/eWURNhq80JzoVNzdvm807qrFlMaJIdbgjPmM/tUANav2LSYbQMXGSnh5dKm4QxoF8+zrR6UAW7WPo2CUdHm6NEWwJvO9tySU5dLU3I0PnexQbKERb6zKSon58cDGavZlE0yclIknQ4Vshvk4EkZWmZY/391fsLtWH3gCd7H4uSsZ14wSzyCZefIpiXvnjsFZXinp9TN4eQEE4nmVoWEK/YeK6H4gflxkflWOq8u3JOBY15xzvEVZ3TUdKsJ9WrH1Aa6UhLwbbSo1SJDhw596fgv33nmM0S6BcYxbp/njQPTB49onHc931JKBPrY7dNRYz9c/9UbNTPMuJVBT7yZCrNJAR5rSFBJACQ9Tee5CU3vgTsja1j3U8/x2kri2weBX4uYLgqzhYyRR/jzDqtKmWKqkEnjQEtr2Cyh6G8Q5uROTlH3pjpWrYV1BdPYTtD3suaQ==,s:SSZWnSzIBgvCfgFZmwHg94A2aFm5UjN8fIxiEBOpPayzn4r5dsGkut5JPy3/JIY7d6vJbkBtIWCZ1FXSli8rGoyobFtlE17i+DkOmOtWjc5TUzeGUNjmF8Y4qjp7Gxv9CBUAbXUYyYdK83JduH36xUBKBsUBcS0sGszhinT+faU=}\"; loginId=mbsgs2'}\n"
     ]
    }
   ],
   "source": [
    "print(r.request.headers)"
   ]
  },
  {
   "cell_type": "code",
   "execution_count": 187,
   "metadata": {
    "collapsed": false
   },
   "outputs": [
    {
     "data": {
      "text/plain": [
       "'JSESSIONID=0B94179641EAA0B0060F398D803E7B4B; ui=\"{b:4/3agMWIbLw00r5krk1cgJvCYlNBi88U/LDgMdj+K/GOnuiE92Aevt/2rhrX2l0UyD8sRQgnFDe3eMt1OTuD3l3BbV0b0Q7Pxc28ICGA3ebBLSsY392c+fVBWR/wrV1JnZnLTNFWkN0V+1GHFb4N9B3lbRhAtwmHeQ5aQEnXf3EwBCQKN8PvD/HRaaZlAxGaRj3hwBmpSCQUbhrSg2vD7bqhvKuD3ai+7XASXz+b3CJATeNp6GXEnaE5d6GzCw+gqj7TOqA0tP1Nzviiknbt+1KXeZ51G364tjzSx26ITdmPaxrQ2zUqwF+X6QL3OodjXu8XexI0CDYo/FvaNunL41o0nnWIx0a7YfqPoftMWuFzFMvH54LiWLv/PyGwHOAZ9ev95tCuqpZtx1YRP7NP5SQ+lOxH74mblMNqojGJxKXrdU/8Lcr61zkIHTLvojKgBpIGADIWYWiS9bjq0iMdL98VkMz8C5O+ThxVhMRsnm+GZ/L6cDmUzk+VOFlqLW6DeMSzhas9puvCm2IwCN9v95S9Ef0OR+BfhW9ttFnDDdUFH6vcvFwyi4rhvvojZfnnht5SmaZsMFlYJmEvILzwq3HxX5IDExw0WKFExXldSiZ+niqwafnpJxc5frgbTLSsD+tNzgJqRDYJT6TqcMSo37X2dF4cEgLZJgw7R+PSUEOs5+roSo3HzgCOmMKtOaOBaLHsJ/B45E1fVm5ohOI/pOj8qQLQdEFacsQQu2tsTZ4GiHJq46egsAUTh6iqsv+qomHdbvLSTipSbT1qr5/eWURNhq80JzoVNzdvm807qrFlMaJIdbgjPmM/tUANav2LSYbQMXGSnh5dKm4QxoF8+zrR6UAW7WPo2CUdHm6NEWwJvO9tySU5dLU3I0PnexQbKERb6zKSon58cDGavZlE0yclIknQ4Vshvk4EkZWmZY/391fsLtWH3gCd7H4uSsZ14wSzyCZefIpiXvnjsFZXinp9TN4eQEE4nmVoWEK/YeK6H4gflxkflWOq8u3JOBY15xzvEVZ3TUdKsJ9WrH1Aa6UhLwbbSo1SJDhw596fgv33nmM0S6BcYxbp/njQPTB49onHc931JKBPrY7dNRYz9c/9UbNTPMuJVBT7yZCrNJAR5rSFBJACQ9Tee5CU3vgTsja1j3U8/x2kri2weBX4uYLgqzhYyRR/jzDqtKmWKqkEnjQEtr2Cyh6G8Q5uROTlH3pjpWrYV1BdPYTtD3suaQ==,s:SSZWnSzIBgvCfgFZmwHg94A2aFm5UjN8fIxiEBOpPayzn4r5dsGkut5JPy3/JIY7d6vJbkBtIWCZ1FXSli8rGoyobFtlE17i+DkOmOtWjc5TUzeGUNjmF8Y4qjp7Gxv9CBUAbXUYyYdK83JduH36xUBKBsUBcS0sGszhinT+faU=}\"; loginId=mbsgs2'"
      ]
     },
     "execution_count": 187,
     "metadata": {},
     "output_type": "execute_result"
    }
   ],
   "source": [
    "uiCookie = r.request.headers['Cookie']\n",
    "uiCookie"
   ]
  },
  {
   "cell_type": "code",
   "execution_count": 188,
   "metadata": {
    "collapsed": false
   },
   "outputs": [
    {
     "name": "stderr",
     "output_type": "stream",
     "text": [
      "/home/jason/anaconda3/lib/python3.5/site-packages/requests/packages/urllib3/connectionpool.py:838: InsecureRequestWarning: Unverified HTTPS request is being made. Adding certificate verification is strongly advised. See: https://urllib3.readthedocs.io/en/latest/security.html\n",
      "  InsecureRequestWarning)\n"
     ]
    }
   ],
   "source": [
    "payload = {'lastTime':'20170225163220', 'screenType':'S', '_':'1487555109721'}\n",
    "\n",
    "r = s.get('https://125.144.163.12:8080/chart/rangeInterestCh.do', params=payload, headers = {\n",
    "    'accept': 'text/html,application/xhtml+xml,application/xml;q=0.9,image/webp,*/*;q=0.8',\n",
    "    'accept-encoding': 'gzip, deflate, sdch, br', \n",
    "    'accept-language': 'en-US,en;q=0.8',\n",
    "    'Cache-Control': 'max-age=0',\n",
    "    'Host': '125.144.163.12:8080',\n",
    "    'Upgrade-Insecure-Requests': '1',\n",
    "    'User-Agent': 'Mozilla/5.0 (X11; Linux x86_64) AppleWebKit/537.36 (KHTML, like Gecko) Chrome/52.0.2743.116 Safari/537.36',\n",
    "    'X-Requested-With':'XMLHttpRequest'\n",
    "}, verify=False)"
   ]
  },
  {
   "cell_type": "code",
   "execution_count": 189,
   "metadata": {
    "collapsed": false
   },
   "outputs": [
    {
     "name": "stdout",
     "output_type": "stream",
     "text": [
      "https://125.144.163.12:8080/chart/rangeInterestCh.do?lastTime=20170225163220&_=1487555109721&screenType=S\n"
     ]
    }
   ],
   "source": [
    "print(r.url)"
   ]
  },
  {
   "cell_type": "code",
   "execution_count": 190,
   "metadata": {
    "collapsed": false
   },
   "outputs": [
    {
     "name": "stdout",
     "output_type": "stream",
     "text": [
      "{'accept-encoding': 'gzip, deflate, sdch, br', 'Upgrade-Insecure-Requests': '1', 'Cookie': 'JSESSIONID=571C3C058B2ACB59EBDEB31C3A2A7719; ui=\"{b:4/3agMWIbLw00r5krk1cgJvCYlNBi88U/LDgMdj+K/GOnuiE92Aevt/2rhrX2l0UyD8sRQgnFDe3eMt1OTuD3l3BbV0b0Q7Pxc28ICGA3ebBLSsY392c+fVBWR/wrV1JnZnLTNFWkN0V+1GHFb4N9B3lbRhAtwmHeQ5aQEnXf3EwBCQKN8PvD/HRaaZlAxGaRj3hwBmpSCQUbhrSg2vD7bqhvKuD3ai+7XASXz+b3CJATeNp6GXEnaE5d6GzCw+gqj7TOqA0tP1Nzviiknbt+1KXeZ51G364tjzSx26ITdmPaxrQ2zUqwF+X6QL3OodjXu8XexI0CDYo/FvaNunL41o0nnWIx0a7YfqPoftMWuFzFMvH54LiWLv/PyGwHOAZ9ev95tCuqpZtx1YRP7NP5SQ+lOxH74mblMNqojGJxKXrdU/8Lcr61zkIHTLvojKgBpIGADIWYWiS9bjq0iMdL98VkMz8C5O+ThxVhMRsnm+GZ/L6cDmUzk+VOFlqLW6DeMSzhas9puvCm2IwCN9v95S9Ef0OR+BfhW9ttFnDDdUFH6vcvFwyi4rhvvojZfnnht5SmaZsMFlYJmEvILzwq3HxX5IDExw0WKFExXldSiZ+niqwafnpJxc5frgbTLSsD+tNzgJqRDYJT6TqcMSo37X2dF4cEgLZJgw7R+PSUEOs5+roSo3HzgCOmMKtOaOBaLHsJ/B45E1fVm5ohOI/pOj8qQLQdEFacsQQu2tsTZ4GiHJq46egsAUTh6iqsv+qomHdbvLSTipSbT1qr5/eWURNhq80JzoVNzdvm807qrFlMaJIdbgjPmM/tUANav2LSYbQMXGSnh5dKm4QxoF8+zrR6UAW7WPo2CUdHm6NEWwJvO9tySU5dLU3I0PnexQbKERb6zKSon58cDGavZlE0yclIknQ4Vshvk4EkZWmZY/391fsLtWH3gCd7H4uSsZ14wSzyCZefIpiXvnjsFZXinp9TN4eQEE4nmVoWEK/YeK6H4gflxkflWOq8u3JOBY15xzvEVZ3TUdKsJ9WrH1Aa6UhLwbbSo1SJDhw596fgv33nmM0S6BcYxbp/njQPTB49onHc931JKBPrY7dNRYz9c/9UbNTPMuJVBT7yZCrNJAR5rSFBJACQ9Tee5CU3vgTsja1j3U8/x2kri2weBX4uYLgqzhYyRR/jzDqtKmWKqkEnjQEtr2Cyh6G8Q5uROTlH3pjpWrYV1BdPYTtD3suaQ==,s:SSZWnSzIBgvCfgFZmwHg94A2aFm5UjN8fIxiEBOpPayzn4r5dsGkut5JPy3/JIY7d6vJbkBtIWCZ1FXSli8rGoyobFtlE17i+DkOmOtWjc5TUzeGUNjmF8Y4qjp7Gxv9CBUAbXUYyYdK83JduH36xUBKBsUBcS0sGszhinT+faU=}\"', 'Connection': 'keep-alive', 'accept-language': 'en-US,en;q=0.8', 'Cache-Control': 'max-age=0', 'accept': 'text/html,application/xhtml+xml,application/xml;q=0.9,image/webp,*/*;q=0.8', 'X-Requested-With': 'XMLHttpRequest', 'User-Agent': 'Mozilla/5.0 (X11; Linux x86_64) AppleWebKit/537.36 (KHTML, like Gecko) Chrome/52.0.2743.116 Safari/537.36', 'Host': '125.144.163.12:8080'}\n"
     ]
    }
   ],
   "source": [
    "print(r.request.headers)"
   ]
  },
  {
   "cell_type": "code",
   "execution_count": 191,
   "metadata": {
    "collapsed": false
   },
   "outputs": [
    {
     "name": "stdout",
     "output_type": "stream",
     "text": [
      "{'Cache-Control': 'no-cache,no-store,must-revalidate', 'X-XSS-Protection': '1; mode=block', 'Server': 'Apache/2.4.23 (Unix) OpenSSL/1.0.1e-fips mod_jk/1.2.42', 'Date': 'Tue, 28 Feb 2017 08:29:31 GMT', 'Content-Length': '320', 'Pragma': 'no-cache', 'X-Content-Type-Options': 'nosniff', 'Content-Type': 'text/html;charset=UTF-8', 'Set-Cookie': 'JSESSIONID=91D987872C1433E62E73FC2A9AE8A830; Path=/; Secure; HttpOnly', 'Content-Language': 'en-US', 'Keep-Alive': 'timeout=5, max=100', 'Connection': 'Keep-Alive', 'Expires': 'Thu, 01 Jan 1970 00:00:00 GMT', 'Content-Security-Policy': \"script-src 'self' 'unsafe-inline' 'unsafe-eval'\", 'X-Frame-Options': 'DENY'}\n"
     ]
    }
   ],
   "source": [
    "print(r.headers)"
   ]
  },
  {
   "cell_type": "code",
   "execution_count": 192,
   "metadata": {
    "collapsed": false
   },
   "outputs": [
    {
     "data": {
      "text/plain": [
       "'\\n\\r\\n\\r\\n\\r\\n\\r\\n\\r\\n\\n<!DOCTYPE HTML>\\n<html>\\n<head>\\n<script type=\"text/javascript\">\\nfunction fnCmmnPringMsg(msg){\\n\\tif(msg || msg != \"\") alert(msg);\\n}\\n/* 메세지 출력 */\\nfnCmmnPringMsg(\"로그인을 해주세요.\");\\n</script>\\n<title></title>\\n\\t<meta http-equiv=\"REFRESH\" content=\"0;url=/login.do\">\\n</HEAD>\\n<body>\\n</body>\\n</html>'"
      ]
     },
     "execution_count": 192,
     "metadata": {},
     "output_type": "execute_result"
    }
   ],
   "source": [
    "r.text"
   ]
  },
  {
   "cell_type": "code",
   "execution_count": null,
   "metadata": {
    "collapsed": true
   },
   "outputs": [],
   "source": []
  }
 ],
 "metadata": {
  "anaconda-cloud": {},
  "kernelspec": {
   "display_name": "Python [default]",
   "language": "python",
   "name": "python3"
  },
  "language_info": {
   "codemirror_mode": {
    "name": "ipython",
    "version": 3
   },
   "file_extension": ".py",
   "mimetype": "text/x-python",
   "name": "python",
   "nbconvert_exporter": "python",
   "pygments_lexer": "ipython3",
   "version": "3.5.2"
  }
 },
 "nbformat": 4,
 "nbformat_minor": 1
}
