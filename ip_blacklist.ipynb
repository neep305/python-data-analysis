{
 "cells": [
  {
   "cell_type": "code",
   "execution_count": 24,
   "metadata": {
    "collapsed": false
   },
   "outputs": [],
   "source": [
    "import pandas as pd\n",
    "\n",
    "# iplist = pd.read_csv('ip_blacklist_20160504.csv', sep=',', encoding='utf-8')\n",
    "iplist = pd.read_csv('ip_list.csv', sep=',', encoding='utf-8')\n",
    "onlyip = iplist['IP']\n",
    "type(onlyip)\n",
    "lists = []\n",
    "\n",
    "def print_hex_iplist(onlyip):\n",
    "    \n",
    "    for i in range(len(onlyip)):\n",
    "        ipv4 = onlyip[i].split('.')\n",
    "        \n",
    "        result = \"%X%X%o%X\" % (int(ipv4[0]),int(ipv4[1]),int(ipv4[2]),int(ipv4[3]))\n",
    "          #print \"%X%X%o%X\" % (int(ipv4[0]),int(ipv4[1]),int(ipv4[2]),int(ipv4[3]))\n",
    "        \n",
    "        lists.append(result)\n",
    "        \n",
    "print_hex_iplist(onlyip)        \n",
    "\n",
    "iplist['IP HEX'] = lists\n",
    "\n",
    "iplist\n",
    "\n",
    "iplist.to_excel('ip_list_hex_20161016.xlsx', sheet_name='Sheet1')"
   ]
  },
  {
   "cell_type": "code",
   "execution_count": null,
   "metadata": {
    "collapsed": true
   },
   "outputs": [],
   "source": [
    "ips"
   ]
  },
  {
   "cell_type": "code",
   "execution_count": 13,
   "metadata": {
    "collapsed": true
   },
   "outputs": [],
   "source": [
    "# 218.147.142.132\n",
    "# 221.163.72.225\n",
    "# 221.163.72.236\n",
    "# 221.163.72.214\n",
    "\n",
    "ipv4 = '221.163.72.214'.split('.')"
   ]
  },
  {
   "cell_type": "code",
   "execution_count": 14,
   "metadata": {
    "collapsed": false
   },
   "outputs": [
    {
     "data": {
      "text/plain": [
       "['221', '163', '72', '214']"
      ]
     },
     "execution_count": 14,
     "metadata": {},
     "output_type": "execute_result"
    }
   ],
   "source": [
    "ipv4"
   ]
  },
  {
   "cell_type": "code",
   "execution_count": 15,
   "metadata": {
    "collapsed": true
   },
   "outputs": [],
   "source": [
    "result = \"%X%X%o%X\" % (int(ipv4[0]),int(ipv4[1]),int(ipv4[2]),int(ipv4[3]))"
   ]
  },
  {
   "cell_type": "code",
   "execution_count": 16,
   "metadata": {
    "collapsed": false
   },
   "outputs": [
    {
     "data": {
      "text/plain": [
       "'DDA3110D6'"
      ]
     },
     "execution_count": 16,
     "metadata": {},
     "output_type": "execute_result"
    }
   ],
   "source": [
    "result"
   ]
  },
  {
   "cell_type": "code",
   "execution_count": null,
   "metadata": {
    "collapsed": true
   },
   "outputs": [],
   "source": [
    "DA9321684\n",
    "DDA3110E1\n",
    "DDA3110EC\n",
    "DDA3110D6"
   ]
  }
 ],
 "metadata": {
  "anaconda-cloud": {},
  "kernelspec": {
   "display_name": "Python [conda root]",
   "language": "python",
   "name": "conda-root-py"
  },
  "language_info": {
   "codemirror_mode": {
    "name": "ipython",
    "version": 3
   },
   "file_extension": ".py",
   "mimetype": "text/x-python",
   "name": "python",
   "nbconvert_exporter": "python",
   "pygments_lexer": "ipython3",
   "version": "3.5.2"
  }
 },
 "nbformat": 4,
 "nbformat_minor": 0
}
