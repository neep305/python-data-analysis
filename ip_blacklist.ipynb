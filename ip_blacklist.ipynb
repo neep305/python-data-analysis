{
 "cells": [
  {
   "cell_type": "code",
   "execution_count": 59,
   "metadata": {
    "collapsed": false
   },
   "outputs": [],
   "source": [
    "import pandas as pd\n",
    "\n",
    "iplist = pd.read_csv('ip_blacklist_20160504.csv', sep=',', encoding='utf-8')\n",
    "onlyip = iplist['IP']\n",
    "lists = []\n",
    "\n",
    "def print_hex_iplist(onlyip):\n",
    "    \n",
    "    for i in range(len(onlyip)):\n",
    "        ipv4 = onlyip[i].split('.')\n",
    "        \n",
    "        result = \"%X%X%o%X\" % (int(ipv4[0]),int(ipv4[1]),int(ipv4[2]),int(ipv4[3]))\n",
    "          #print \"%X%X%o%X\" % (int(ipv4[0]),int(ipv4[1]),int(ipv4[2]),int(ipv4[3]))\n",
    "        \n",
    "        lists.append(result)\n",
    "        \n",
    "print_hex_iplist(onlyip)        \n",
    "\n",
    "iplist['IP HEX'] = lists\n",
    "\n",
    "iplist\n",
    "\n",
    "iplist.to_excel('ip_blacklist_hex_20160504.xlsx', sheet_name='Sheet1')"
   ]
  }
 ],
 "metadata": {
  "kernelspec": {
   "display_name": "Python 2",
   "language": "python",
   "name": "python2"
  },
  "language_info": {
   "codemirror_mode": {
    "name": "ipython",
    "version": 2
   },
   "file_extension": ".py",
   "mimetype": "text/x-python",
   "name": "python",
   "nbconvert_exporter": "python",
   "pygments_lexer": "ipython2",
   "version": "2.7.11"
  }
 },
 "nbformat": 4,
 "nbformat_minor": 0
}
