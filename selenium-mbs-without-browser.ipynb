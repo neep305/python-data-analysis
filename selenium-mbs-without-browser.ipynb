{
 "cells": [
  {
   "cell_type": "code",
   "execution_count": 1,
   "metadata": {
    "collapsed": false,
    "scrolled": true
   },
   "outputs": [],
   "source": [
    "from selenium import webdriver\n",
    "from selenium.webdriver.common.keys import Keys\n",
    "import time\n",
    "import xlrd\n",
    "from xlutils.copy import copy\n",
    "from selenium.common.exceptions import NoSuchElementException,StaleElementReferenceException\n",
    "from selenium.webdriver.common.desired_capabilities import DesiredCapabilities\n",
    "import os\n",
    "from bs4 import BeautifulSoup"
   ]
  },
  {
   "cell_type": "markdown",
   "metadata": {},
   "source": [
    "# 리모트 설정(Using Selenium with remote WebDriver)\n",
    "- java -jar selenium-server-standalone-2.x.x.jar\n",
    "- docker 설정 시 별도 리모트 설정이 없더라도 Standalone 테스트가 가능함.\n",
    "\n",
    "### selenium standalone 도커 명령어\n",
    "- docker run -d -p 4444:4444 selenium/standalone-chrome:3.4.0-einsteinium\n",
    "- docker ps\n",
    "- docker attach container-id"
   ]
  },
  {
   "cell_type": "code",
   "execution_count": 2,
   "metadata": {
    "collapsed": false
   },
   "outputs": [],
   "source": [
    "driver = webdriver.Remote(\n",
    "   command_executor='http://127.0.0.1:4444/wd/hub',\n",
    "   desired_capabilities=DesiredCapabilities.CHROME)"
   ]
  },
  {
   "cell_type": "markdown",
   "metadata": {},
   "source": [
    "# 웹 드라이버 선언"
   ]
  },
  {
   "cell_type": "code",
   "execution_count": 3,
   "metadata": {
    "collapsed": false
   },
   "outputs": [],
   "source": [
    "# Chrome Browser 실행\n",
    "# chrome_driver = webdriver.Chrome(executable_path='/home/jason/chromedriver')\n",
    "driver.get(\"https://www.naver.com\")"
   ]
  },
  {
   "cell_type": "code",
   "execution_count": 4,
   "metadata": {
    "collapsed": false
   },
   "outputs": [],
   "source": [
    "driver.get('https://nid.naver.com/nidlogin.login')"
   ]
  },
  {
   "cell_type": "code",
   "execution_count": 5,
   "metadata": {
    "collapsed": false
   },
   "outputs": [],
   "source": [
    "# 아이디/비밀번호를 입력해준다.\n",
    "driver.find_element_by_name('id').send_keys('neep305')\n",
    "driver.find_element_by_name('pw').send_keys('!jasonnam9669!')"
   ]
  },
  {
   "cell_type": "code",
   "execution_count": 6,
   "metadata": {
    "collapsed": false
   },
   "outputs": [],
   "source": [
    "# 로그인 버튼을 눌러주자.\n",
    "driver.find_element_by_xpath('//*[@id=\"frmNIDLogin\"]/fieldset/input').click()"
   ]
  },
  {
   "cell_type": "markdown",
   "metadata": {},
   "source": [
    "# 네이버 페이 테스트"
   ]
  },
  {
   "cell_type": "code",
   "execution_count": 7,
   "metadata": {
    "collapsed": false
   },
   "outputs": [
    {
     "name": "stdout",
     "output_type": "stream",
     "text": [
      "[caraz] 특가 1+1 시크릿 4단 유아 폴더매트 놀이방매트\n",
      "[카라즈] 특가 2017년 신상 1+1 시크릿 폴더매트 놀이방매트\n"
     ]
    }
   ],
   "source": [
    "# Naver 페이 들어가기\n",
    "driver.get('https://order.pay.naver.com/home')\n",
    "html = driver.page_source\n",
    "soup = BeautifulSoup(html, 'html.parser')\n",
    "notices = soup.select('div.p_inr > div.p_info > a > span')\n",
    "\n",
    "for n in notices:\n",
    "    print(n.text.strip())"
   ]
  },
  {
   "cell_type": "markdown",
   "metadata": {},
   "source": [
    "# MBS 사이트 자동 테스트"
   ]
  },
  {
   "cell_type": "code",
   "execution_count": 4,
   "metadata": {
    "collapsed": false
   },
   "outputs": [],
   "source": [
    "driver.get('https://mbs.kt.com:8080/login.do')"
   ]
  },
  {
   "cell_type": "code",
   "execution_count": 5,
   "metadata": {
    "collapsed": false
   },
   "outputs": [],
   "source": [
    "driver.find_element_by_name('loginId').send_keys('mbsgs10')\n",
    "driver.find_element_by_name('loginPw').send_keys('mbslive45@')"
   ]
  },
  {
   "cell_type": "code",
   "execution_count": 6,
   "metadata": {
    "collapsed": false
   },
   "outputs": [],
   "source": [
    "driver.find_element_by_xpath('//*[@id=\"loginfrm\"]/fieldset/button').click()"
   ]
  },
  {
   "cell_type": "code",
   "execution_count": 7,
   "metadata": {
    "collapsed": false
   },
   "outputs": [],
   "source": [
    "driver.get('https://mbs.kt.com:8080/timely/channel/hourlyMain.do')"
   ]
  },
  {
   "cell_type": "code",
   "execution_count": 8,
   "metadata": {
    "collapsed": false
   },
   "outputs": [],
   "source": [
    "driver.find_element_by_xpath('//*[@id=\"searchFrm\"]/div/fieldset/div/button').click()"
   ]
  },
  {
   "cell_type": "code",
   "execution_count": 9,
   "metadata": {
    "collapsed": false
   },
   "outputs": [
    {
     "data": {
      "text/plain": [
       "<selenium.webdriver.remote.webelement.WebElement (session=\"87d1f262-a0d6-4fbe-a0f6-8ad69ee4c986\", element=\"4\")>"
      ]
     },
     "execution_count": 9,
     "metadata": {},
     "output_type": "execute_result"
    }
   ],
   "source": [
    "driver.find_element_by_xpath('//*[@id=\"section_ajax\"]/button')"
   ]
  },
  {
   "cell_type": "code",
   "execution_count": 11,
   "metadata": {
    "collapsed": false
   },
   "outputs": [],
   "source": [
    "driver.find_element_by_class_name('btn_download').click()"
   ]
  },
  {
   "cell_type": "markdown",
   "metadata": {},
   "source": [
    "# Headless Browser 예제"
   ]
  },
  {
   "cell_type": "markdown",
   "metadata": {},
   "source": [
    "### http://kiennt.com/blog/2012/06/29/using-selenium-with-headless-browser.html"
   ]
  },
  {
   "cell_type": "code",
   "execution_count": 13,
   "metadata": {
    "collapsed": false
   },
   "outputs": [
    {
     "name": "stdout",
     "output_type": "stream",
     "text": [
      "Google\n"
     ]
    },
    {
     "data": {
      "text/plain": [
       "<Display cmd_param=['Xvfb', '-br', '-nolisten', 'tcp', '-screen', '0', '800x600x24', ':1001'] cmd=['Xvfb', '-br', '-nolisten', 'tcp', '-screen', '0', '800x600x24', ':1001'] oserror=None return_code=0 stdout=\"\" stderr=\"\" timeout_happened=False>"
      ]
     },
     "execution_count": 13,
     "metadata": {},
     "output_type": "execute_result"
    }
   ],
   "source": [
    "from pyvirtualdisplay import Display\n",
    "from selenium import webdriver\n",
    "\n",
    "display = Display(visible=0, size=(800, 600))\n",
    "display.start()\n",
    "\n",
    "browser = webdriver.Chrome(executable_path='/home/jason/chromedriver')\n",
    "# chrome_driver = webdriver.Chrome(executable_path='/home/jason/chromedriver')\n",
    "browser.get(\"http://www.google.com\")\n",
    "print(browser.title)\n",
    "browser.quit()\n",
    "\n",
    "display.stop()"
   ]
  },
  {
   "cell_type": "markdown",
   "metadata": {},
   "source": [
    "# 한빛 미디어 파일 다운로드 테스트\n",
    "- http://www.hanbit.co.kr/support/supplement_list.html"
   ]
  },
  {
   "cell_type": "code",
   "execution_count": null,
   "metadata": {
    "collapsed": true
   },
   "outputs": [],
   "source": []
  }
 ],
 "metadata": {
  "anaconda-cloud": {},
  "kernelspec": {
   "display_name": "Python [conda root]",
   "language": "python",
   "name": "conda-root-py"
  },
  "language_info": {
   "codemirror_mode": {
    "name": "ipython",
    "version": 3
   },
   "file_extension": ".py",
   "mimetype": "text/x-python",
   "name": "python",
   "nbconvert_exporter": "python",
   "pygments_lexer": "ipython3",
   "version": "3.5.2"
  }
 },
 "nbformat": 4,
 "nbformat_minor": 1
}
