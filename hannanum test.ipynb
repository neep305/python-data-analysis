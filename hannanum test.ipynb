{
 "cells": [
  {
   "cell_type": "code",
   "execution_count": 1,
   "metadata": {
    "collapsed": true
   },
   "outputs": [],
   "source": [
    "from collections import Counter\n",
    "from konlpy.tag import Hannanum\n",
    "import pandas as pd\n",
    "import pymongo\n",
    "from pymongo import MongoClient\n",
    "import urllib.request\n",
    "import json\n",
    "from konlpy.tag import Komoran\n",
    "from konlpy.tag import Kkma"
   ]
  },
  {
   "cell_type": "code",
   "execution_count": 2,
   "metadata": {
    "collapsed": true
   },
   "outputs": [],
   "source": [
    "def get_hannanum_data(str):\n",
    "    h = Hannanum()  # kkma = Kkma() , k = Komoran() , h = Hannanum()\n",
    "    nouns = h.nouns(str)\n",
    "    nouns_cut = []\n",
    "    for i in nouns:\n",
    "        if(len(i)>1):\n",
    "            nouns_cut.append(i)\n",
    "\n",
    "    count = Counter(nouns_cut)\n",
    "\n",
    "    return count.most_common(50)"
   ]
  },
  {
   "cell_type": "code",
   "execution_count": 3,
   "metadata": {
    "collapsed": true
   },
   "outputs": [],
   "source": [
    "def get_mostCommon_result(pid,startDate,endDate):\n",
    "\n",
    "    '''\n",
    "    file_name = 'data/livetalk_%s.csv' % pid\n",
    "    data = get_csv_text(file_name)\n",
    "    text = data['BLTTHG_CNTNT']\n",
    "    dic = []\n",
    "    for i in text:\n",
    "        dic.append(i)\n",
    "    '''\n",
    "    #startDate = '20160523'\n",
    "    #endDate = '20160530'\n",
    "\n",
    "    # http://10.52.37.26/text/liveTalk_ex.gs?itemCd=353813&startDate=20160523&endDate=20160530\n",
    "    # http://10.52.37.26/text/estimate.gs?itemCd=339714&startDate=20160523&endDate=20160530\n",
    "    file_path = 'http://10.52.37.26/text/liveTalk_ex.gs?itemCd=%s&startDate=%s&endDate=%s' % (pid,startDate,endDate)\n",
    "    wp = urllib.request.urlopen(file_path)\n",
    "    data_string = wp.read().decode('euc-kr')\n",
    "    dfs = json.loads(data_string)\n",
    "\n",
    "    dic = []\n",
    "    for i in range(len(dfs)):\n",
    "        dic.append(dfs[i]['cntnt'])\n",
    "\n",
    "    str = ' '.join(dic)\n",
    "    return get_hannanum_data(str)"
   ]
  },
  {
   "cell_type": "code",
   "execution_count": 4,
   "metadata": {
    "collapsed": false
   },
   "outputs": [
    {
     "data": {
      "text/plain": [
       "[('아이오페', 29),\n",
       " ('구성', 29),\n",
       " ('구매', 19),\n",
       " ('주문', 17),\n",
       " ('쿠션', 13),\n",
       " ('방송', 10),\n",
       " ('대박', 9),\n",
       " ('제품', 9),\n",
       " ('엄마', 9),\n",
       " ('에어쿠션', 9),\n",
       " ('선물', 9),\n",
       " ('피부', 8),\n",
       " ('진짜', 6),\n",
       " ('여름', 6),\n",
       " ('사용', 6),\n",
       " ('화장품', 6),\n",
       " ('오늘', 5),\n",
       " ('주문완료', 5),\n",
       " ('스템셀', 4),\n",
       " ('완전', 4),\n",
       " ('민트케이스', 4),\n",
       " ('건조', 4),\n",
       " ('동생', 4),\n",
       " ('최고', 4),\n",
       " ('주름', 4),\n",
       " ('로션', 4),\n",
       " ('상상초월', 4),\n",
       " ('구입', 4),\n",
       " ('이유', 4),\n",
       " ('스킨', 3),\n",
       " ('ㅎㅎ', 3),\n",
       " ('소리', 3),\n",
       " ('가격', 3),\n",
       " ('사야', 3),\n",
       " ('ㅋㅋ', 3),\n",
       " ('만족', 3),\n",
       " ('언니', 3),\n",
       " ('알림신청하', 3),\n",
       " ('사은품', 3),\n",
       " ('커버력', 3),\n",
       " ('친정엄마', 3),\n",
       " ('혜택', 2),\n",
       " ('아이오페♡', 2),\n",
       " ('결제', 2),\n",
       " ('쿨러백', 2),\n",
       " ('기초', 2),\n",
       " ('이번', 2),\n",
       " ('지금', 2),\n",
       " ('지난번', 2),\n",
       " ('더운여름', 2)]"
      ]
     },
     "execution_count": 4,
     "metadata": {},
     "output_type": "execute_result"
    }
   ],
   "source": [
    "get_mostCommon_result('338856','20160520','20160530')"
   ]
  },
  {
   "cell_type": "code",
   "execution_count": 6,
   "metadata": {
    "collapsed": false
   },
   "outputs": [
    {
     "data": {
      "text/plain": [
       "[('실크테라피', 57),\n",
       " ('구매', 46),\n",
       " ('주문', 25),\n",
       " ('머릿결', 20),\n",
       " ('사용', 16),\n",
       " ('방송', 15),\n",
       " ('구성', 14),\n",
       " ('가격', 13),\n",
       " ('머리', 11),\n",
       " ('머리결', 10),\n",
       " ('주문완료', 9),\n",
       " ('오늘', 9),\n",
       " ('구입', 9),\n",
       " ('제품', 8),\n",
       " ('최고', 7),\n",
       " ('ㅎㅎ', 5),\n",
       " ('이번', 5),\n",
       " ('필수품', 5),\n",
       " ('구매완료', 5),\n",
       " ('대박', 4),\n",
       " ('필요', 4),\n",
       " ('신랑', 4),\n",
       " ('선물', 4),\n",
       " ('고민', 4),\n",
       " ('남편', 3),\n",
       " ('믿고사', 3),\n",
       " ('손상', 3),\n",
       " ('윤기', 3),\n",
       " ('신청', 3),\n",
       " ('쟁여두', 3),\n",
       " ('저렴', 3),\n",
       " ('가격인상', 3),\n",
       " ('마음', 3),\n",
       " ('온가족', 3),\n",
       " ('가족', 3),\n",
       " ('한번', 3),\n",
       " ('미용실', 3),\n",
       " ('강추', 3),\n",
       " ('홈쇼핑', 3),\n",
       " ('쓰던거', 3),\n",
       " ('헤어에센스', 3),\n",
       " ('이거', 3),\n",
       " ('실크테라피~', 3),\n",
       " ('너무좋아요', 2),\n",
       " ('ㅋ이거', 2),\n",
       " ('ㅠㅠ', 2),\n",
       " ('실크테라피예요', 2),\n",
       " ('2세트주문완료요', 2),\n",
       " ('우리', 2),\n",
       " ('지금', 2)]"
      ]
     },
     "execution_count": 6,
     "metadata": {},
     "output_type": "execute_result"
    }
   ],
   "source": [
    "get_mostCommon_result('339714','20160520','20160530')"
   ]
  },
  {
   "cell_type": "code",
   "execution_count": 7,
   "metadata": {
    "collapsed": true
   },
   "outputs": [],
   "source": [
    "def get_db_connection():\n",
    "    # connect to database\n",
    "    connection = MongoClient('localhost',27017)\n",
    "    db = connection.local\n",
    "    return db"
   ]
  },
  {
   "cell_type": "code",
   "execution_count": 8,
   "metadata": {
    "collapsed": true
   },
   "outputs": [],
   "source": [
    "def insert_db(pid,ds,db):\n",
    "    #db = db_connection()\n",
    "    db.wordcnt.insert_one(\n",
    "    {\n",
    "        \"item_code\": pid,\"wordlist\":ds\n",
    "    }\n",
    "    )"
   ]
  },
  {
   "cell_type": "code",
   "execution_count": 21,
   "metadata": {
    "collapsed": true
   },
   "outputs": [],
   "source": [
    "db = get_db_connection()\n",
    "# ds = get_mostCommon_result('339714','20160520','20160530')\n",
    "insert_db('339714',get_mostCommon_result('339714','20160520','20160530'),db)"
   ]
  },
  {
   "cell_type": "code",
   "execution_count": 22,
   "metadata": {
    "collapsed": true
   },
   "outputs": [],
   "source": [
    "insert_db('338856',get_mostCommon_result('338856','20160520','20160530'),db)"
   ]
  },
  {
   "cell_type": "code",
   "execution_count": 23,
   "metadata": {
    "collapsed": true
   },
   "outputs": [],
   "source": [
    "insert_db('353813',get_mostCommon_result('353813','20160520','20160530'),db)"
   ]
  },
  {
   "cell_type": "code",
   "execution_count": 24,
   "metadata": {
    "collapsed": true
   },
   "outputs": [],
   "source": [
    "insert_db('441799',get_mostCommon_result('441799','20160520','20160530'),db)"
   ]
  },
  {
   "cell_type": "code",
   "execution_count": 13,
   "metadata": {
    "collapsed": true
   },
   "outputs": [],
   "source": [
    "def select_data(pid,db):\n",
    "    #db = db_connection()\n",
    "    dic = {}\n",
    "    cursor = db.wordcnt.find({\"item_code\":pid})\n",
    "    for document in cursor:\n",
    "        dic = document\n",
    "\n",
    "    return dic.get('wordlist')\n",
    "\n",
    "def select_data_count(pid,db):\n",
    "    #db = db_connection()\n",
    "    dic = []\n",
    "    cursor = db.wordcnt.find({\"item_code\":pid})\n",
    "    for document in cursor:\n",
    "        dic = document\n",
    "\n",
    "    return len(dic)"
   ]
  },
  {
   "cell_type": "code",
   "execution_count": 14,
   "metadata": {
    "collapsed": false
   },
   "outputs": [
    {
     "data": {
      "text/plain": [
       "[['실크테라피', 57],\n",
       " ['구매', 46],\n",
       " ['주문', 25],\n",
       " ['머릿결', 20],\n",
       " ['사용', 16],\n",
       " ['방송', 15],\n",
       " ['구성', 14],\n",
       " ['가격', 13],\n",
       " ['머리', 11],\n",
       " ['머리결', 10],\n",
       " ['주문완료', 9],\n",
       " ['오늘', 9],\n",
       " ['구입', 9],\n",
       " ['제품', 8],\n",
       " ['최고', 7],\n",
       " ['ㅎㅎ', 5],\n",
       " ['이번', 5],\n",
       " ['필수품', 5],\n",
       " ['구매완료', 5],\n",
       " ['대박', 4],\n",
       " ['필요', 4],\n",
       " ['신랑', 4],\n",
       " ['선물', 4],\n",
       " ['고민', 4],\n",
       " ['남편', 3],\n",
       " ['믿고사', 3],\n",
       " ['손상', 3],\n",
       " ['윤기', 3],\n",
       " ['신청', 3],\n",
       " ['쟁여두', 3],\n",
       " ['저렴', 3],\n",
       " ['가격인상', 3],\n",
       " ['마음', 3],\n",
       " ['온가족', 3],\n",
       " ['가족', 3],\n",
       " ['한번', 3],\n",
       " ['미용실', 3],\n",
       " ['강추', 3],\n",
       " ['홈쇼핑', 3],\n",
       " ['쓰던거', 3],\n",
       " ['헤어에센스', 3],\n",
       " ['이거', 3],\n",
       " ['실크테라피~', 3],\n",
       " ['너무좋아요', 2],\n",
       " ['ㅋ이거', 2],\n",
       " ['ㅠㅠ', 2],\n",
       " ['실크테라피예요', 2],\n",
       " ['2세트주문완료요', 2],\n",
       " ['우리', 2],\n",
       " ['지금', 2]]"
      ]
     },
     "execution_count": 14,
     "metadata": {},
     "output_type": "execute_result"
    }
   ],
   "source": [
    "select_data('441799',db)"
   ]
  },
  {
   "cell_type": "code",
   "execution_count": 16,
   "metadata": {
    "collapsed": false
   },
   "outputs": [],
   "source": [
    "def delete_all(pid,db):\n",
    "    db.wordcnt.delete_many({\"item_code\":pid})"
   ]
  },
  {
   "cell_type": "code",
   "execution_count": 17,
   "metadata": {
    "collapsed": true
   },
   "outputs": [],
   "source": [
    "delete_all('339714',db)"
   ]
  },
  {
   "cell_type": "code",
   "execution_count": 18,
   "metadata": {
    "collapsed": true
   },
   "outputs": [],
   "source": [
    "delete_all('338856',db)"
   ]
  },
  {
   "cell_type": "code",
   "execution_count": 19,
   "metadata": {
    "collapsed": true
   },
   "outputs": [],
   "source": [
    "delete_all('353813',db)"
   ]
  },
  {
   "cell_type": "code",
   "execution_count": 20,
   "metadata": {
    "collapsed": true
   },
   "outputs": [],
   "source": [
    "delete_all('441799',db)"
   ]
  },
  {
   "cell_type": "code",
   "execution_count": null,
   "metadata": {
    "collapsed": true
   },
   "outputs": [],
   "source": []
  }
 ],
 "metadata": {
  "anaconda-cloud": {},
  "kernelspec": {
   "display_name": "Python [default]",
   "language": "python",
   "name": "python3"
  },
  "language_info": {
   "codemirror_mode": {
    "name": "ipython",
    "version": 3
   },
   "file_extension": ".py",
   "mimetype": "text/x-python",
   "name": "python",
   "nbconvert_exporter": "python",
   "pygments_lexer": "ipython3",
   "version": "3.5.2"
  }
 },
 "nbformat": 4,
 "nbformat_minor": 0
}
