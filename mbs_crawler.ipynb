{
 "cells": [
  {
   "cell_type": "code",
   "execution_count": 1,
   "metadata": {
    "collapsed": false
   },
   "outputs": [],
   "source": [
    "import urllib.request\n",
    "import urllib.parse\n",
    "import http.cookiejar\n",
    "import ssl"
   ]
  },
  {
   "cell_type": "code",
   "execution_count": 9,
   "metadata": {
    "collapsed": false
   },
   "outputs": [],
   "source": [
    "url = 'https://125.144.163.12:8080/chart/rangeInterestCh.do'\n",
    "val = {'lastTime':'20170225145440', 'screenType':'S'}\n",
    "user_agent = 'Mozilla/5.0 (X11; Linux x86_64) AppleWebKit/537.36 (KHTML, like Gecko) Chrome/52.0.2743.116 Safari/537.36'\n",
    "headers = {\n",
    "    'accept': 'application/json',\n",
    "    'accept-encoding': 'gzip, deflate', \n",
    "    'accept-language': 'en-US,en;q=0.8',\n",
    "    'Host': '125.144.163.12:8080',\n",
    "    'Referer': 'https://125.144.163.12:8080/dashboard/dashboardMain.do',\n",
    "    'User-Agent': 'Mozilla/5.0 (X11; Linux x86_64) AppleWebKit/537.36 (KHTML, like Gecko) Chrome/52.0.2743.116 Safari/537.36',\n",
    "    'X-Requested-With':'XMLHttpRequest',\n",
    "    'Cookie': 'loginId=mbsgs2'\n",
    "}\n",
    "data = urllib.parse.urlencode(val).encode('UTF-8')"
   ]
  },
  {
   "cell_type": "code",
   "execution_count": 10,
   "metadata": {
    "collapsed": false
   },
   "outputs": [],
   "source": [
    "req = urllib.request.Request(url, data, headers)\n",
    "# req = urllib.request.urlopen(url, val, headers, context = ctx)\n",
    "# with urllib.request.urlopen(url, data, headers, context = ctx) as response:\n",
    "#    the_page = response.read()"
   ]
  },
  {
   "cell_type": "code",
   "execution_count": 11,
   "metadata": {
    "collapsed": false
   },
   "outputs": [
    {
     "data": {
      "text/plain": [
       "[('X-requested-with', 'XMLHttpRequest'),\n",
       " ('Host', '125.144.163.12:8080'),\n",
       " ('User-agent',\n",
       "  'Mozilla/5.0 (X11; Linux x86_64) AppleWebKit/537.36 (KHTML, like Gecko) Chrome/52.0.2743.116 Safari/537.36'),\n",
       " ('Accept-language', 'en-US,en;q=0.8'),\n",
       " ('Accept-encoding', 'gzip, deflate'),\n",
       " ('Accept', 'application/json'),\n",
       " ('Cookie', 'loginId=mbsgs2'),\n",
       " ('Referer', 'https://125.144.163.12:8080/dashboard/dashboardMain.do')]"
      ]
     },
     "execution_count": 11,
     "metadata": {},
     "output_type": "execute_result"
    }
   ],
   "source": [
    "req.header_items()"
   ]
  },
  {
   "cell_type": "code",
   "execution_count": 12,
   "metadata": {
    "collapsed": false
   },
   "outputs": [],
   "source": [
    "ctx = ssl.create_default_context()\n",
    "ctx.check_hostname = False\n",
    "ctx.verify_mode = ssl.CERT_NONE\n",
    "\n",
    "response = urllib.request.urlopen(req, context = ctx)"
   ]
  },
  {
   "cell_type": "code",
   "execution_count": 13,
   "metadata": {
    "collapsed": false
   },
   "outputs": [
    {
     "data": {
      "text/plain": [
       "<http.client.HTTPResponse at 0x7f3254815e10>"
      ]
     },
     "execution_count": 13,
     "metadata": {},
     "output_type": "execute_result"
    }
   ],
   "source": [
    "response"
   ]
  },
  {
   "cell_type": "code",
   "execution_count": 14,
   "metadata": {
    "collapsed": false
   },
   "outputs": [
    {
     "name": "stdout",
     "output_type": "stream",
     "text": [
      "b'\\n\\r\\n\\r\\n\\r\\n\\r\\n\\r\\n\\n<!DOCTYPE HTML>\\n<html>\\n<head>\\n<script type=\"text/javascript\">\\nfunction fnCmmnPringMsg(msg){\\n\\tif(msg || msg != \"\") alert(msg);\\n}\\n/* \\xeb\\xa9\\x94\\xec\\x84\\xb8\\xec\\xa7\\x80 \\xec\\xb6\\x9c\\xeb\\xa0\\xa5 */\\nfnCmmnPringMsg(\"\\xeb\\xa1\\x9c\\xea\\xb7\\xb8\\xec\\x9d\\xb8\\xec\\x9d\\x84 \\xed\\x95\\xb4\\xec\\xa3\\xbc\\xec\\x84\\xb8\\xec\\x9a\\x94.\");\\n</script>\\n<title></title>\\n\\t<meta http-equiv=\"REFRESH\" content=\"0;url=/login.do\">\\n</HEAD>\\n<body>\\n</body>\\n</html>'\n"
     ]
    }
   ],
   "source": [
    "with response as resp:\n",
    "    line = resp.read()\n",
    "    print(line)"
   ]
  },
  {
   "cell_type": "markdown",
   "metadata": {},
   "source": [
    "# Beautiful Soup을 이용한 Apple 채용정보 수집하기"
   ]
  },
  {
   "cell_type": "code",
   "execution_count": 15,
   "metadata": {
    "collapsed": true
   },
   "outputs": [],
   "source": [
    "import json"
   ]
  },
  {
   "cell_type": "code",
   "execution_count": 16,
   "metadata": {
    "collapsed": true
   },
   "outputs": [],
   "source": [
    "import requests"
   ]
  },
  {
   "cell_type": "code",
   "execution_count": 17,
   "metadata": {
    "collapsed": true
   },
   "outputs": [],
   "source": [
    "from bs4 import BeautifulSoup"
   ]
  },
  {
   "cell_type": "code",
   "execution_count": 23,
   "metadata": {
    "collapsed": false
   },
   "outputs": [],
   "source": [
    "search_request = {\n",
    "    \"searchString\":\"\",\n",
    "    \"jobType\":0,\n",
    "    \"sortBy\":\"req_open_dt\",\n",
    "    \"sortOrder\":\"1\",\n",
    "    \"language\":None,\n",
    "    \"autocomplete\":None,\n",
    "    \"delta\":0,\n",
    "    \"numberOfResults\":0,\n",
    "    \"pageNumber\":None,\n",
    "    \"internalExternalIndicator\":0,\n",
    "    \"lastRunDate\":0,\n",
    "    \"countryLang\":None,\n",
    "    \"filters\":{\n",
    "        \"locations\":{\n",
    "            \"location\":[{\n",
    "                    \"type\":0,\n",
    "                    \"code\":\"USA\",\n",
    "                    \"countryCode\":None,\n",
    "                    \"stateCode\":None,\n",
    "                    \"cityCode\":None,\n",
    "                    \"cityName\":None\n",
    "            }]\n",
    "        },\n",
    "        \"languageSkills\":None,\n",
    "        \"jobFunctions\":None,\n",
    "        \"retailJobSpecs\":None,\n",
    "        \"businessLine\":None,\n",
    "        \"hiringManagerId\":None},\n",
    "    \"requisitionIds\":None\n",
    "}"
   ]
  },
  {
   "cell_type": "code",
   "execution_count": 24,
   "metadata": {
    "collapsed": false
   },
   "outputs": [],
   "source": [
    "payload = { \n",
    "    'searchRequestJson': json.dumps(search_request),\n",
    "    'clientOffset': '-300'\n",
    "}\n",
    "r = requests.post(\n",
    "    url = 'https://jobs.apple.com/us/search/search-result',\n",
    "    data = payload,\n",
    "    headers = {\n",
    "        'X-Requested-With': 'XMLHttpRequest'\n",
    "    }\n",
    ")"
   ]
  },
  {
   "cell_type": "code",
   "execution_count": 26,
   "metadata": {
    "collapsed": false
   },
   "outputs": [
    {
     "name": "stderr",
     "output_type": "stream",
     "text": [
      "/home/jason/anaconda3/lib/python3.5/site-packages/bs4/__init__.py:166: UserWarning: No parser was explicitly specified, so I'm using the best available HTML parser for this system (\"lxml\"). This usually isn't a problem, but if you run this code on another system, or in a different virtual environment, it may use a different parser and behave differently.\n",
      "\n",
      "To get rid of this warning, change this:\n",
      "\n",
      " BeautifulSoup([your markup])\n",
      "\n",
      "to this:\n",
      "\n",
      " BeautifulSoup([your markup], \"lxml\")\n",
      "\n",
      "  markup_type=markup_type))\n"
     ]
    }
   ],
   "source": [
    "s = BeautifulSoup(r.text)"
   ]
  },
  {
   "cell_type": "code",
   "execution_count": 28,
   "metadata": {
    "collapsed": false
   },
   "outputs": [],
   "source": [
    "jobs = []\n",
    "\n",
    "for r in s.findAll('requisition'):\n",
    "    job = {}\n",
    "    job['jobid'] = r.jobid.text\n",
    "    job['title'] = r.postingtitle and \\\n",
    "        r.postingtitle.text or r.retailpostingtitle.text\n",
    "    job['location'] = r.location.text\n",
    "    jobs.append(job)"
   ]
  },
  {
   "cell_type": "code",
   "execution_count": 29,
   "metadata": {
    "collapsed": false
   },
   "outputs": [
    {
     "data": {
      "text/plain": [
       "[{'jobid': 'USABL', 'location': 'Various', 'title': 'US-Business Leader'},\n",
       " {'jobid': 'USABM', 'location': 'Various', 'title': 'US-Business Manager'},\n",
       " {'jobid': 'USABS', 'location': 'Various', 'title': 'US-Business Specialist'},\n",
       " {'jobid': 'USALP',\n",
       "  'location': 'Various',\n",
       "  'title': 'US-Apple Store Leader Program'},\n",
       " {'jobid': 'USACR', 'location': 'Various', 'title': 'US-Creative'},\n",
       " {'jobid': 'USAEX', 'location': 'Various', 'title': 'US-Expert'},\n",
       " {'jobid': 'USAGN', 'location': 'Various', 'title': 'US-Genius'},\n",
       " {'jobid': 'USAIS', 'location': 'Various', 'title': 'US-Inventory Specialist'},\n",
       " {'jobid': 'USAMN', 'location': 'Various', 'title': 'US-Manager'},\n",
       " {'jobid': 'USAML', 'location': 'Various', 'title': 'US-Market Leader'},\n",
       " {'jobid': 'USASL', 'location': 'Various', 'title': 'US-Store Leader'},\n",
       " {'jobid': 'USASE', 'location': 'Various', 'title': 'US-Solution Engineer'},\n",
       " {'jobid': 'USASP', 'location': 'Various', 'title': 'US-Specialist'},\n",
       " {'jobid': 'USSS', 'location': 'Various', 'title': 'US-Service Specialist'},\n",
       " {'jobid': 'USSM', 'location': 'Various', 'title': 'US-Senior Manager'},\n",
       " {'jobid': '49261807',\n",
       "  'location': 'Santa Clara Valley',\n",
       "  'title': 'Acquisition and Activation Lead'},\n",
       " {'jobid': '32029700',\n",
       "  'location': 'Santa Clara Valley',\n",
       "  'title': 'Display Mechanical Engineer'},\n",
       " {'jobid': '55655231',\n",
       "  'location': 'Santa Clara Valley',\n",
       "  'title': 'Sr. Financial Analyst - Operations'},\n",
       " {'jobid': '55753360',\n",
       "  'location': 'Santa Clara Valley',\n",
       "  'title': 'Design Integration Engineer'},\n",
       " {'jobid': '49442921',\n",
       "  'location': 'SF - Corporate',\n",
       "  'title': 'Search Ads - Platform Specialist'}]"
      ]
     },
     "execution_count": 29,
     "metadata": {},
     "output_type": "execute_result"
    }
   ],
   "source": [
    "jobs"
   ]
  },
  {
   "cell_type": "code",
   "execution_count": 31,
   "metadata": {
    "collapsed": false
   },
   "outputs": [
    {
     "name": "stdout",
     "output_type": "stream",
     "text": [
      "{'title': 'US-Business Leader', 'location': 'Various', 'jobid': 'USABL'}\n",
      "{'title': 'US-Business Manager', 'location': 'Various', 'jobid': 'USABM'}\n",
      "{'title': 'US-Business Specialist', 'location': 'Various', 'jobid': 'USABS'}\n",
      "{'title': 'US-Apple Store Leader Program', 'location': 'Various', 'jobid': 'USALP'}\n",
      "{'title': 'US-Creative', 'location': 'Various', 'jobid': 'USACR'}\n",
      "{'title': 'US-Expert', 'location': 'Various', 'jobid': 'USAEX'}\n",
      "{'title': 'US-Genius', 'location': 'Various', 'jobid': 'USAGN'}\n",
      "{'title': 'US-Inventory Specialist', 'location': 'Various', 'jobid': 'USAIS'}\n",
      "{'title': 'US-Manager', 'location': 'Various', 'jobid': 'USAMN'}\n",
      "{'title': 'US-Market Leader', 'location': 'Various', 'jobid': 'USAML'}\n",
      "{'title': 'US-Store Leader', 'location': 'Various', 'jobid': 'USASL'}\n",
      "{'title': 'US-Solution Engineer', 'location': 'Various', 'jobid': 'USASE'}\n",
      "{'title': 'US-Specialist', 'location': 'Various', 'jobid': 'USASP'}\n",
      "{'title': 'US-Service Specialist', 'location': 'Various', 'jobid': 'USSS'}\n",
      "{'title': 'US-Senior Manager', 'location': 'Various', 'jobid': 'USSM'}\n",
      "{'title': 'Acquisition and Activation Lead', 'location': 'Santa Clara Valley', 'jobid': '49261807'}\n",
      "{'title': 'Display Mechanical Engineer', 'location': 'Santa Clara Valley', 'jobid': '32029700'}\n",
      "{'title': 'Sr. Financial Analyst - Operations', 'location': 'Santa Clara Valley', 'jobid': '55655231'}\n",
      "{'title': 'Design Integration Engineer', 'location': 'Santa Clara Valley', 'jobid': '55753360'}\n",
      "{'title': 'Search Ads - Platform Specialist', 'location': 'SF - Corporate', 'jobid': '49442921'}\n"
     ]
    }
   ],
   "source": [
    "for job in jobs:\n",
    "    print(job)"
   ]
  },
  {
   "cell_type": "markdown",
   "metadata": {},
   "source": [
    "# Requests module을 사용한 GET 테스트\n",
    "- http://docs.python-requests.org/en/latest\n",
    "- module 설치 명령어\n",
    "<br>$ pip install requests"
   ]
  },
  {
   "cell_type": "code",
   "execution_count": 33,
   "metadata": {
    "collapsed": false
   },
   "outputs": [
    {
     "name": "stdout",
     "output_type": "stream",
     "text": [
      "<bound method Response.json of <Response [200]>>\n"
     ]
    }
   ],
   "source": [
    "r = requests.get('http://api.fixer.io/latest?base=USD')\n",
    "print(r.json)"
   ]
  },
  {
   "cell_type": "code",
   "execution_count": 34,
   "metadata": {
    "collapsed": false
   },
   "outputs": [
    {
     "name": "stdout",
     "output_type": "stream",
     "text": [
      "{\"base\":\"USD\",\"date\":\"2017-02-24\",\"rates\":{\"AUD\":1.3023,\"BGN\":1.8435,\"BRL\":3.0889,\"CAD\":1.3109,\"CHF\":1.0038,\"CNY\":6.869,\"CZK\":25.47,\"DKK\":7.0076,\"GBP\":0.79652,\"HKD\":7.7614,\"HRK\":7.0011,\"HUF\":290.88,\"IDR\":13317.0,\"ILS\":3.6988,\"INR\":66.608,\"JPY\":112.21,\"KRW\":1129.4,\"MXN\":19.694,\"MYR\":4.4405,\"NOK\":8.3292,\"NZD\":1.3867,\"PHP\":50.198,\"PLN\":4.0632,\"RON\":4.2577,\"RUB\":58.105,\"SEK\":8.9724,\"SGD\":1.4037,\"THB\":34.882,\"TRY\":3.581,\"ZAR\":12.915,\"EUR\":0.9426}}\n"
     ]
    }
   ],
   "source": [
    "print(r.text)"
   ]
  },
  {
   "cell_type": "code",
   "execution_count": 36,
   "metadata": {
    "collapsed": false
   },
   "outputs": [
    {
     "name": "stdout",
     "output_type": "stream",
     "text": [
      "200\n"
     ]
    }
   ],
   "source": [
    "print(r.status_code)"
   ]
  },
  {
   "cell_type": "code",
   "execution_count": 37,
   "metadata": {
    "collapsed": false
   },
   "outputs": [
    {
     "name": "stdout",
     "output_type": "stream",
     "text": [
      "[]\n"
     ]
    }
   ],
   "source": [
    "print(r.history)"
   ]
  },
  {
   "cell_type": "markdown",
   "metadata": {},
   "source": [
    "# MBS 테스트"
   ]
  },
  {
   "cell_type": "code",
   "execution_count": 50,
   "metadata": {
    "collapsed": false
   },
   "outputs": [
    {
     "name": "stderr",
     "output_type": "stream",
     "text": [
      "/home/jason/anaconda3/lib/python3.5/site-packages/requests/packages/urllib3/connectionpool.py:838: InsecureRequestWarning: Unverified HTTPS request is being made. Adding certificate verification is strongly advised. See: https://urllib3.readthedocs.io/en/latest/security.html\n",
      "  InsecureRequestWarning)\n"
     ]
    },
    {
     "data": {
      "text/plain": [
       "<Response [200]>"
      ]
     },
     "execution_count": 50,
     "metadata": {},
     "output_type": "execute_result"
    }
   ],
   "source": [
    "requests.get('https://125.144.163.12:8080', verify=False)"
   ]
  },
  {
   "cell_type": "code",
   "execution_count": 2,
   "metadata": {
    "collapsed": false
   },
   "outputs": [
    {
     "ename": "NameError",
     "evalue": "name 'requests' is not defined",
     "output_type": "error",
     "traceback": [
      "\u001b[0;31m---------------------------------------------------------------------------\u001b[0m",
      "\u001b[0;31mNameError\u001b[0m                                 Traceback (most recent call last)",
      "\u001b[0;32m<ipython-input-2-9b5def3d1f46>\u001b[0m in \u001b[0;36m<module>\u001b[0;34m()\u001b[0m\n\u001b[0;32m----> 1\u001b[0;31m \u001b[0ms\u001b[0m \u001b[0;34m=\u001b[0m \u001b[0mrequests\u001b[0m\u001b[0;34m.\u001b[0m\u001b[0mSession\u001b[0m\u001b[0;34m(\u001b[0m\u001b[0;34m)\u001b[0m\u001b[0;34m\u001b[0m\u001b[0m\n\u001b[0m\u001b[1;32m      2\u001b[0m \u001b[0;34m\u001b[0m\u001b[0m\n\u001b[1;32m      3\u001b[0m \u001b[0mjar\u001b[0m \u001b[0;34m=\u001b[0m \u001b[0mrequests\u001b[0m\u001b[0;34m.\u001b[0m\u001b[0mcookies\u001b[0m\u001b[0;34m.\u001b[0m\u001b[0mRequestsCookieJar\u001b[0m\u001b[0;34m(\u001b[0m\u001b[0;34m)\u001b[0m\u001b[0;34m\u001b[0m\u001b[0m\n\u001b[1;32m      4\u001b[0m \u001b[0mjar\u001b[0m\u001b[0;34m.\u001b[0m\u001b[0mset\u001b[0m\u001b[0;34m(\u001b[0m\u001b[0;34m'loginId'\u001b[0m\u001b[0;34m,\u001b[0m\u001b[0;34m'mbsgs2'\u001b[0m\u001b[0;34m,\u001b[0m \u001b[0mdomain\u001b[0m\u001b[0;34m=\u001b[0m\u001b[0;34m'125.144.163.12'\u001b[0m\u001b[0;34m,\u001b[0m \u001b[0mpath\u001b[0m\u001b[0;34m=\u001b[0m\u001b[0;34m'/'\u001b[0m\u001b[0;34m)\u001b[0m\u001b[0;34m;\u001b[0m\u001b[0;34m\u001b[0m\u001b[0m\n\u001b[1;32m      5\u001b[0m \u001b[0mjar\u001b[0m\u001b[0;34m.\u001b[0m\u001b[0mset\u001b[0m\u001b[0;34m(\u001b[0m\u001b[0;34m'ui'\u001b[0m\u001b[0;34m,\u001b[0m\u001b[0;34m'\"{b:xwiwg0yD3mlnYwlC34jo9oRH8WZ4pKVr/e7TsReSKGlWkrBqmcuMSXCJqoFuvvPY0wdNZrdT/vVcr/wJ4fLw5ZnrcsZK2y3Hlw32JzEnsof4pXK1B+rhZ9NuOoM/fQjp23Qbx1Y2k0EXet3eqys40vl1ECobBCyDIZ7Fklg7f21gMn2ilNs0ZUiu8524TmPKIq5zrY9XN5U8ByxfgGZvH6TH1hUTlGblLNan8ypqU+hrJy6nYRdgqMlYn4bMCNdDdeGk2zboLP1gat/kF2sABEYF6KDDQX8IYlvpJtrwNdusVUEzZXgUxILxZ9G/oKcsG8wP2LbzanabwlVK4Vfc2nMrZti3T0nhGULISi3Bezl0oQPfyIgxEY7UdKLmPMER8Uc79BjfcwHupDziaw4CJ4vAroK5F//Qfoa5k3ZCY7uJRyv+AvaBSi9cmspenubAsc7/8XTR70egPKzxumkCQ3dq0IgK1tPVpJsXJTaejsaN4vTSZAlkYe6XIzr7Gu6UwxaFK3Dx693tRvpR8EI6MHwpHo+JxtAZUAlznv19cLxVLU0aKfb9buCYR7FExcnObpvGfEAEf41OX6Ja3dDW9GTBlAT/4NAb+5EMAHrWFDxloqnjw3xz0plG56QVf3oFkZkggZJjsfPmwVk/ZZ526iAaH8pzPf3jYH6URvEzWtaNEwXYrNOAJlPi2roN9vmRyHbdYchZO/BuIiQCXQnMccTfE1vXbxIunVDwChLOjwvGankR54ypeO7qTLgqhSMQnfNrOyVIVUefu5MlgSJEMV3X//rCrUa9sw3Yty1krbLTcYLRZPZWg80vIA/3P7frRfTXoFXRbq+0sJ8CgOX21vVz7zv1CXVOYuydq+1M+OBswuNxgc+S8UnWhmI7mGGyRVbpQYKFBE5zIQTXJjahg4bT9NDZA0VxznOCr48YKQBkiDwP5dER+vfOQPWYRrHNEpYgucS7v3p83zpMg9bi4sWIhDMgP9sRdXHa/CVYM6Cc98K5YSqe8xSBnOkJUVx4tFzxBnLnysl21GiILpfrnVvH64LyA8FF2vnSmjTQs1HkwQvWzrCIoA0KFbCLvUfD1lpISPZKAp9HTKsHG3t2hssCkHiP5Dm3WhyykTLWuMeMIdrp5FZNjgy7jHw9zcy8RsxFcwRaEjsyl1f7HdYLeitX6265EchXVOGn+FC+fYsQxAVPvJFa+JwwRGHP4IwkC2gfgmR4yvk8QM+gtULYYg==,s:QN0zH34vblDXush9JRT+itzRg5HADZzfooHErFO31qLeQV+K39XY8l838E8gufdiYkwTPUKX2H3TrFi6cU5l0keX6TjC0OTXKg2wgYx/wWiWYQiN46fF7CqPxESPIosPBlH2SDVhWISNJ1GBO7/imOSxUdnG+4Sx18gtlVqBt6Q=}\"'\u001b[0m\u001b[0;34m,\u001b[0m \u001b[0mdomain\u001b[0m\u001b[0;34m=\u001b[0m\u001b[0;34m'125.144.163.12'\u001b[0m\u001b[0;34m,\u001b[0m \u001b[0mpath\u001b[0m\u001b[0;34m=\u001b[0m\u001b[0;34m'/'\u001b[0m\u001b[0;34m)\u001b[0m\u001b[0;34m;\u001b[0m\u001b[0;34m\u001b[0m\u001b[0m\n",
      "\u001b[0;31mNameError\u001b[0m: name 'requests' is not defined"
     ]
    }
   ],
   "source": [
    "s = requests.Session()\n",
    "\n",
    "jar = requests.cookies.RequestsCookieJar()\n",
    "jar.set('loginId','mbsgs2', domain='125.144.163.12', path='/');\n",
    "jar.set('ui','\"{b:xwiwg0yD3mlnYwlC34jo9oRH8WZ4pKVr/e7TsReSKGlWkrBqmcuMSXCJqoFuvvPY0wdNZrdT/vVcr/wJ4fLw5ZnrcsZK2y3Hlw32JzEnsof4pXK1B+rhZ9NuOoM/fQjp23Qbx1Y2k0EXet3eqys40vl1ECobBCyDIZ7Fklg7f21gMn2ilNs0ZUiu8524TmPKIq5zrY9XN5U8ByxfgGZvH6TH1hUTlGblLNan8ypqU+hrJy6nYRdgqMlYn4bMCNdDdeGk2zboLP1gat/kF2sABEYF6KDDQX8IYlvpJtrwNdusVUEzZXgUxILxZ9G/oKcsG8wP2LbzanabwlVK4Vfc2nMrZti3T0nhGULISi3Bezl0oQPfyIgxEY7UdKLmPMER8Uc79BjfcwHupDziaw4CJ4vAroK5F//Qfoa5k3ZCY7uJRyv+AvaBSi9cmspenubAsc7/8XTR70egPKzxumkCQ3dq0IgK1tPVpJsXJTaejsaN4vTSZAlkYe6XIzr7Gu6UwxaFK3Dx693tRvpR8EI6MHwpHo+JxtAZUAlznv19cLxVLU0aKfb9buCYR7FExcnObpvGfEAEf41OX6Ja3dDW9GTBlAT/4NAb+5EMAHrWFDxloqnjw3xz0plG56QVf3oFkZkggZJjsfPmwVk/ZZ526iAaH8pzPf3jYH6URvEzWtaNEwXYrNOAJlPi2roN9vmRyHbdYchZO/BuIiQCXQnMccTfE1vXbxIunVDwChLOjwvGankR54ypeO7qTLgqhSMQnfNrOyVIVUefu5MlgSJEMV3X//rCrUa9sw3Yty1krbLTcYLRZPZWg80vIA/3P7frRfTXoFXRbq+0sJ8CgOX21vVz7zv1CXVOYuydq+1M+OBswuNxgc+S8UnWhmI7mGGyRVbpQYKFBE5zIQTXJjahg4bT9NDZA0VxznOCr48YKQBkiDwP5dER+vfOQPWYRrHNEpYgucS7v3p83zpMg9bi4sWIhDMgP9sRdXHa/CVYM6Cc98K5YSqe8xSBnOkJUVx4tFzxBnLnysl21GiILpfrnVvH64LyA8FF2vnSmjTQs1HkwQvWzrCIoA0KFbCLvUfD1lpISPZKAp9HTKsHG3t2hssCkHiP5Dm3WhyykTLWuMeMIdrp5FZNjgy7jHw9zcy8RsxFcwRaEjsyl1f7HdYLeitX6265EchXVOGn+FC+fYsQxAVPvJFa+JwwRGHP4IwkC2gfgmR4yvk8QM+gtULYYg==,s:QN0zH34vblDXush9JRT+itzRg5HADZzfooHErFO31qLeQV+K39XY8l838E8gufdiYkwTPUKX2H3TrFi6cU5l0keX6TjC0OTXKg2wgYx/wWiWYQiN46fF7CqPxESPIosPBlH2SDVhWISNJ1GBO7/imOSxUdnG+4Sx18gtlVqBt6Q=}\"', domain='125.144.163.12', path='/');"
   ]
  },
  {
   "cell_type": "code",
   "execution_count": 126,
   "metadata": {
    "collapsed": false
   },
   "outputs": [
    {
     "name": "stdout",
     "output_type": "stream",
     "text": [
      "cookies {'JSESSIONID': '5083483DFE5901C1D4EDBDF94C901660'}\n",
      "{'JSESSIONID': '5083483DFE5901C1D4EDBDF94C901660'}\n"
     ]
    },
    {
     "name": "stderr",
     "output_type": "stream",
     "text": [
      "/home/jason/anaconda3/lib/python3.5/site-packages/requests/packages/urllib3/connectionpool.py:838: InsecureRequestWarning: Unverified HTTPS request is being made. Adding certificate verification is strongly advised. See: https://urllib3.readthedocs.io/en/latest/security.html\n",
      "  InsecureRequestWarning)\n"
     ]
    }
   ],
   "source": [
    "payload = {'lastTime':'20170225163220', 'screenType':'S', '_':'1487555109721'}\n",
    "\n",
    "r = s.get('https://125.144.163.12:8080/chart/rangeInterestCh.do', params=payload, cookies=jar, headers = {\n",
    "    'accept': 'application/json',\n",
    "    'accept-encoding': 'gzip, deflate', \n",
    "    'accept-language': 'en-US,en;q=0.8',\n",
    "    'User-Agent': 'Mozilla/5.0 (X11; Linux x86_64) AppleWebKit/537.36 (KHTML, like Gecko) Chrome/52.0.2743.116 Safari/537.36',\n",
    "    'X-Requested-With':'XMLHttpRequest'\n",
    "}, verify=False)\n",
    "\n",
    "print('cookies', requests.utils.dict_from_cookiejar(s.cookies))\n",
    "print(s.cookies.get_dict())"
   ]
  },
  {
   "cell_type": "code",
   "execution_count": 127,
   "metadata": {
    "collapsed": false
   },
   "outputs": [
    {
     "name": "stdout",
     "output_type": "stream",
     "text": [
      "https://125.144.163.12:8080/chart/rangeInterestCh.do?lastTime=20170225163220&_=1487555109721&screenType=S\n"
     ]
    }
   ],
   "source": [
    "print(r.url)"
   ]
  },
  {
   "cell_type": "code",
   "execution_count": 128,
   "metadata": {
    "collapsed": false
   },
   "outputs": [
    {
     "name": "stdout",
     "output_type": "stream",
     "text": [
      "{'accept-encoding': 'gzip, deflate', 'accept': 'application/json', 'Cookie': 'loginId=mbsgs2; ui=\"{\"b\":\"bR4ITepecuyRHDYv+hYk9c8/yK6Gysh6YMeig6RU75jpiVwokm0H8NZP1sO6iVO6oJjYRtHKsXfumfdXY5j7MlI1hi60dgzHzvNr3w4dkYCUe5+44/9tVOrX6PHhfqzA3JIW0y28tPtQw7A7c0bIOgTtU/KsKIYvxNBqJhrFvklUNbtlJ/Kj1uuXXf5lzI8Gq9ghyGG4PdnsV0OXVjjMRHz3DfyaU4Rf4pXR3O6vV9DjT5wQsp21ViQlEegrlGQzNoivj2IkIzxNxBnCCUQhkldD/wnTmRGuuPL/maGW6yRaJldh/itZ7qjosrXASZKAOg2AH/VPO9vD5QNDD37GwxhcowKFX94HMb6KkmirwwOXs0JpOo58CQJ1JMdGpq+mj9vkC2UuQxATlBNVu3R2EOHxSrmOoPOk5MFbPWApRrcYk6IDuYmlpWKXws8Pg/iedvH2e09OoRbZ2x4K0hM2//m/1srQb+ZoC1Pc2nAYPJ47wRtQCRO2LZ0a/EeTcdr1LiHbqUyaErIJsGx0fqj2Mh4mvMwLnYODACoPPeaxBvc6xh/FzwCl36Ty69VG2Oji0kKMqfZIhpx8SfmHeu94pL4JcANLGiw4rWYIqTQMxabCw74RXm2b7C/INGPcl+YiUWzP+QXzxACGrqbYhXateQ/+zaYoXPcTqRe7wzY1XJZMaTSmgRhq765tShPma/komYe6p5Htsp2/sxznaGokwu/0YtOFNRrgvMLA88Wk85tj3CRMbixLlwnaAkt///7Zf7XnR7MtPAE7LoeeF8LKpBdn0vpmLfjJFuQjuiuU2Q4zG5NRAJG/tSMcNJiSWJ4S3G8TcsjOoGa5cSUlgi1fXquoXDEs3XN52JKWc7wygjFlpLb0mNL0JguzKNHJ/y/T19CMPsamJRAlZMEzAQwIgHbIhtZ/2NmrzB/SWDPeRf/S+rGgIOUT/A10IKvkxHq+515S2ISJlce/2gqJFLP9YBPCs+qhLBd1B0L0M5ALp35i6cDk/QvzCs/6jW3iGY0kF8y6wFp8ZT/ZWaLIH5whDMctRnG/2t7eKSn6wDsiN5ZvIE/hOiZuYFHboe8EAeXgGqBopHJrPUbWhk1cnlAVagQzAlHohkXi6+oQ/ZChJQ2JunAIw5wRXGti2rCtLdBLEsEnNG9yjDXlXkCvUBpsTd6JKtUtTRExVfUdNN5mkVKdSKMLs0QFHLAPsD5RAeppM60liDs0vtbEDumKzBIEew==\",\"s\":\"KeUjaR2B+ivfhheZsf0SPKFqAOdV9VUXJVspu27hK7VUnfBw//5cMvNoLiJP3BBkpQV8OFU+MDkPMk7tei2ty+bf9gvS+tFURSXEEB7atJyZqmC/6/bJxi47F4D6VB3AVHi/9/HHDKGgCi1U+GuEmi7CVe6XAChKWml1aI/WwLo=\"}\"', 'User-Agent': 'Mozilla/5.0 (X11; Linux x86_64) AppleWebKit/537.36 (KHTML, like Gecko) Chrome/52.0.2743.116 Safari/537.36', 'X-Requested-With': 'XMLHttpRequest', 'accept-language': 'en-US,en;q=0.8', 'Connection': 'keep-alive'}\n"
     ]
    }
   ],
   "source": [
    "print(r.request.headers)"
   ]
  },
  {
   "cell_type": "code",
   "execution_count": 131,
   "metadata": {
    "collapsed": false
   },
   "outputs": [
    {
     "name": "stdout",
     "output_type": "stream",
     "text": [
      "\n",
      "\r\n",
      "\r\n",
      "\r\n",
      "\r\n",
      "\r\n",
      "\n",
      "<!DOCTYPE HTML>\n",
      "<html>\n",
      "<head>\n",
      "<script type=\"text/javascript\">\n",
      "function fnCmmnPringMsg(msg){\n",
      "\tif(msg || msg != \"\") alert(msg);\n",
      "}\n",
      "/* 메세지 출력 */\n",
      "fnCmmnPringMsg(\"로그인을 해주세요.\");\n",
      "</script>\n",
      "<title></title>\n",
      "\t<meta http-equiv=\"REFRESH\" content=\"0;url=/login.do\">\n",
      "</HEAD>\n",
      "<body>\n",
      "</body>\n",
      "</html>\n"
     ]
    }
   ],
   "source": [
    "print(r.text)"
   ]
  },
  {
   "cell_type": "markdown",
   "metadata": {},
   "source": [
    "# 쿠키 Access하기"
   ]
  },
  {
   "cell_type": "code",
   "execution_count": 97,
   "metadata": {
    "collapsed": false
   },
   "outputs": [
    {
     "name": "stderr",
     "output_type": "stream",
     "text": [
      "/home/jason/anaconda3/lib/python3.5/site-packages/requests/packages/urllib3/connectionpool.py:838: InsecureRequestWarning: Unverified HTTPS request is being made. Adding certificate verification is strongly advised. See: https://urllib3.readthedocs.io/en/latest/security.html\n",
      "  InsecureRequestWarning)\n"
     ]
    },
    {
     "data": {
      "text/plain": [
       "<Response [200]>"
      ]
     },
     "execution_count": 97,
     "metadata": {},
     "output_type": "execute_result"
    }
   ],
   "source": [
    "s = requests.Session()\n",
    "s.auth()\n",
    "s.get('https://125.144.163.12:8080/home/homeMain.do', verify=False)"
   ]
  },
  {
   "cell_type": "code",
   "execution_count": null,
   "metadata": {
    "collapsed": true
   },
   "outputs": [],
   "source": [
    "payload = {'lastTime':'20170225163220', 'screenType':'S', '_':'1487555109721'}\n",
    "\n",
    "r = requests.get('https://125.144.163.12:8080/chart/rangeInterestCh.do', params=payload, cookies=jar, headers = {\n",
    "    'accept': 'application/json',\n",
    "    'accept-encoding': 'gzip, deflate', \n",
    "    'accept-language': 'en-US,en;q=0.8',https://125.144.163.12:8080/chart/rangeInterestCh.do?lastTime=20170225163220&_=1487555109721&screenType=S\n",
    "    'User-Agent': 'Mozilla/5.0 (X11; Linux x86_64) AppleWebKit/537.36 (KHTML, like Gecko) Chrome/52.0.2743.116 Safari/537.36',\n",
    "    'X-Requested-With':'XMLHttpRequest'\n",
    "}, verify=False)"
   ]
  },
  {
   "cell_type": "markdown",
   "metadata": {},
   "source": [
    "# 로그인하기"
   ]
  },
  {
   "cell_type": "code",
   "execution_count": 75,
   "metadata": {
    "collapsed": false
   },
   "outputs": [],
   "source": [
    "jar = requests.cookies.RequestsCookieJar()\n",
    "jar.set('loginId','mbsgs2', domain='125.144.163.12', path='/');"
   ]
  },
  {
   "cell_type": "code",
   "execution_count": 136,
   "metadata": {
    "collapsed": true
   },
   "outputs": [],
   "source": [
    "loginPayload = {\n",
    "    'loginId':'mbsgs2',\n",
    "    'loginPw':'mbsgspw45@',\n",
    "    'channel':'on'\n",
    "}"
   ]
  },
  {
   "cell_type": "code",
   "execution_count": 137,
   "metadata": {
    "collapsed": false
   },
   "outputs": [
    {
     "name": "stderr",
     "output_type": "stream",
     "text": [
      "/home/jason/anaconda3/lib/python3.5/site-packages/requests/packages/urllib3/connectionpool.py:838: InsecureRequestWarning: Unverified HTTPS request is being made. Adding certificate verification is strongly advised. See: https://urllib3.readthedocs.io/en/latest/security.html\n",
      "  InsecureRequestWarning)\n",
      "/home/jason/anaconda3/lib/python3.5/site-packages/requests/packages/urllib3/connectionpool.py:838: InsecureRequestWarning: Unverified HTTPS request is being made. Adding certificate verification is strongly advised. See: https://urllib3.readthedocs.io/en/latest/security.html\n",
      "  InsecureRequestWarning)\n"
     ]
    }
   ],
   "source": [
    "r = requests.post('https://125.144.163.12:8080/doLogin.do', data=loginPayload, verify=False)"
   ]
  },
  {
   "cell_type": "code",
   "execution_count": 138,
   "metadata": {
    "collapsed": false,
    "scrolled": true
   },
   "outputs": [
    {
     "data": {
      "text/plain": [
       "{'Accept-Encoding': 'gzip, deflate', 'User-Agent': 'python-requests/2.11.1', 'Accept': '*/*', 'Connection': 'keep-alive', 'Cookie': 'JSESSIONID=A4A57F19A26F62512A5B29DC63C52A6D; ui=\"{b:PR5DoMJg6ovBchVtNJDI0qEqxAV8LEJj1Ji4mllDSFlmAHJPZ7mlTevOSNSxUNA2M24aVSqyof/JmXXKC6aCvnqx06W9Tw6xOwARiu8J73mxvxEffILckmvbcMGc3McWFcFpyxMLT7GF7sYNGH4aziPtwln8//AnHhz/Aklr1Nw1dPpRhTJNNia0UmLB7wcCf+sjdqTjSnoXPocsbUnJ6FH+bbzzFtd1IwZMKVb9Vdbi5R1LS5D/wcnsIAcwkRWWbED0Gooscxu20xRFMLBpfjXSzo3utm4fLlcad/mUrUIvP9IvCvfY2WjY0kajM9XO/VMFApI9TipEUB+dT3htFNwaUMh8W2OOXcPaVFxeF+lBkT4owPLDCIbghHbeGgfkSGTaKAf/DVCf36uI9OQDFpfzhUTcXRw3zPThdB+7GCackZgYyk1iaEr4xyfb+RQfqV4OEQLfW/2dgvRL2J7jLmYavAaqj15aLvc/2M2auqJ+wvjM7xGEJ5rq9lKn+ys+htyWJU0exe8DP8X2KqU9fi6Ghn+UZJRTu22DgJnYYyOdaXgi2PPdI+qhtcIDxvXutW3vDR8UptgxXxm4exLg2QNjxKCI2CRYg3CoA82v+00N0ARydXn8/y2hNsUTWl2F2johEJJtreEpLP/eKjPiIW4q6dpi7Ajczz1SaaIL3p6Ibzc5xD+CYq2o93Y/gs+fjkRvlQhPzC0POL1hI1LERnfOrlrtCNnSRyYwkR/wX+yD+sTTE56QC31fe9C4URdvuSQw79Rzy36A69fngdM3PCx9+NjDz/W7WZoADj0QUpdoolEvb4KN19TTwxkopWeywemPMH4YoaWCAiN6SuZYMJY0rGgwTLpjG0+CUCHbMgJCvapw1JNQMveaE2v02Zsf0axyKvPjMPLVAnPehjB48i8R0j6sIfLA+7VRqAf4Pk4vJcKFZi1W9LJ3FSLl3UveLUrEWi0eLUQjNiidflN3J1d41v5Zzl3A8P9QAjBAzmVW79q2KIzSSjmxtYn1DJ0seaEPLYWp96jBC2PL4Kxh9xD83Z5FxDg207mUCYt1m2YSfx40FI7kO7ZozqGjUEJSbRVMmx7ljwF6MgObLYKl4BbEBJTMReBejUj4SD1oIQwNNwpg63x7S1M4meAB9m4/LU/6Nav0nVvRu2rZ/odtiI1icbC5tB4syUjaovMaZtpnwicsknogT7qDo6E2h9Rjyp2EBSANmkisRguYZXtV0w==,s:fVcskTsJHcafcIuJO2cVBYmLBJG9pJV/V2p5AIjSKe6H31xCnbJbDGZelttmsqlAQ4SRRRvn3QANo5YBa71DErWRSdW8CVj/zkZQOmnlTdLr0BV0KJq9to4WyFYg3/geUIdJ9YaHim7P3qXYyyaYr+BZq98uosNCLJ8AteEJV9U=}\"'}"
      ]
     },
     "execution_count": 138,
     "metadata": {},
     "output_type": "execute_result"
    }
   ],
   "source": [
    "r.request.headers"
   ]
  },
  {
   "cell_type": "code",
   "execution_count": 141,
   "metadata": {
    "collapsed": false
   },
   "outputs": [
    {
     "name": "stdout",
     "output_type": "stream",
     "text": [
      "\n",
      "\r\n",
      "\r\n",
      "\r\n",
      "\r\n",
      "\r\n",
      "\n",
      "<!DOCTYPE html>\n",
      "<html xmlns=\"http://www.w3.org/1999/xhtml\" xml:lang=\"ko\" lang=\"ko\">\n",
      "<head>\n",
      "\t<meta http-equiv=\"content-type\" content=\"text/html; charset=utf-8\"/>\n",
      "\t\r\n",
      "\r\n",
      "\r\n",
      "\r\n",
      "\r\n",
      "\r\n",
      "<link rel=\"stylesheet\" href=\"/resources/css/normalize.css?ver=20170125\">\r\n",
      "<link rel=\"stylesheet\" href=\"/resources/css/style.css?ver=20170217\">\r\n",
      "<link rel=\"stylesheet\" href=\"/resources/css/jquery.loading-indicator.css?ver=20170125\">\r\n",
      "<!--[if lte IE 9]><link rel=\"stylesheet\" href=\"/resources/css/ie9.css\"><![endif]-->\r\n",
      "<script src=\"/resources/bower/jquery/jquery.min.js?ver=20170125\"></script>\r\n",
      "<script src=\"/resources/bower/jquery/jquery-migrate.min.js?ver=20170125\"></script>\r\n",
      "<script src=\"/resources/bower/jquery-ui/ui/minified/jquery-ui.custom.min.js?ver=20170125\"></script>\r\n",
      "<script src=\"/resources/js/front.js?ver=20170125\"></script>\r\n",
      "<script src=\"/resources/js/common.js?ver=20170125\"></script>\r\n",
      "<script src=\"/resources/js/jquery.loading-indicator.js?ver=20170125\"></script>\r\n",
      "<script src=\"/resources/js/ch.color.map.js?ver=20170125\"></script>\r\n",
      "<script src=\"/resources/js/jquery.fileDownload.js?ver=20170125\"></script>\r\n",
      "<script src=\"/resources/js/jquery.cookie.js\"></script>\r\n",
      "<!--[if lt IE 9]>\r\n",
      "<script src=\"/resources/bower/ie9-js/lib/IE9.js\"></script>\r\n",
      "<script src=\"/resources/bower/respond/dest/respond.min.js\"></script>\r\n",
      "<script src=\"/resources/bower/html5shiv/dist/html5shiv.min.js\"></script>\r\n",
      "<![endif]-->\n",
      "\t<title>MBS</title>\n",
      "\t\n",
      "<script type=\"text/javascript\">\n",
      "function fnCmmnPringMsg(msg){\n",
      "\tif(msg || msg != \"\") alert(msg);\n",
      "}\n",
      "/* 메세지 출력 */\n",
      "fnCmmnPringMsg(\"로그인을 해주세요.\");\n",
      "</script>\n",
      "\n",
      "\t<meta http-equiv=\"REFRESH\" content=\"0;url=/login.do\">\n",
      "\n",
      "\t<script type=\"text/javascript\">\n",
      "\t\n",
      "\t</script>\n",
      "</head>\n",
      "\n",
      "<body>\n",
      "<div class=\"wrapper\">\n",
      "\t\r\n",
      "\r\n",
      "\r\n",
      "\r\n",
      "\r\n",
      "\r\n",
      "\r\n",
      "\r\n",
      "<script type=\"text/javascript\">\r\n",
      "$(document).ready(function(){\r\n",
      "\trealtimeClock();\r\n",
      "\topenNoticePopup();\r\n",
      "});\r\n",
      "\r\n",
      "function doLogout(){\r\n",
      "\tif(confirm(\"로그아웃 하시겠습니까?\")){\r\n",
      "\t\tlocation.href = \"/doLogout.do\";\r\n",
      "\t}\r\n",
      "}\r\n",
      "\r\n",
      "function goLogin(){\r\n",
      "\tlocation.href=\"/login.do\";\r\n",
      "}\r\n",
      "\r\n",
      "function goChangePw(){\r\n",
      "\tlocation.href=\"/changePw.do\";\r\n",
      "}\r\n",
      "\r\n",
      "function realtimeClock() {\r\n",
      "\t  //document.rtcForm.rtcInput.value = getTimeStamp();\r\n",
      "\t  $(\"#serverTime\").html(getTimeStamp());\r\n",
      "\t  setTimeout(\"realtimeClock()\", 1000);\r\n",
      "\t}\r\n",
      "\r\n",
      "\r\n",
      "\tfunction getTimeStamp() { // 24시간제\r\n",
      "\t  //var d = new Date();\r\n",
      "\t  var d = COMMON.fnStringTodate(\"\");\r\n",
      "\r\n",
      "\t  var s =\r\n",
      "\t    leadingZeros(d.getFullYear(), 4) + '-' +\r\n",
      "\t    leadingZeros(d.getMonth() + 1, 2) + '-' +\r\n",
      "\t    leadingZeros(d.getDate(), 2) + ' ' +\r\n",
      "\r\n",
      "\t    leadingZeros(d.getHours(), 2) + ':' +\r\n",
      "\t    leadingZeros(d.getMinutes(), 2);\r\n",
      "\t    // + ':' + leadingZeros(d.getSeconds(), 2);\r\n",
      "\r\n",
      "\t  return s;\r\n",
      "\t}\r\n",
      "\r\n",
      "\r\n",
      "\tfunction leadingZeros(n, digits) {\r\n",
      "\t  var zero = '';\r\n",
      "\t  n = n.toString();\r\n",
      "\r\n",
      "\t  if (n.length < digits) {\r\n",
      "\t    for (i = 0; i < digits - n.length; i++)\r\n",
      "\t      zero += '0';\r\n",
      "\t  }\r\n",
      "\t  return zero + n;\r\n",
      "\t}\r\n",
      "\t\r\n",
      "\t// 공지사항 팝업 오픈\t\r\n",
      "\tfunction openNoticePopup(){\r\n",
      "\t\t$(\"#popNotice\").load(\"/notice/noticePopup.do\", null, function(){\r\n",
      "\t\t\t\r\n",
      "\t\t});\r\n",
      "\t}\r\n",
      "</script>\r\n",
      "<!-- 레이어팝업 | 공지사항 -->\r\n",
      "<div class=\"layer_popup\" id=\"popNotice\">\r\n",
      "</div>\r\n",
      "<!-- // .layer_popup -->\r\n",
      "\t<div id=\"header\">\r\n",
      "\t\t<div class=\"top\">\r\n",
      "\t\t\t<div class=\"inside_wrap\">\r\n",
      "\t\t\t\t<div class=\"system_name clear\">\r\n",
      "\t\t\t\t\t<h1><img src=\"/resources/img/common/logo_mbs.png\" alt=\"MBS\"></h1>\r\n",
      "\t\t\t\t\t<p><img src=\"/resources/img/common/txt_header2.png\" alt=\"Media Big-Data System\">\r\n",
      "\t\t\t\t</div>\r\n",
      "\t\t\t\t<div class=\"login_info clear\">\r\n",
      "\t\t\t\t\t\r\n",
      "\t\t\t\t\t\r\n",
      "\t\t\t\t\t<div class=\"login_before\">\r\n",
      "\t\t\t\t\t\t<div class=\"manager_info clear\">\r\n",
      "\t\t\t\t\t\t\t<p>\r\n",
      "\t\t\t\t\t\t\t\t<strong>Today</strong>\r\n",
      "\t\t\t\t\t\t\t\t<span class=\"date\" id=\"serverTime\"></span>\r\n",
      "\t\t\t\t\t\t\t</p>\r\n",
      "\t\t\t\t\t\t\t<p class=\"welcome_message\">로그인 해주세요.</p>\r\n",
      "\t\t\t\t\t\t</div>\r\n",
      "\t\t\t\t\t\t<div class=\"btn_login\">\r\n",
      "\t\t\t\t\t\t\t<button type=\"button\" class=\"btn btn_dblue\" onclick=\"goLogin()\">로그인</button>\r\n",
      "\t\t\t\t\t\t</div>\r\n",
      "\t\t\t\t\t</div>\r\n",
      "\t\t\t\t\t\r\n",
      "\t\t\t\t</div>\r\n",
      "\t\t\t</div>\r\n",
      "\t\t</div>\r\n",
      "\t\t<!-- !.top -->\r\n",
      "\r\n",
      "\t\t<div class=\"gnb\">\r\n",
      "\t\t\t<div class=\"inside_wrap\">\r\n",
      "\t\t\t\t<ul class=\"gnb_main\">\r\n",
      "\t\t\t\t\t<li class=\"act\">\r\n",
      "\t\t\t\t\t\t<a href=\"/home/homeMain.do\">HOME</a>\r\n",
      "\t\t\t\t\t</li>\r\n",
      "\t\t\t\t\t<li >\r\n",
      "\t\t\t\t\t\t<a href=\"/dashboard/dashboardMain.do\">Dashboard</a>\r\n",
      "\t\t\t\t\t</li>\r\n",
      "\t\t\t\t\t<li >\r\n",
      "\t\t\t\t\t\t<a href=\"/realtime/prgmMain.do\">실시간 시청행태</a>\r\n",
      "\t\t\t\t\t\t<ul class=\"gnb_sub\">\r\n",
      "\t\t\t\t\t\t\t<li>\r\n",
      "\t\t\t\t\t\t\t\t<a href=\"/realtime/prgmMain.do\">프로그램별</a>\r\n",
      "\t\t\t\t\t\t\t</li>\r\n",
      "\t\t\t\t\t\t\t<li>\r\n",
      "\t\t\t\t\t\t\t\t<a href=\"/realtime/regnMain.do\">지역별</a>\r\n",
      "\t\t\t\t\t\t\t</li>\r\n",
      "\t\t\t\t\t\t\t<li>\r\n",
      "\t\t\t\t\t\t\t\t<a href=\"/realtime/chCompareMain.do\" class=\"wsp_02\">채널 비교</a>\r\n",
      "\t\t\t\t\t\t\t</li>\r\n",
      "\t\t\t\t\t\t</ul>\r\n",
      "\t\t\t\t\t</li>\r\n",
      "\t\t\t\t\t<li >\r\n",
      "\t\t\t\t\t\t<a href=\"/timely/channel/hourlyMain.do\">유형별 시청행태</a>\r\n",
      "\t\t\t\t\t\t<ul class=\"gnb_sub\">\r\n",
      "\t\t\t\t\t\t\t<li>\r\n",
      "\t\t\t\t\t\t\t\t<a href=\"/timely/channel/hourlyMain.do\">채널</a>\r\n",
      "\t\t\t\t\t\t\t</li>\r\n",
      "\t\t\t\t\t\t\t<li>\r\n",
      "\t\t\t\t\t\t\t\t<a href=\"/timely/prgm/prgmMain.do\">프로그램별</a>\r\n",
      "\t\t\t\t\t\t\t</li>\r\n",
      "\t\t\t\t\t\t\t<li>\r\n",
      "\t\t\t\t\t\t\t\t<a href=\"/timely/regn/regnMain.do\">지역별</a>\r\n",
      "\t\t\t\t\t\t\t</li>\r\n",
      "\t\t\t\t\t\t\t<!-- \r\n",
      "\t\t\t\t\t\t\t<li>\r\n",
      "\t\t\t\t\t\t\t\t<a href=\"/timely/compare/compareMain.do\" class=\"wsp_02\">채널 비교</a>\r\n",
      "\t\t\t\t\t\t\t</li>\r\n",
      "\t\t\t\t\t\t\t -->\r\n",
      "\t\t\t\t\t\t</ul>\r\n",
      "\t\t\t\t\t</li>\r\n",
      "\t\t\t\t\t<li >\r\n",
      "\t\t\t\t\t\t<a href=\"/notice/noticeMain.do\">공지사항</a>\r\n",
      "\t\t\t\t\t</li>\r\n",
      "\t\t\t\t</ul>\r\n",
      "\t\t\t</div>\r\n",
      "\t\t</div>\r\n",
      "\t\t<!-- !.gnb -->\r\n",
      "\r\n",
      "\t</div>\r\n",
      "\t<!-- !#header -->\n",
      "\t\n",
      "\n",
      "\t\r\n",
      "\r\n",
      "\r\n",
      "\r\n",
      "\r\n",
      "\r\n",
      "\r\n",
      "\t<div id=\"footer\">\r\n",
      "\t\t<div class=\"inside_wrap clear\">\r\n",
      "\t\t\t<div class=\"company_info kt_company_info\">\r\n",
      "\t\t\t\t<h6><a href=\"\"><img src=\"/resources/img/common/logo_gray_kt.png\" alt=\"KT\"></a></h6>\r\n",
      "\t\t\t\t<p class=\"copyright\">\r\n",
      "\t\t\t\t\t(주)케이티 대표이사 황창규 / 사업자등록번호102-81-42945 <span class=\"divider\">/</span> 케이티 통신판매업신고2002-경기성남-0048\r\n",
      "\t\t\t\t\t<br>13606 경기도 성남시 분당구 불정로 90 (정자동 206번지) / TEL국번없이 100 (무료)\r\n",
      "\t\t\t\t\t<br>Copyright &copy; 2011 - 2016 kt corp. All rights reserved.\r\n",
      "\t\t\t\t</p>\r\n",
      "\t\t\t</div>\r\n",
      "\t\t\t<div class=\"company_info skylife_company_info\">\r\n",
      "\t\t\t\t<h6><a href=\"\"><img src=\"/resources/img/common/logo_gray_sl.png\" alt=\"skylife\"></a></h6>\r\n",
      "\t\t\t\t<p class=\"copyright\">\r\n",
      "\t\t\t\t\t대표이사 이남기 / 사업자등록번호 117-81-31120 <span class=\"divider\">/</span> 통신판매업 신고번호 2013-서울마포-1528\r\n",
      "\t\t\t\t\t<br>서울특별시 마포구 매봉산로 75 DDMC 빌딩 8,9층\r\n",
      "\t\t\t\t\t<br>Copyright &copy; 2013 by KT Skylife Co., Ltd. All Rights Reserved.\r\n",
      "\t\t\t\t</p>\r\n",
      "\t\t\t</div>\r\n",
      "\t\t</div>\r\n",
      "\t</div>\r\n",
      "\t<!-- !#footer -->\n",
      "</div>\n",
      "\n",
      "<!-- 레이어팝업 | 알럿팝업 -->\n",
      "<div class=\"layer_popup\" id=\"alertPopup\">\n",
      "\t<div class=\"layer_bg\"></div>\n",
      "\t<div class=\"popup\">\n",
      "\t\t<div class=\"pop_basic\">\n",
      "\t\t\t<div class=\"pop_content\">\n",
      "\t\t\t\t<div class=\"request_ment\">\n",
      "\t\t\t\t\t<p id=\"alertPopupTxt\">\n",
      "\t\t\t\t\t</p>\n",
      "\t\t\t\t</div>\n",
      "\t\t\t\t<div class=\"action\">\n",
      "\t\t\t\t\t<a href=\"#popCouonInqBtn\" onclick=\"closePop('#alertPopup');\" class=\"btn btn_blue pop_cls\">확인</a>\n",
      "\t\t\t\t</div>\n",
      "\t\t\t</div>\n",
      "\t\t\t<!-- // .pop_content -->\n",
      "\t\t</div>\n",
      "\t\t<!-- // .pop_basic -->\n",
      "\n",
      "\t</div>\n",
      "\t<!-- // .popup -->\n",
      "\n",
      "</div>\n",
      "<!-- // .layer_popup -->\n",
      "\n",
      "</body>\n",
      "</html>\n"
     ]
    }
   ],
   "source": [
    "print(r.text)"
   ]
  },
  {
   "cell_type": "code",
   "execution_count": null,
   "metadata": {
    "collapsed": true
   },
   "outputs": [],
   "source": []
  }
 ],
 "metadata": {
  "anaconda-cloud": {},
  "kernelspec": {
   "display_name": "Python [default]",
   "language": "python",
   "name": "python3"
  },
  "language_info": {
   "codemirror_mode": {
    "name": "ipython",
    "version": 3
   },
   "file_extension": ".py",
   "mimetype": "text/x-python",
   "name": "python",
   "nbconvert_exporter": "python",
   "pygments_lexer": "ipython3",
   "version": "3.5.2"
  }
 },
 "nbformat": 4,
 "nbformat_minor": 1
}
